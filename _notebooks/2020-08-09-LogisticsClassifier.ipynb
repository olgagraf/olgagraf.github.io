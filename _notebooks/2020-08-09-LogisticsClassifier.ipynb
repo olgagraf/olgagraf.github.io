{
 "cells": [
  {
   "cell_type": "markdown",
   "metadata": {},
   "source": [
    "# Distinguish Your Own Digits (DYOD)\n",
    "\n",
    "> How do you create your own classifer neural network from scratch? \n",
    "\n",
    "- author: Sakthisree"
   ]
  },
  {
   "cell_type": "markdown",
   "metadata": {},
   "source": [
    "Hola!\n",
    "\n",
    "![](my_icons/hi.jpg)\n",
    "\n",
    "As part of the Univ.ai KTF-1 course, I created this solution for one of the project questions. \n",
    "\n",
    "### Write a classifier that distinguishes the number 8 & number 3.\n",
    "\n",
    "Gee. This might seem like a really simple question as first. \n",
    "\n",
    ">\"Well, let's use scikit learn and all the other libraries we have and create a classifier in 3 lines.\"\n",
    "\n",
    "But no. Let's use the Kudzu library - which I coded from scratch - where all the implementation for running a neural network is written from scratch. \n",
    "\n",
    "Credits to Rahul (& of course, Joe Grus) for wonderfully showing how simple a neural network can be coded. \n",
    "\n",
    "Throughout this project, I make use of the Kudzu libray to run the models. \n",
    "\n",
    "Towards the end, you can also see a visualization of how the computer \"splits\" 3 & 8. \n",
    "\n",
    "Some of the things I have altered in the Kudzu library: \n",
    "Added extra functions in the Callbacks call; Added tqdm for visualizing progress; Added softmax activation and softmax prime function. "
   ]
  },
  {
   "cell_type": "code",
   "execution_count": 1,
   "metadata": {},
   "outputs": [],
   "source": [
    "#hide\n",
    "%load_ext autoreload\n",
    "%autoreload 2"
   ]
  },
  {
   "cell_type": "code",
   "execution_count": 2,
   "metadata": {},
   "outputs": [],
   "source": [
    "#hide\n",
    "%matplotlib inline\n",
    "import numpy as np\n",
    "import matplotlib.pyplot as plt\n",
    "import pandas as pd"
   ]
  },
  {
   "cell_type": "code",
   "execution_count": 3,
   "metadata": {},
   "outputs": [
    {
     "name": "stdout",
     "output_type": "stream",
     "text": [
      "Requirement already satisfied: mnist in c:\\users\\sakth\\anaconda3\\lib\\site-packages (0.2.2)\n",
      "Requirement already satisfied: numpy in c:\\users\\sakth\\anaconda3\\lib\\site-packages (from mnist) (1.16.4)\n"
     ]
    }
   ],
   "source": [
    "#hide\n",
    "!pip install mnist"
   ]
  },
  {
   "cell_type": "markdown",
   "metadata": {},
   "source": [
    "## Preparing the Data\n",
    "\n",
    "> \"What is MNIST anyway?\"\n",
    "\n",
    "The MNIST database (Modified National Institute of Standards and Technology database) is a large database of handwritten digits that is commonly used for training various image processing systems.\n",
    "\n",
    "It was created by \"re-mixing\" the samples from NIST's original datasets.\n",
    "\n",
    "The creators felt that since NIST's training dataset was taken from American Census Bureau employees, while the testing dataset was taken from American high school students, it was not well-suited for machine learning experiments.\n",
    "\n",
    "Furthermore, the black and white images from NIST were normalized to fit into a 28x28 pixel bounding box and anti-aliased, which introduced grayscale levels.\n",
    "\n",
    "The MNIST database contains 60,000 training images and 10,000 testing images.\n",
    "\n",
    "Half of the training set and half of the test set were taken from NIST's training dataset, while the other half of the training set and the other half of the test set were taken from NIST's testing dataset\n",
    "\n",
    "Source:  Wikipedia\n"
   ]
  },
  {
   "cell_type": "code",
   "execution_count": 4,
   "metadata": {},
   "outputs": [],
   "source": [
    "#hide\n",
    "import mnist"
   ]
  },
  {
   "cell_type": "code",
   "execution_count": 5,
   "metadata": {},
   "outputs": [],
   "source": [
    "#hide\n",
    "#Loading the train images and labels from mnist\n",
    "train_images = mnist.train_images()\n",
    "train_labels = mnist.train_labels()"
   ]
  },
  {
   "cell_type": "code",
   "execution_count": 6,
   "metadata": {},
   "outputs": [
    {
     "data": {
      "text/plain": [
       "((60000, 28, 28), (60000,))"
      ]
     },
     "execution_count": 6,
     "metadata": {},
     "output_type": "execute_result"
    }
   ],
   "source": [
    "#hide\n",
    "train_images.shape, train_labels.shape"
   ]
  },
  {
   "cell_type": "code",
   "execution_count": 7,
   "metadata": {},
   "outputs": [],
   "source": [
    "#hide\n",
    "#Loading the test images and labels from mnist\n",
    "test_images = mnist.test_images()\n",
    "test_labels = mnist.test_labels()"
   ]
  },
  {
   "cell_type": "code",
   "execution_count": 8,
   "metadata": {},
   "outputs": [
    {
     "data": {
      "text/plain": [
       "((10000, 28, 28), (10000,))"
      ]
     },
     "execution_count": 8,
     "metadata": {},
     "output_type": "execute_result"
    }
   ],
   "source": [
    "#hide\n",
    "test_images.shape, test_labels.shape"
   ]
  },
  {
   "cell_type": "markdown",
   "metadata": {},
   "source": [
    "Let's take a look at how this data looks like."
   ]
  },
  {
   "cell_type": "code",
   "execution_count": 9,
   "metadata": {},
   "outputs": [
    {
     "name": "stdout",
     "output_type": "stream",
     "text": [
      "2\n"
     ]
    },
    {
     "data": {
      "text/plain": [
       "<matplotlib.image.AxesImage at 0x1894e46f6c8>"
      ]
     },
     "execution_count": 9,
     "metadata": {},
     "output_type": "execute_result"
    },
    {
     "data": {
      "image/png": "[encoded data removed]",
      "text/plain": [
       "<Figure size 432x288 with 1 Axes>"
      ]
     },
     "metadata": {
      "needs_background": "light"
     },
     "output_type": "display_data"
    }
   ],
   "source": [
    "#collapse\n",
    "image_index = 7776 # You may select anything up to 60,000\n",
    "print(train_labels[image_index]) \n",
    "plt.imshow(train_images[image_index], cmap='Greys')"
   ]
  },
  {
   "cell_type": "markdown",
   "metadata": {},
   "source": [
    "## Filter data to get 3 and 8 out\n",
    "\n",
    "Now in order to create our classifier, we must filter our 3s and 8s from the lot. "
   ]
  },
  {
   "cell_type": "code",
   "execution_count": 10,
   "metadata": {},
   "outputs": [],
   "source": [
    "#filtering the 3 and 8 data - splitting it into test and train\n",
    "train_filter = np.where((train_labels == 3 ) | (train_labels == 8))\n",
    "test_filter = np.where((test_labels == 3) | (test_labels == 8))\n",
    "X_train, y_train = train_images[train_filter], train_labels[train_filter]\n",
    "X_test, y_test = test_images[test_filter], test_labels[test_filter]"
   ]
  },
  {
   "cell_type": "code",
   "execution_count": 11,
   "metadata": {},
   "outputs": [
    {
     "data": {
      "text/plain": [
       "(6131, 784)"
      ]
     },
     "execution_count": 11,
     "metadata": {},
     "output_type": "execute_result"
    }
   ],
   "source": [
    "#hide\n",
    "#just storing all my 3 data in one variable for later use\n",
    "data_3 = train_images[np.where(train_labels == 3)]\n",
    "data_3 = data_3/255.\n",
    "data_3 = data_3.reshape(data_3.shape[0], -1)\n",
    "data_3.shape"
   ]
  },
  {
   "cell_type": "code",
   "execution_count": 12,
   "metadata": {},
   "outputs": [
    {
     "data": {
      "text/plain": [
       "(5851, 784)"
      ]
     },
     "execution_count": 12,
     "metadata": {},
     "output_type": "execute_result"
    }
   ],
   "source": [
    "#hide\n",
    "#just storing all my 8 data in one variable for later use\n",
    "data_8 = train_images[np.where(train_labels == 8)]\n",
    "data_8 = data_8/255.\n",
    "data_8 = data_8.reshape(data_8.shape[0], -1)\n",
    "data_8.shape"
   ]
  },
  {
   "cell_type": "markdown",
   "metadata": {},
   "source": [
    "We normalize the pizel values in the 0 to 1 range"
   ]
  },
  {
   "cell_type": "code",
   "execution_count": 13,
   "metadata": {},
   "outputs": [],
   "source": [
    "X_train = X_train/255.\n",
    "X_test = X_test/255."
   ]
  },
  {
   "cell_type": "markdown",
   "metadata": {},
   "source": [
    "And setup the labels as 1 (when the digit is 3) and 0 (when the digit is 8)"
   ]
  },
  {
   "cell_type": "code",
   "execution_count": 14,
   "metadata": {},
   "outputs": [],
   "source": [
    "y_train = 1*(y_train==3)\n",
    "y_test = 1*(y_test==3)"
   ]
  },
  {
   "cell_type": "code",
   "execution_count": 15,
   "metadata": {},
   "outputs": [
    {
     "data": {
      "text/plain": [
       "((11982, 28, 28), (1984, 28, 28))"
      ]
     },
     "execution_count": 15,
     "metadata": {},
     "output_type": "execute_result"
    }
   ],
   "source": [
    "X_train.shape, X_test.shape"
   ]
  },
  {
   "cell_type": "markdown",
   "metadata": {},
   "source": [
    "We reshape the data to flatten the image pixels into a set of features or co-variates:"
   ]
  },
  {
   "cell_type": "code",
   "execution_count": 16,
   "metadata": {},
   "outputs": [
    {
     "data": {
      "text/plain": [
       "((11982, 784), (1984, 784))"
      ]
     },
     "execution_count": 16,
     "metadata": {},
     "output_type": "execute_result"
    }
   ],
   "source": [
    "X_train = X_train.reshape(X_train.shape[0], -1)\n",
    "X_test = X_test.reshape(X_test.shape[0], -1)\n",
    "X_train.shape, X_test.shape"
   ]
  },
  {
   "cell_type": "code",
   "execution_count": 17,
   "metadata": {},
   "outputs": [
    {
     "data": {
      "text/plain": [
       "((11982, 1), (1984, 1))"
      ]
     },
     "execution_count": 17,
     "metadata": {},
     "output_type": "execute_result"
    }
   ],
   "source": [
    "y_train = y_train.reshape(-1,1)\n",
    "y_test = y_test.reshape(-1,1)\n",
    "y_train.shape, y_test.shape "
   ]
  },
  {
   "cell_type": "markdown",
   "metadata": {},
   "source": [
    "# So how does this work?\n",
    "\n",
    "![](my_icons/what.jpg)"
   ]
  },
  {
   "cell_type": "markdown",
   "metadata": {},
   "source": [
    "In regression, we saw our model outputting numerical values. \n",
    "\n",
    "But in the case of logistic regression, our model will instead be spewing out probability values of the given input belonging to a certain class. \n",
    "\n",
    "This is based on the premise the the input space can in fact be seperated into two seperate 'regions'(in the case of 2 classes) by a linear boundary.\n",
    "\n",
    "Ideally, in the case of two dimensions, our linear boundary would be a line. For three dimensions, it would end up being a plane. For higher dimensions, we would call this boundary as a 'hyperplane'.\n",
    "\n",
    "\n",
    "$$\n",
    "\\begin{eqnarray}\n",
    "y = 1 & ,\\,\\, & {w}\\cdot{x} + b \\ge 0\\\\\n",
    "y = 0 & ,\\,\\, & {w}\\cdot{x} + b < 0\n",
    "\\end{eqnarray}\n",
    "$$\n",
    "\n",
    "Consider the **sigmoid** function:\n",
    "\n",
    "$$h(z) = \\frac{1}{1 + e^{-z}}.$$\n",
    "\n",
    "with the identification:\n",
    "\n",
    "$$z = {w}\\cdot{x} + b$$ \n",
    "\n",
    "At $z=0$ this function has the value 0.5. \n",
    "\n",
    "If $z > 0$, $h > 0.5$ and as $z \\to \\infty$, $h \\to 1$. \n",
    "\n",
    "If $z < 0$, $h < 0.5$ and as $z \\to -\\infty$, $h \\to 0$. \n",
    "\n",
    "Through Maximum Likelihood estimation, we can then arrive at our log likelihood. \n",
    "\n",
    "$$L = P(y \\mid {x},{w}).$$ \n",
    "\n",
    "$$l = log L = log(P(y \\mid {x},{w})).$$\n",
    "\n",
    "\n",
    "Thus\n",
    "\n",
    "$$\\begin{eqnarray}\n",
    "l &=& log\\left(\\prod_{y_i \\in \\cal{D}} h({w}\\cdot{x_i} + b)^{y_i} \\left(1 - h({w}\\cdot{x_i} + b) \\right)^{(1-y_i)}\\right)\\\\\n",
    "                  &=& \\sum_{y_i \\in \\cal{D}} log\\left(h({w}\\cdot{x_i} + b)^{y_i} \\left(1 - h({w}\\cdot{x_i} + b) \\right)^{(1-y_i)}\\right)\\\\                  \n",
    "                  &=& \\sum_{y_i \\in \\cal{D}} log\\,h({w}\\cdot{x_i} + b)^{y_i} + log\\,\\left(1 - h({w}\\cdot{x_i} + b) \\right)^{(1-y_i)}\\\\\n",
    "                  &=& \\sum_{y_i \\in \\cal{D}} \\left ( y_i log(h({w}\\cdot{x_i} + b)) + ( 1 - y_i) log(1 - h({w}\\cdot{x_i} + b)) \\right )\n",
    "\\end{eqnarray}$$\n",
    "\n",
    "The negative of this log likelihood (henceforth abbreviated NLL), is also called the **Binary Cross-Entropy** aka Negative Log likelihood.\n",
    "\n",
    "$$ NLL = - \\sum_{y_i \\in \\cal{D}} \\left ( y_i log(h({w}\\cdot{x})) + ( 1 - y_i) log(1 - h({w}\\cdot{x})) \\right )$$\n",
    "\n",
    "## Neural Network\n",
    "\n",
    "For our neural network, we need to use this cost function in order to find the gradient and perform gradient descent. \n",
    "\n",
    "The general sequence of how data is passed through a neural network layers. \n",
    "\n",
    "These layers are mostly of the sequence:\n",
    "1. Linear transformation or affine layer\n",
    "2. Non-linear transformation or activation layer\n",
    "3. Cost function calculation\n",
    "\n",
    "This is known as forward propogation. \n",
    "\n",
    "In the case of backward propogation, the cost function is used to calculate the gradient and find the direction in which to move towards the global minima of loss. \n",
    "\n",
    "This is done by going in the reverse or backward phase - we now propagate the derivatives backward through the layer cake. \n",
    "\n",
    "The weights are then updated through means of the derivatives calculated by the chain rule. \n",
    "\n",
    "It is also important to note that a learning rate is initialized so as to control the \"length\" of the step towards the minima. \n",
    "\n",
    "If the step is too long, you might end up jumping to the next mountain. \n",
    "\n",
    "If your step is too short, you might end up camping at night for three days, almost getting mauled by bears, before you reach the minima. \n"
   ]
  },
  {
   "cell_type": "markdown",
   "metadata": {},
   "source": [
    "### 1. I use the following configuration (or similar) to set up the model for training.\n",
    "\n",
    "```python\n",
    "class Config:\n",
    "    pass\n",
    "config = Config()\n",
    "config.lr = 0.001\n",
    "config.num_epochs = 200\n",
    "config.bs = 50\n",
    "```\n",
    "\n",
    "Now construct a model which has the following layers\n",
    "\n",
    "1. A first affine layer which has 784 inputs and does 100 affine transforms. These are followed by a `Relu`\n",
    "2. A second affine layer which has 100 inputs from the 100 activations of the past layer, and does 100 affine transforms. These are followed by a `Relu`\n",
    "3. A third affine layer which has 100 activations and does 2 affine transformations to create an embedding for visualization. There is no non-linearity here.\n",
    "4. A final \"logistic regression\" which has an affine transform from 2 inputs to 1 output, which is squeezed through a sigmoid."
   ]
  },
  {
   "cell_type": "code",
   "execution_count": 18,
   "metadata": {},
   "outputs": [],
   "source": [
    "#hide\n",
    "from kudzu.model import Model\n",
    "from kudzu.layer import Affine, Sigmoid, Relu\n",
    "from kudzu.loss import BCE\n",
    "from kudzu.optim import GD\n",
    "from kudzu.data import Data, Dataloader, Sampler\n",
    "from kudzu.train import Learner\n",
    "from kudzu.callbacks import AccCallback"
   ]
  },
  {
   "cell_type": "code",
   "execution_count": 19,
   "metadata": {},
   "outputs": [],
   "source": [
    "#hide\n",
    "class Config:\n",
    "    pass\n",
    "config = Config()\n",
    "config.lr = 0.001\n",
    "config.num_epochs = 200\n",
    "config.bs = 50"
   ]
  },
  {
   "cell_type": "code",
   "execution_count": 20,
   "metadata": {},
   "outputs": [],
   "source": [
    "train_data = Data(X_train, y_train)\n",
    "loss = BCE()\n",
    "opt = GD(config.lr)\n",
    "sampler = Sampler(train_data, config.bs, shuffle=True)\n",
    "train_dl = Dataloader(train_data, sampler)"
   ]
  },
  {
   "cell_type": "code",
   "execution_count": 21,
   "metadata": {},
   "outputs": [],
   "source": [
    "layers = [Affine(\"first\", 784, 100), Relu(\"relu\"), Affine(\"second\", 100, 100), Relu(\"relu\"), Affine(\"third\", 100, 2), Affine(\"output\", 2, 1), Sigmoid(\"sigmoid\")]\n",
    "model = Model(layers)"
   ]
  },
  {
   "cell_type": "markdown",
   "metadata": {},
   "source": [
    "### 2. Create a callback class\n",
    "\n",
    "I further added code to the  AccCallback class to add in the following functionalities. \n",
    "\n",
    "1. Initialized it to have accuracy arrays \n",
    "\n",
    "```python\n",
    "self.accuracies = []\n",
    "self.test_accuracies = []\n",
    "```\n",
    "2. Then at the end of each epoch, calculated the probabilities and hence predictions on both the training set and the test set. Printed these out once per epoch. \n",
    "\n",
    "3. Acumulated these in the above array. This will require me to keep track of all 4 training and test sets. \n",
    "\n",
    "4. I edited the `Learner` for this or pass these sets in some kind of data object to the callback.\n",
    "\n",
    "5. I also added tqdm functionality in the AccCallback class in order to visually see the batch running progress per epoch."
   ]
  },
  {
   "cell_type": "code",
   "execution_count": 22,
   "metadata": {},
   "outputs": [],
   "source": [
    "learner = Learner(loss, model, opt, config.num_epochs)\n",
    "acc = AccCallback(learner, config.bs)\n",
    "learner.set_callbacks([acc])"
   ]
  },
  {
   "cell_type": "markdown",
   "metadata": {},
   "source": [
    "### 3. Train the model"
   ]
  },
  {
   "cell_type": "code",
   "execution_count": 23,
   "metadata": {
    "scrolled": true
   },
   "outputs": [
    {
     "name": "stderr",
     "output_type": "stream",
     "text": [
      "Batch: 100%|████████████████████████████████████████████████████████████████████████| 240/240 [00:00<00:00, 280.64it/s]\n"
     ]
    },
    {
     "name": "stdout",
     "output_type": "stream",
     "text": [
      "Epoch: 0     Loss: 0.66262     Training Acc: 0.56802     Validation Acc: 0.73891\n"
     ]
    },
    {
     "name": "stderr",
     "output_type": "stream",
     "text": [
      "Batch: 100%|████████████████████████████████████████████████████████████████████████| 240/240 [00:00<00:00, 293.85it/s]\n"
     ]
    },
    {
     "name": "stdout",
     "output_type": "stream",
     "text": [
      "Epoch: 1     Loss: 0.60085     Training Acc: 0.77992     Validation Acc: 0.79713\n"
     ]
    },
    {
     "name": "stderr",
     "output_type": "stream",
     "text": [
      "Batch: 100%|████████████████████████████████████████████████████████████████████████| 240/240 [00:00<00:00, 276.20it/s]\n"
     ]
    },
    {
     "name": "stdout",
     "output_type": "stream",
     "text": [
      "Epoch: 2     Loss: 0.54137     Training Acc: 0.84969     Validation Acc: 0.82712\n"
     ]
    },
    {
     "name": "stderr",
     "output_type": "stream",
     "text": [
      "Batch: 100%|████████████████████████████████████████████████████████████████████████| 240/240 [00:00<00:00, 287.61it/s]\n"
     ]
    },
    {
     "name": "stdout",
     "output_type": "stream",
     "text": [
      "Epoch: 3     Loss: 0.47431     Training Acc: 0.87573     Validation Acc: 0.84463\n"
     ]
    },
    {
     "name": "stderr",
     "output_type": "stream",
     "text": [
      "Batch: 100%|████████████████████████████████████████████████████████████████████████| 240/240 [00:00<00:00, 276.75it/s]\n"
     ]
    },
    {
     "name": "stdout",
     "output_type": "stream",
     "text": [
      "Epoch: 4     Loss: 0.40599     Training Acc: 0.89025     Validation Acc: 0.85746\n"
     ]
    },
    {
     "name": "stderr",
     "output_type": "stream",
     "text": [
      "Batch: 100%|████████████████████████████████████████████████████████████████████████| 240/240 [00:00<00:00, 290.61it/s]\n"
     ]
    },
    {
     "name": "stdout",
     "output_type": "stream",
     "text": [
      "Epoch: 5     Loss: 0.34625     Training Acc: 0.9021     Validation Acc: 0.86778\n"
     ]
    },
    {
     "name": "stderr",
     "output_type": "stream",
     "text": [
      "Batch: 100%|████████████████████████████████████████████████████████████████████████| 240/240 [00:00<00:00, 280.43it/s]\n"
     ]
    },
    {
     "name": "stdout",
     "output_type": "stream",
     "text": [
      "Epoch: 6     Loss: 0.29871     Training Acc: 0.91212     Validation Acc: 0.87673\n"
     ]
    },
    {
     "name": "stderr",
     "output_type": "stream",
     "text": [
      "Batch: 100%|████████████████████████████████████████████████████████████████████████| 240/240 [00:00<00:00, 281.26it/s]\n"
     ]
    },
    {
     "name": "stdout",
     "output_type": "stream",
     "text": [
      "Epoch: 7     Loss: 0.26243     Training Acc: 0.91854     Validation Acc: 0.88407\n"
     ]
    },
    {
     "name": "stderr",
     "output_type": "stream",
     "text": [
      "Batch: 100%|████████████████████████████████████████████████████████████████████████| 240/240 [00:00<00:00, 246.18it/s]\n"
     ]
    },
    {
     "name": "stdout",
     "output_type": "stream",
     "text": [
      "Epoch: 8     Loss: 0.23482     Training Acc: 0.92597     Validation Acc: 0.89029\n"
     ]
    },
    {
     "name": "stderr",
     "output_type": "stream",
     "text": [
      "Batch: 100%|████████████████████████████████████████████████████████████████████████| 240/240 [00:00<00:00, 256.23it/s]\n"
     ]
    },
    {
     "name": "stdout",
     "output_type": "stream",
     "text": [
      "Epoch: 9     Loss: 0.21362     Training Acc: 0.93131     Validation Acc: 0.89582\n"
     ]
    },
    {
     "name": "stderr",
     "output_type": "stream",
     "text": [
      "Batch: 100%|████████████████████████████████████████████████████████████████████████| 240/240 [00:00<00:00, 264.97it/s]\n"
     ]
    },
    {
     "name": "stdout",
     "output_type": "stream",
     "text": [
      "Epoch: 10     Loss: 0.19721     Training Acc: 0.93607     Validation Acc: 0.90075\n"
     ]
    },
    {
     "name": "stderr",
     "output_type": "stream",
     "text": [
      "Batch: 100%|████████████████████████████████████████████████████████████████████████| 240/240 [00:00<00:00, 249.68it/s]\n"
     ]
    },
    {
     "name": "stdout",
     "output_type": "stream",
     "text": [
      "Epoch: 11     Loss: 0.1841     Training Acc: 0.93983     Validation Acc: 0.90507\n"
     ]
    },
    {
     "name": "stderr",
     "output_type": "stream",
     "text": [
      "Batch: 100%|████████████████████████████████████████████████████████████████████████| 240/240 [00:00<00:00, 268.24it/s]\n"
     ]
    },
    {
     "name": "stdout",
     "output_type": "stream",
     "text": [
      "Epoch: 12     Loss: 0.1735     Training Acc: 0.9415     Validation Acc: 0.90896\n"
     ]
    },
    {
     "name": "stderr",
     "output_type": "stream",
     "text": [
      "Batch: 100%|████████████████████████████████████████████████████████████████████████| 240/240 [00:00<00:00, 264.41it/s]\n"
     ]
    },
    {
     "name": "stdout",
     "output_type": "stream",
     "text": [
      "Epoch: 13     Loss: 0.16478     Training Acc: 0.94383     Validation Acc: 0.91237\n"
     ]
    },
    {
     "name": "stderr",
     "output_type": "stream",
     "text": [
      "Batch: 100%|████████████████████████████████████████████████████████████████████████| 240/240 [00:00<00:00, 285.20it/s]\n"
     ]
    },
    {
     "name": "stdout",
     "output_type": "stream",
     "text": [
      "Epoch: 14     Loss: 0.15752     Training Acc: 0.94667     Validation Acc: 0.91552\n"
     ]
    },
    {
     "name": "stderr",
     "output_type": "stream",
     "text": [
      "Batch: 100%|████████████████████████████████████████████████████████████████████████| 240/240 [00:00<00:00, 281.68it/s]\n"
     ]
    },
    {
     "name": "stdout",
     "output_type": "stream",
     "text": [
      "Epoch: 15     Loss: 0.15141     Training Acc: 0.94851     Validation Acc: 0.9185\n"
     ]
    },
    {
     "name": "stderr",
     "output_type": "stream",
     "text": [
      "Batch: 100%|████████████████████████████████████████████████████████████████████████| 240/240 [00:00<00:00, 291.88it/s]\n"
     ]
    },
    {
     "name": "stdout",
     "output_type": "stream",
     "text": [
      "Epoch: 16     Loss: 0.14607     Training Acc: 0.95034     Validation Acc: 0.9211\n"
     ]
    },
    {
     "name": "stderr",
     "output_type": "stream",
     "text": [
      "Batch: 100%|████████████████████████████████████████████████████████████████████████| 240/240 [00:00<00:00, 290.05it/s]\n"
     ]
    },
    {
     "name": "stdout",
     "output_type": "stream",
     "text": [
      "Epoch: 17     Loss: 0.14151     Training Acc: 0.9526     Validation Acc: 0.92344\n"
     ]
    },
    {
     "name": "stderr",
     "output_type": "stream",
     "text": [
      "Batch: 100%|████████████████████████████████████████████████████████████████████████| 240/240 [00:00<00:00, 289.64it/s]\n"
     ]
    },
    {
     "name": "stdout",
     "output_type": "stream",
     "text": [
      "Epoch: 18     Loss: 0.13733     Training Acc: 0.95485     Validation Acc: 0.92564\n"
     ]
    },
    {
     "name": "stderr",
     "output_type": "stream",
     "text": [
      "Batch: 100%|████████████████████████████████████████████████████████████████████████| 240/240 [00:00<00:00, 291.80it/s]\n"
     ]
    },
    {
     "name": "stdout",
     "output_type": "stream",
     "text": [
      "Epoch: 19     Loss: 0.13395     Training Acc: 0.95602     Validation Acc: 0.92765\n"
     ]
    },
    {
     "name": "stderr",
     "output_type": "stream",
     "text": [
      "Batch: 100%|████████████████████████████████████████████████████████████████████████| 240/240 [00:00<00:00, 287.62it/s]\n"
     ]
    },
    {
     "name": "stdout",
     "output_type": "stream",
     "text": [
      "Epoch: 20     Loss: 0.13065     Training Acc: 0.9566     Validation Acc: 0.92944\n"
     ]
    },
    {
     "name": "stderr",
     "output_type": "stream",
     "text": [
      "Batch: 100%|████████████████████████████████████████████████████████████████████████| 240/240 [00:00<00:00, 285.35it/s]\n"
     ]
    },
    {
     "name": "stdout",
     "output_type": "stream",
     "text": [
      "Epoch: 21     Loss: 0.12771     Training Acc: 0.95794     Validation Acc: 0.93102\n"
     ]
    },
    {
     "name": "stderr",
     "output_type": "stream",
     "text": [
      "Batch: 100%|████████████████████████████████████████████████████████████████████████| 240/240 [00:00<00:00, 290.14it/s]\n"
     ]
    },
    {
     "name": "stdout",
     "output_type": "stream",
     "text": [
      "Epoch: 22     Loss: 0.12517     Training Acc: 0.95869     Validation Acc: 0.93253\n"
     ]
    },
    {
     "name": "stderr",
     "output_type": "stream",
     "text": [
      "Batch: 100%|████████████████████████████████████████████████████████████████████████| 240/240 [00:00<00:00, 286.86it/s]\n"
     ]
    },
    {
     "name": "stdout",
     "output_type": "stream",
     "text": [
      "Epoch: 23     Loss: 0.12274     Training Acc: 0.95961     Validation Acc: 0.93393\n"
     ]
    },
    {
     "name": "stderr",
     "output_type": "stream",
     "text": [
      "Batch: 100%|████████████████████████████████████████████████████████████████████████| 240/240 [00:00<00:00, 294.12it/s]\n"
     ]
    },
    {
     "name": "stdout",
     "output_type": "stream",
     "text": [
      "Epoch: 24     Loss: 0.12048     Training Acc: 0.96011     Validation Acc: 0.9352\n"
     ]
    },
    {
     "name": "stderr",
     "output_type": "stream",
     "text": [
      "Batch: 100%|████████████████████████████████████████████████████████████████████████| 240/240 [00:00<00:00, 285.22it/s]\n"
     ]
    },
    {
     "name": "stdout",
     "output_type": "stream",
     "text": [
      "Epoch: 25     Loss: 0.11839     Training Acc: 0.96061     Validation Acc: 0.9364\n"
     ]
    },
    {
     "name": "stderr",
     "output_type": "stream",
     "text": [
      "Batch: 100%|████████████████████████████████████████████████████████████████████████| 240/240 [00:00<00:00, 288.47it/s]\n"
     ]
    },
    {
     "name": "stdout",
     "output_type": "stream",
     "text": [
      "Epoch: 26     Loss: 0.11656     Training Acc: 0.96203     Validation Acc: 0.93746\n"
     ]
    },
    {
     "name": "stderr",
     "output_type": "stream",
     "text": [
      "Batch: 100%|████████████████████████████████████████████████████████████████████████| 240/240 [00:00<00:00, 288.00it/s]\n"
     ]
    },
    {
     "name": "stdout",
     "output_type": "stream",
     "text": [
      "Epoch: 27     Loss: 0.11475     Training Acc: 0.96253     Validation Acc: 0.93851\n"
     ]
    },
    {
     "name": "stderr",
     "output_type": "stream",
     "text": [
      "Batch: 100%|████████████████████████████████████████████████████████████████████████| 240/240 [00:00<00:00, 289.98it/s]\n"
     ]
    },
    {
     "name": "stdout",
     "output_type": "stream",
     "text": [
      "Epoch: 28     Loss: 0.11307     Training Acc: 0.96319     Validation Acc: 0.93953\n"
     ]
    },
    {
     "name": "stderr",
     "output_type": "stream",
     "text": [
      "Batch: 100%|████████████████████████████████████████████████████████████████████████| 240/240 [00:00<00:00, 289.07it/s]\n"
     ]
    },
    {
     "name": "stdout",
     "output_type": "stream",
     "text": [
      "Epoch: 29     Loss: 0.11153     Training Acc: 0.9637     Validation Acc: 0.94049\n"
     ]
    },
    {
     "name": "stderr",
     "output_type": "stream",
     "text": [
      "Batch: 100%|████████████████████████████████████████████████████████████████████████| 240/240 [00:00<00:00, 292.32it/s]\n"
     ]
    },
    {
     "name": "stdout",
     "output_type": "stream",
     "text": [
      "Epoch: 30     Loss: 0.11003     Training Acc: 0.96395     Validation Acc: 0.94142\n"
     ]
    },
    {
     "name": "stderr",
     "output_type": "stream",
     "text": [
      "Batch: 100%|████████████████████████████████████████████████████████████████████████| 240/240 [00:00<00:00, 293.07it/s]\n"
     ]
    },
    {
     "name": "stdout",
     "output_type": "stream",
     "text": [
      "Epoch: 31     Loss: 0.10861     Training Acc: 0.96445     Validation Acc: 0.94227\n"
     ]
    },
    {
     "name": "stderr",
     "output_type": "stream",
     "text": [
      "Batch: 100%|████████████████████████████████████████████████████████████████████████| 240/240 [00:00<00:00, 293.28it/s]\n"
     ]
    },
    {
     "name": "stdout",
     "output_type": "stream",
     "text": [
      "Epoch: 32     Loss: 0.10728     Training Acc: 0.96461     Validation Acc: 0.94311\n"
     ]
    },
    {
     "name": "stderr",
     "output_type": "stream",
     "text": [
      "Batch: 100%|████████████████████████████████████████████████████████████████████████| 240/240 [00:00<00:00, 298.25it/s]\n"
     ]
    },
    {
     "name": "stdout",
     "output_type": "stream",
     "text": [
      "Epoch: 33     Loss: 0.10596     Training Acc: 0.96511     Validation Acc: 0.94389\n"
     ]
    },
    {
     "name": "stderr",
     "output_type": "stream",
     "text": [
      "Batch: 100%|████████████████████████████████████████████████████████████████████████| 240/240 [00:00<00:00, 296.29it/s]\n"
     ]
    },
    {
     "name": "stdout",
     "output_type": "stream",
     "text": [
      "Epoch: 34     Loss: 0.10467     Training Acc: 0.96536     Validation Acc: 0.94463\n"
     ]
    },
    {
     "name": "stderr",
     "output_type": "stream",
     "text": [
      "Batch: 100%|████████████████████████████████████████████████████████████████████████| 240/240 [00:00<00:00, 296.74it/s]\n"
     ]
    },
    {
     "name": "stdout",
     "output_type": "stream",
     "text": [
      "Epoch: 35     Loss: 0.10355     Training Acc: 0.96578     Validation Acc: 0.94534\n"
     ]
    },
    {
     "name": "stderr",
     "output_type": "stream",
     "text": [
      "Batch: 100%|████████████████████████████████████████████████████████████████████████| 240/240 [00:00<00:00, 297.31it/s]\n"
     ]
    },
    {
     "name": "stdout",
     "output_type": "stream",
     "text": [
      "Epoch: 36     Loss: 0.10237     Training Acc: 0.96628     Validation Acc: 0.94601\n"
     ]
    },
    {
     "name": "stderr",
     "output_type": "stream",
     "text": [
      "Batch: 100%|████████████████████████████████████████████████████████████████████████| 240/240 [00:00<00:00, 292.83it/s]\n"
     ]
    },
    {
     "name": "stdout",
     "output_type": "stream",
     "text": [
      "Epoch: 37     Loss: 0.10135     Training Acc: 0.96695     Validation Acc: 0.94671\n"
     ]
    },
    {
     "name": "stderr",
     "output_type": "stream",
     "text": [
      "Batch: 100%|████████████████████████████████████████████████████████████████████████| 240/240 [00:00<00:00, 280.46it/s]\n"
     ]
    },
    {
     "name": "stdout",
     "output_type": "stream",
     "text": [
      "Epoch: 38     Loss: 0.10026     Training Acc: 0.96712     Validation Acc: 0.94737\n"
     ]
    },
    {
     "name": "stderr",
     "output_type": "stream",
     "text": [
      "Batch: 100%|████████████████████████████████████████████████████████████████████████| 240/240 [00:00<00:00, 291.72it/s]\n"
     ]
    },
    {
     "name": "stdout",
     "output_type": "stream",
     "text": [
      "Epoch: 39     Loss: 0.09925     Training Acc: 0.96762     Validation Acc: 0.948\n"
     ]
    },
    {
     "name": "stderr",
     "output_type": "stream",
     "text": [
      "Batch: 100%|████████████████████████████████████████████████████████████████████████| 240/240 [00:00<00:00, 294.30it/s]\n"
     ]
    },
    {
     "name": "stdout",
     "output_type": "stream",
     "text": [
      "Epoch: 40     Loss: 0.0983     Training Acc: 0.9677     Validation Acc: 0.94858\n"
     ]
    },
    {
     "name": "stderr",
     "output_type": "stream",
     "text": [
      "Batch: 100%|████████████████████████████████████████████████████████████████████████| 240/240 [00:00<00:00, 292.85it/s]\n"
     ]
    },
    {
     "name": "stdout",
     "output_type": "stream",
     "text": [
      "Epoch: 41     Loss: 0.09732     Training Acc: 0.96812     Validation Acc: 0.94914\n"
     ]
    },
    {
     "name": "stderr",
     "output_type": "stream",
     "text": [
      "Batch: 100%|████████████████████████████████████████████████████████████████████████| 240/240 [00:00<00:00, 297.32it/s]\n"
     ]
    },
    {
     "name": "stdout",
     "output_type": "stream",
     "text": [
      "Epoch: 42     Loss: 0.09629     Training Acc: 0.96904     Validation Acc: 0.94967\n"
     ]
    },
    {
     "name": "stderr",
     "output_type": "stream",
     "text": [
      "Batch: 100%|████████████████████████████████████████████████████████████████████████| 240/240 [00:00<00:00, 297.77it/s]\n"
     ]
    },
    {
     "name": "stdout",
     "output_type": "stream",
     "text": [
      "Epoch: 43     Loss: 0.09553     Training Acc: 0.96904     Validation Acc: 0.95018\n"
     ]
    },
    {
     "name": "stderr",
     "output_type": "stream",
     "text": [
      "Batch: 100%|████████████████████████████████████████████████████████████████████████| 240/240 [00:00<00:00, 293.71it/s]\n"
     ]
    },
    {
     "name": "stdout",
     "output_type": "stream",
     "text": [
      "Epoch: 44     Loss: 0.09464     Training Acc: 0.96937     Validation Acc: 0.95071\n"
     ]
    },
    {
     "name": "stderr",
     "output_type": "stream",
     "text": [
      "Batch: 100%|████████████████████████████████████████████████████████████████████████| 240/240 [00:00<00:00, 297.98it/s]\n"
     ]
    },
    {
     "name": "stdout",
     "output_type": "stream",
     "text": [
      "Epoch: 45     Loss: 0.09376     Training Acc: 0.96937     Validation Acc: 0.9512\n"
     ]
    },
    {
     "name": "stderr",
     "output_type": "stream",
     "text": [
      "Batch: 100%|████████████████████████████████████████████████████████████████████████| 240/240 [00:00<00:00, 297.33it/s]\n"
     ]
    },
    {
     "name": "stdout",
     "output_type": "stream",
     "text": [
      "Epoch: 46     Loss: 0.09284     Training Acc: 0.96987     Validation Acc: 0.95168\n"
     ]
    },
    {
     "name": "stderr",
     "output_type": "stream",
     "text": [
      "Batch: 100%|████████████████████████████████████████████████████████████████████████| 240/240 [00:00<00:00, 298.84it/s]\n"
     ]
    },
    {
     "name": "stdout",
     "output_type": "stream",
     "text": [
      "Epoch: 47     Loss: 0.09204     Training Acc: 0.97004     Validation Acc: 0.95215\n"
     ]
    },
    {
     "name": "stderr",
     "output_type": "stream",
     "text": [
      "Batch: 100%|████████████████████████████████████████████████████████████████████████| 240/240 [00:00<00:00, 294.89it/s]\n"
     ]
    },
    {
     "name": "stdout",
     "output_type": "stream",
     "text": [
      "Epoch: 48     Loss: 0.09129     Training Acc: 0.97046     Validation Acc: 0.9526\n"
     ]
    },
    {
     "name": "stderr",
     "output_type": "stream",
     "text": [
      "Batch: 100%|████████████████████████████████████████████████████████████████████████| 240/240 [00:00<00:00, 292.05it/s]\n"
     ]
    },
    {
     "name": "stdout",
     "output_type": "stream",
     "text": [
      "Epoch: 49     Loss: 0.09049     Training Acc: 0.97062     Validation Acc: 0.95303\n"
     ]
    },
    {
     "name": "stderr",
     "output_type": "stream",
     "text": [
      "Batch: 100%|████████████████████████████████████████████████████████████████████████| 240/240 [00:00<00:00, 296.31it/s]\n"
     ]
    },
    {
     "name": "stdout",
     "output_type": "stream",
     "text": [
      "Epoch: 50     Loss: 0.08968     Training Acc: 0.97096     Validation Acc: 0.95345\n"
     ]
    },
    {
     "name": "stderr",
     "output_type": "stream",
     "text": [
      "Batch: 100%|████████████████████████████████████████████████████████████████████████| 240/240 [00:00<00:00, 295.58it/s]\n"
     ]
    },
    {
     "name": "stdout",
     "output_type": "stream",
     "text": [
      "Epoch: 51     Loss: 0.08903     Training Acc: 0.97096     Validation Acc: 0.95385\n"
     ]
    },
    {
     "name": "stderr",
     "output_type": "stream",
     "text": [
      "Batch: 100%|████████████████████████████████████████████████████████████████████████| 240/240 [00:00<00:00, 296.34it/s]\n"
     ]
    },
    {
     "name": "stdout",
     "output_type": "stream",
     "text": [
      "Epoch: 52     Loss: 0.08826     Training Acc: 0.97146     Validation Acc: 0.95425\n"
     ]
    },
    {
     "name": "stderr",
     "output_type": "stream",
     "text": [
      "Batch: 100%|████████████████████████████████████████████████████████████████████████| 240/240 [00:00<00:00, 295.93it/s]\n"
     ]
    },
    {
     "name": "stdout",
     "output_type": "stream",
     "text": [
      "Epoch: 53     Loss: 0.08753     Training Acc: 0.97204     Validation Acc: 0.95463\n"
     ]
    },
    {
     "name": "stderr",
     "output_type": "stream",
     "text": [
      "Batch: 100%|████████████████████████████████████████████████████████████████████████| 240/240 [00:00<00:00, 297.26it/s]\n"
     ]
    },
    {
     "name": "stdout",
     "output_type": "stream",
     "text": [
      "Epoch: 54     Loss: 0.08679     Training Acc: 0.97229     Validation Acc: 0.95499\n"
     ]
    },
    {
     "name": "stderr",
     "output_type": "stream",
     "text": [
      "Batch: 100%|████████████████████████████████████████████████████████████████████████| 240/240 [00:00<00:00, 293.56it/s]\n"
     ]
    },
    {
     "name": "stdout",
     "output_type": "stream",
     "text": [
      "Epoch: 55     Loss: 0.08612     Training Acc: 0.97238     Validation Acc: 0.95534\n"
     ]
    },
    {
     "name": "stderr",
     "output_type": "stream",
     "text": [
      "Batch: 100%|████████████████████████████████████████████████████████████████████████| 240/240 [00:00<00:00, 298.38it/s]\n"
     ]
    },
    {
     "name": "stdout",
     "output_type": "stream",
     "text": [
      "Epoch: 56     Loss: 0.08544     Training Acc: 0.97271     Validation Acc: 0.95567\n"
     ]
    },
    {
     "name": "stderr",
     "output_type": "stream",
     "text": [
      "Batch: 100%|████████████████████████████████████████████████████████████████████████| 240/240 [00:00<00:00, 295.52it/s]\n"
     ]
    },
    {
     "name": "stdout",
     "output_type": "stream",
     "text": [
      "Epoch: 57     Loss: 0.08471     Training Acc: 0.97271     Validation Acc: 0.95599\n"
     ]
    },
    {
     "name": "stderr",
     "output_type": "stream",
     "text": [
      "Batch: 100%|████████████████████████████████████████████████████████████████████████| 240/240 [00:00<00:00, 292.49it/s]\n"
     ]
    },
    {
     "name": "stdout",
     "output_type": "stream",
     "text": [
      "Epoch: 58     Loss: 0.08409     Training Acc: 0.97271     Validation Acc: 0.95631\n"
     ]
    },
    {
     "name": "stderr",
     "output_type": "stream",
     "text": [
      "Batch: 100%|████████████████████████████████████████████████████████████████████████| 240/240 [00:00<00:00, 294.42it/s]\n"
     ]
    },
    {
     "name": "stdout",
     "output_type": "stream",
     "text": [
      "Epoch: 59     Loss: 0.08342     Training Acc: 0.97346     Validation Acc: 0.95662\n"
     ]
    },
    {
     "name": "stderr",
     "output_type": "stream",
     "text": [
      "Batch: 100%|████████████████████████████████████████████████████████████████████████| 240/240 [00:00<00:00, 291.43it/s]\n"
     ]
    },
    {
     "name": "stdout",
     "output_type": "stream",
     "text": [
      "Epoch: 60     Loss: 0.08274     Training Acc: 0.97354     Validation Acc: 0.95693\n"
     ]
    },
    {
     "name": "stderr",
     "output_type": "stream",
     "text": [
      "Batch: 100%|████████████████████████████████████████████████████████████████████████| 240/240 [00:00<00:00, 295.29it/s]\n"
     ]
    },
    {
     "name": "stdout",
     "output_type": "stream",
     "text": [
      "Epoch: 61     Loss: 0.08216     Training Acc: 0.97354     Validation Acc: 0.95722\n"
     ]
    },
    {
     "name": "stderr",
     "output_type": "stream",
     "text": [
      "Batch: 100%|████████████████████████████████████████████████████████████████████████| 240/240 [00:00<00:00, 290.11it/s]\n"
     ]
    },
    {
     "name": "stdout",
     "output_type": "stream",
     "text": [
      "Epoch: 62     Loss: 0.08153     Training Acc: 0.97396     Validation Acc: 0.95751\n"
     ]
    },
    {
     "name": "stderr",
     "output_type": "stream",
     "text": [
      "Batch: 100%|████████████████████████████████████████████████████████████████████████| 240/240 [00:00<00:00, 271.56it/s]\n"
     ]
    },
    {
     "name": "stdout",
     "output_type": "stream",
     "text": [
      "Epoch: 63     Loss: 0.08093     Training Acc: 0.97388     Validation Acc: 0.95779\n"
     ]
    },
    {
     "name": "stderr",
     "output_type": "stream",
     "text": [
      "Batch: 100%|████████████████████████████████████████████████████████████████████████| 240/240 [00:00<00:00, 284.09it/s]\n"
     ]
    },
    {
     "name": "stdout",
     "output_type": "stream",
     "text": [
      "Epoch: 64     Loss: 0.08029     Training Acc: 0.97455     Validation Acc: 0.95806\n"
     ]
    },
    {
     "name": "stderr",
     "output_type": "stream",
     "text": [
      "Batch: 100%|████████████████████████████████████████████████████████████████████████| 240/240 [00:00<00:00, 285.63it/s]\n"
     ]
    },
    {
     "name": "stdout",
     "output_type": "stream",
     "text": [
      "Epoch: 65     Loss: 0.07969     Training Acc: 0.97438     Validation Acc: 0.95832\n"
     ]
    },
    {
     "name": "stderr",
     "output_type": "stream",
     "text": [
      "Batch: 100%|████████████████████████████████████████████████████████████████████████| 240/240 [00:00<00:00, 289.66it/s]\n"
     ]
    },
    {
     "name": "stdout",
     "output_type": "stream",
     "text": [
      "Epoch: 66     Loss: 0.07911     Training Acc: 0.97463     Validation Acc: 0.95857\n"
     ]
    },
    {
     "name": "stderr",
     "output_type": "stream",
     "text": [
      "Batch: 100%|████████████████████████████████████████████████████████████████████████| 240/240 [00:00<00:00, 282.00it/s]\n"
     ]
    },
    {
     "name": "stdout",
     "output_type": "stream",
     "text": [
      "Epoch: 67     Loss: 0.07849     Training Acc: 0.97496     Validation Acc: 0.95883\n"
     ]
    },
    {
     "name": "stderr",
     "output_type": "stream",
     "text": [
      "Batch: 100%|████████████████████████████████████████████████████████████████████████| 240/240 [00:00<00:00, 276.04it/s]\n"
     ]
    },
    {
     "name": "stdout",
     "output_type": "stream",
     "text": [
      "Epoch: 68     Loss: 0.07794     Training Acc: 0.97505     Validation Acc: 0.95908\n"
     ]
    },
    {
     "name": "stderr",
     "output_type": "stream",
     "text": [
      "Batch: 100%|████████████████████████████████████████████████████████████████████████| 240/240 [00:00<00:00, 270.79it/s]\n"
     ]
    },
    {
     "name": "stdout",
     "output_type": "stream",
     "text": [
      "Epoch: 69     Loss: 0.07738     Training Acc: 0.97546     Validation Acc: 0.95932\n"
     ]
    },
    {
     "name": "stderr",
     "output_type": "stream",
     "text": [
      "Batch: 100%|████████████████████████████████████████████████████████████████████████| 240/240 [00:00<00:00, 258.48it/s]\n"
     ]
    },
    {
     "name": "stdout",
     "output_type": "stream",
     "text": [
      "Epoch: 70     Loss: 0.07677     Training Acc: 0.97596     Validation Acc: 0.95957\n"
     ]
    },
    {
     "name": "stderr",
     "output_type": "stream",
     "text": [
      "Batch: 100%|████████████████████████████████████████████████████████████████████████| 240/240 [00:00<00:00, 271.24it/s]\n"
     ]
    },
    {
     "name": "stdout",
     "output_type": "stream",
     "text": [
      "Epoch: 71     Loss: 0.07625     Training Acc: 0.97655     Validation Acc: 0.9598\n"
     ]
    },
    {
     "name": "stderr",
     "output_type": "stream",
     "text": [
      "Batch: 100%|████████████████████████████████████████████████████████████████████████| 240/240 [00:00<00:00, 286.94it/s]\n"
     ]
    },
    {
     "name": "stdout",
     "output_type": "stream",
     "text": [
      "Epoch: 72     Loss: 0.07573     Training Acc: 0.9763     Validation Acc: 0.96004\n"
     ]
    },
    {
     "name": "stderr",
     "output_type": "stream",
     "text": [
      "Batch: 100%|████████████████████████████████████████████████████████████████████████| 240/240 [00:00<00:00, 287.90it/s]\n"
     ]
    },
    {
     "name": "stdout",
     "output_type": "stream",
     "text": [
      "Epoch: 73     Loss: 0.07519     Training Acc: 0.97663     Validation Acc: 0.96026\n"
     ]
    },
    {
     "name": "stderr",
     "output_type": "stream",
     "text": [
      "Batch: 100%|████████████████████████████████████████████████████████████████████████| 240/240 [00:00<00:00, 284.25it/s]\n"
     ]
    },
    {
     "name": "stdout",
     "output_type": "stream",
     "text": [
      "Epoch: 74     Loss: 0.07466     Training Acc: 0.97738     Validation Acc: 0.96048\n"
     ]
    },
    {
     "name": "stderr",
     "output_type": "stream",
     "text": [
      "Batch: 100%|████████████████████████████████████████████████████████████████████████| 240/240 [00:00<00:00, 284.25it/s]\n"
     ]
    },
    {
     "name": "stdout",
     "output_type": "stream",
     "text": [
      "Epoch: 75     Loss: 0.07413     Training Acc: 0.97755     Validation Acc: 0.96071\n"
     ]
    },
    {
     "name": "stderr",
     "output_type": "stream",
     "text": [
      "Batch: 100%|████████████████████████████████████████████████████████████████████████| 240/240 [00:00<00:00, 287.83it/s]\n"
     ]
    },
    {
     "name": "stdout",
     "output_type": "stream",
     "text": [
      "Epoch: 76     Loss: 0.07364     Training Acc: 0.97747     Validation Acc: 0.96091\n"
     ]
    },
    {
     "name": "stderr",
     "output_type": "stream",
     "text": [
      "Batch: 100%|████████████████████████████████████████████████████████████████████████| 240/240 [00:00<00:00, 289.20it/s]\n"
     ]
    },
    {
     "name": "stdout",
     "output_type": "stream",
     "text": [
      "Epoch: 77     Loss: 0.07312     Training Acc: 0.97772     Validation Acc: 0.96112\n"
     ]
    },
    {
     "name": "stderr",
     "output_type": "stream",
     "text": [
      "Batch: 100%|████████████████████████████████████████████████████████████████████████| 240/240 [00:00<00:00, 288.52it/s]\n"
     ]
    },
    {
     "name": "stdout",
     "output_type": "stream",
     "text": [
      "Epoch: 78     Loss: 0.07255     Training Acc: 0.9778     Validation Acc: 0.96132\n"
     ]
    },
    {
     "name": "stderr",
     "output_type": "stream",
     "text": [
      "Batch: 100%|████████████████████████████████████████████████████████████████████████| 240/240 [00:00<00:00, 294.59it/s]\n"
     ]
    },
    {
     "name": "stdout",
     "output_type": "stream",
     "text": [
      "Epoch: 79     Loss: 0.07204     Training Acc: 0.97822     Validation Acc: 0.96151\n"
     ]
    },
    {
     "name": "stderr",
     "output_type": "stream",
     "text": [
      "Batch: 100%|████████████████████████████████████████████████████████████████████████| 240/240 [00:00<00:00, 288.76it/s]\n"
     ]
    },
    {
     "name": "stdout",
     "output_type": "stream",
     "text": [
      "Epoch: 80     Loss: 0.07152     Training Acc: 0.97847     Validation Acc: 0.96171\n"
     ]
    },
    {
     "name": "stderr",
     "output_type": "stream",
     "text": [
      "Batch: 100%|████████████████████████████████████████████████████████████████████████| 240/240 [00:00<00:00, 288.04it/s]\n"
     ]
    },
    {
     "name": "stdout",
     "output_type": "stream",
     "text": [
      "Epoch: 81     Loss: 0.07109     Training Acc: 0.97863     Validation Acc: 0.9619\n"
     ]
    },
    {
     "name": "stderr",
     "output_type": "stream",
     "text": [
      "Batch: 100%|████████████████████████████████████████████████████████████████████████| 240/240 [00:00<00:00, 295.79it/s]\n"
     ]
    },
    {
     "name": "stdout",
     "output_type": "stream",
     "text": [
      "Epoch: 82     Loss: 0.07056     Training Acc: 0.9788     Validation Acc: 0.96211\n"
     ]
    },
    {
     "name": "stderr",
     "output_type": "stream",
     "text": [
      "Batch: 100%|████████████████████████████████████████████████████████████████████████| 240/240 [00:00<00:00, 294.33it/s]\n"
     ]
    },
    {
     "name": "stdout",
     "output_type": "stream",
     "text": [
      "Epoch: 83     Loss: 0.0701     Training Acc: 0.97922     Validation Acc: 0.96231\n"
     ]
    },
    {
     "name": "stderr",
     "output_type": "stream",
     "text": [
      "Batch: 100%|████████████████████████████████████████████████████████████████████████| 240/240 [00:00<00:00, 288.36it/s]\n"
     ]
    },
    {
     "name": "stdout",
     "output_type": "stream",
     "text": [
      "Epoch: 84     Loss: 0.06961     Training Acc: 0.97897     Validation Acc: 0.9625\n"
     ]
    },
    {
     "name": "stderr",
     "output_type": "stream",
     "text": [
      "Batch: 100%|████████████████████████████████████████████████████████████████████████| 240/240 [00:00<00:00, 277.73it/s]\n"
     ]
    },
    {
     "name": "stdout",
     "output_type": "stream",
     "text": [
      "Epoch: 85     Loss: 0.06914     Training Acc: 0.97964     Validation Acc: 0.9627\n"
     ]
    },
    {
     "name": "stderr",
     "output_type": "stream",
     "text": [
      "Batch: 100%|████████████████████████████████████████████████████████████████████████| 240/240 [00:00<00:00, 287.79it/s]\n"
     ]
    },
    {
     "name": "stdout",
     "output_type": "stream",
     "text": [
      "Epoch: 86     Loss: 0.06866     Training Acc: 0.9798     Validation Acc: 0.96289\n"
     ]
    },
    {
     "name": "stderr",
     "output_type": "stream",
     "text": [
      "Batch: 100%|████████████████████████████████████████████████████████████████████████| 240/240 [00:00<00:00, 284.19it/s]\n"
     ]
    },
    {
     "name": "stdout",
     "output_type": "stream",
     "text": [
      "Epoch: 87     Loss: 0.06818     Training Acc: 0.97989     Validation Acc: 0.96307\n"
     ]
    },
    {
     "name": "stderr",
     "output_type": "stream",
     "text": [
      "Batch: 100%|████████████████████████████████████████████████████████████████████████| 240/240 [00:00<00:00, 287.76it/s]\n"
     ]
    },
    {
     "name": "stdout",
     "output_type": "stream",
     "text": [
      "Epoch: 88     Loss: 0.06771     Training Acc: 0.98005     Validation Acc: 0.96326\n"
     ]
    },
    {
     "name": "stderr",
     "output_type": "stream",
     "text": [
      "Batch: 100%|████████████████████████████████████████████████████████████████████████| 240/240 [00:00<00:00, 287.60it/s]\n"
     ]
    },
    {
     "name": "stdout",
     "output_type": "stream",
     "text": [
      "Epoch: 89     Loss: 0.06724     Training Acc: 0.98022     Validation Acc: 0.96344\n"
     ]
    },
    {
     "name": "stderr",
     "output_type": "stream",
     "text": [
      "Batch: 100%|████████████████████████████████████████████████████████████████████████| 240/240 [00:00<00:00, 288.74it/s]\n"
     ]
    },
    {
     "name": "stdout",
     "output_type": "stream",
     "text": [
      "Epoch: 90     Loss: 0.06681     Training Acc: 0.9803     Validation Acc: 0.9636\n"
     ]
    },
    {
     "name": "stderr",
     "output_type": "stream",
     "text": [
      "Batch: 100%|████████████████████████████████████████████████████████████████████████| 240/240 [00:00<00:00, 287.75it/s]\n"
     ]
    },
    {
     "name": "stdout",
     "output_type": "stream",
     "text": [
      "Epoch: 91     Loss: 0.06636     Training Acc: 0.98064     Validation Acc: 0.96378\n"
     ]
    },
    {
     "name": "stderr",
     "output_type": "stream",
     "text": [
      "Batch: 100%|████████████████████████████████████████████████████████████████████████| 240/240 [00:00<00:00, 291.66it/s]\n"
     ]
    },
    {
     "name": "stdout",
     "output_type": "stream",
     "text": [
      "Epoch: 92     Loss: 0.06587     Training Acc: 0.98039     Validation Acc: 0.96394\n"
     ]
    },
    {
     "name": "stderr",
     "output_type": "stream",
     "text": [
      "Batch: 100%|████████████████████████████████████████████████████████████████████████| 240/240 [00:00<00:00, 293.41it/s]\n"
     ]
    },
    {
     "name": "stdout",
     "output_type": "stream",
     "text": [
      "Epoch: 93     Loss: 0.06546     Training Acc: 0.98097     Validation Acc: 0.96411\n"
     ]
    },
    {
     "name": "stderr",
     "output_type": "stream",
     "text": [
      "Batch: 100%|████████████████████████████████████████████████████████████████████████| 240/240 [00:00<00:00, 294.29it/s]\n"
     ]
    },
    {
     "name": "stdout",
     "output_type": "stream",
     "text": [
      "Epoch: 94     Loss: 0.065     Training Acc: 0.98089     Validation Acc: 0.96427\n"
     ]
    },
    {
     "name": "stderr",
     "output_type": "stream",
     "text": [
      "Batch: 100%|████████████████████████████████████████████████████████████████████████| 240/240 [00:00<00:00, 283.96it/s]\n"
     ]
    },
    {
     "name": "stdout",
     "output_type": "stream",
     "text": [
      "Epoch: 95     Loss: 0.06459     Training Acc: 0.9808     Validation Acc: 0.96442\n"
     ]
    },
    {
     "name": "stderr",
     "output_type": "stream",
     "text": [
      "Batch: 100%|████████████████████████████████████████████████████████████████████████| 240/240 [00:00<00:00, 288.26it/s]\n"
     ]
    },
    {
     "name": "stdout",
     "output_type": "stream",
     "text": [
      "Epoch: 96     Loss: 0.06414     Training Acc: 0.98105     Validation Acc: 0.96458\n"
     ]
    },
    {
     "name": "stderr",
     "output_type": "stream",
     "text": [
      "Batch: 100%|████████████████████████████████████████████████████████████████████████| 240/240 [00:00<00:00, 289.74it/s]\n"
     ]
    },
    {
     "name": "stdout",
     "output_type": "stream",
     "text": [
      "Epoch: 97     Loss: 0.06367     Training Acc: 0.98131     Validation Acc: 0.96473\n"
     ]
    },
    {
     "name": "stderr",
     "output_type": "stream",
     "text": [
      "Batch: 100%|████████████████████████████████████████████████████████████████████████| 240/240 [00:00<00:00, 285.82it/s]\n"
     ]
    },
    {
     "name": "stdout",
     "output_type": "stream",
     "text": [
      "Epoch: 98     Loss: 0.06325     Training Acc: 0.98139     Validation Acc: 0.96488\n"
     ]
    },
    {
     "name": "stderr",
     "output_type": "stream",
     "text": [
      "Batch: 100%|████████████████████████████████████████████████████████████████████████| 240/240 [00:00<00:00, 282.16it/s]\n"
     ]
    },
    {
     "name": "stdout",
     "output_type": "stream",
     "text": [
      "Epoch: 99     Loss: 0.06279     Training Acc: 0.98156     Validation Acc: 0.96502\n"
     ]
    },
    {
     "name": "stderr",
     "output_type": "stream",
     "text": [
      "Batch: 100%|████████████████████████████████████████████████████████████████████████| 240/240 [00:00<00:00, 298.66it/s]\n"
     ]
    },
    {
     "name": "stdout",
     "output_type": "stream",
     "text": [
      "Epoch: 100     Loss: 0.06238     Training Acc: 0.98147     Validation Acc: 0.96517\n"
     ]
    },
    {
     "name": "stderr",
     "output_type": "stream",
     "text": [
      "Batch: 100%|████████████████████████████████████████████████████████████████████████| 240/240 [00:00<00:00, 280.17it/s]\n"
     ]
    },
    {
     "name": "stdout",
     "output_type": "stream",
     "text": [
      "Epoch: 101     Loss: 0.06198     Training Acc: 0.98222     Validation Acc: 0.96531\n"
     ]
    },
    {
     "name": "stderr",
     "output_type": "stream",
     "text": [
      "Batch: 100%|████████████████████████████████████████████████████████████████████████| 240/240 [00:00<00:00, 279.22it/s]\n"
     ]
    },
    {
     "name": "stdout",
     "output_type": "stream",
     "text": [
      "Epoch: 102     Loss: 0.06146     Training Acc: 0.98197     Validation Acc: 0.96544\n"
     ]
    },
    {
     "name": "stderr",
     "output_type": "stream",
     "text": [
      "Batch: 100%|████████████████████████████████████████████████████████████████████████| 240/240 [00:00<00:00, 283.50it/s]\n"
     ]
    },
    {
     "name": "stdout",
     "output_type": "stream",
     "text": [
      "Epoch: 103     Loss: 0.06111     Training Acc: 0.98222     Validation Acc: 0.96558\n"
     ]
    },
    {
     "name": "stderr",
     "output_type": "stream",
     "text": [
      "Batch: 100%|████████████████████████████████████████████████████████████████████████| 240/240 [00:00<00:00, 285.00it/s]\n"
     ]
    },
    {
     "name": "stdout",
     "output_type": "stream",
     "text": [
      "Epoch: 104     Loss: 0.06064     Training Acc: 0.98197     Validation Acc: 0.96572\n"
     ]
    },
    {
     "name": "stderr",
     "output_type": "stream",
     "text": [
      "Batch: 100%|████████████████████████████████████████████████████████████████████████| 240/240 [00:00<00:00, 289.25it/s]\n"
     ]
    },
    {
     "name": "stdout",
     "output_type": "stream",
     "text": [
      "Epoch: 105     Loss: 0.06029     Training Acc: 0.98281     Validation Acc: 0.96584\n"
     ]
    },
    {
     "name": "stderr",
     "output_type": "stream",
     "text": [
      "Batch: 100%|████████████████████████████████████████████████████████████████████████| 240/240 [00:00<00:00, 293.12it/s]\n"
     ]
    },
    {
     "name": "stdout",
     "output_type": "stream",
     "text": [
      "Epoch: 106     Loss: 0.05984     Training Acc: 0.98272     Validation Acc: 0.96598\n"
     ]
    },
    {
     "name": "stderr",
     "output_type": "stream",
     "text": [
      "Batch: 100%|████████████████████████████████████████████████████████████████████████| 240/240 [00:00<00:00, 289.84it/s]\n"
     ]
    },
    {
     "name": "stdout",
     "output_type": "stream",
     "text": [
      "Epoch: 107     Loss: 0.05944     Training Acc: 0.98281     Validation Acc: 0.9661\n"
     ]
    },
    {
     "name": "stderr",
     "output_type": "stream",
     "text": [
      "Batch: 100%|████████████████████████████████████████████████████████████████████████| 240/240 [00:00<00:00, 279.40it/s]\n"
     ]
    },
    {
     "name": "stdout",
     "output_type": "stream",
     "text": [
      "Epoch: 108     Loss: 0.05902     Training Acc: 0.98281     Validation Acc: 0.96623\n"
     ]
    },
    {
     "name": "stderr",
     "output_type": "stream",
     "text": [
      "Batch: 100%|████████████████████████████████████████████████████████████████████████| 240/240 [00:00<00:00, 291.01it/s]\n"
     ]
    },
    {
     "name": "stdout",
     "output_type": "stream",
     "text": [
      "Epoch: 109     Loss: 0.05862     Training Acc: 0.98306     Validation Acc: 0.96635\n"
     ]
    },
    {
     "name": "stderr",
     "output_type": "stream",
     "text": [
      "Batch: 100%|████████████████████████████████████████████████████████████████████████| 240/240 [00:00<00:00, 285.29it/s]\n"
     ]
    },
    {
     "name": "stdout",
     "output_type": "stream",
     "text": [
      "Epoch: 110     Loss: 0.05822     Training Acc: 0.98348     Validation Acc: 0.96648\n"
     ]
    },
    {
     "name": "stderr",
     "output_type": "stream",
     "text": [
      "Batch: 100%|████████████████████████████████████████████████████████████████████████| 240/240 [00:00<00:00, 285.88it/s]\n"
     ]
    },
    {
     "name": "stdout",
     "output_type": "stream",
     "text": [
      "Epoch: 111     Loss: 0.05775     Training Acc: 0.98373     Validation Acc: 0.96661\n"
     ]
    },
    {
     "name": "stderr",
     "output_type": "stream",
     "text": [
      "Batch: 100%|████████████████████████████████████████████████████████████████████████| 240/240 [00:00<00:00, 286.44it/s]\n"
     ]
    },
    {
     "name": "stdout",
     "output_type": "stream",
     "text": [
      "Epoch: 112     Loss: 0.05742     Training Acc: 0.98381     Validation Acc: 0.96674\n"
     ]
    },
    {
     "name": "stderr",
     "output_type": "stream",
     "text": [
      "Batch: 100%|████████████████████████████████████████████████████████████████████████| 240/240 [00:00<00:00, 280.43it/s]\n"
     ]
    },
    {
     "name": "stdout",
     "output_type": "stream",
     "text": [
      "Epoch: 113     Loss: 0.05698     Training Acc: 0.98398     Validation Acc: 0.96686\n"
     ]
    },
    {
     "name": "stderr",
     "output_type": "stream",
     "text": [
      "Batch: 100%|████████████████████████████████████████████████████████████████████████| 240/240 [00:00<00:00, 281.20it/s]\n"
     ]
    },
    {
     "name": "stdout",
     "output_type": "stream",
     "text": [
      "Epoch: 114     Loss: 0.05653     Training Acc: 0.98381     Validation Acc: 0.96697\n"
     ]
    },
    {
     "name": "stderr",
     "output_type": "stream",
     "text": [
      "Batch: 100%|████████████████████████████████████████████████████████████████████████| 240/240 [00:00<00:00, 283.50it/s]\n"
     ]
    },
    {
     "name": "stdout",
     "output_type": "stream",
     "text": [
      "Epoch: 115     Loss: 0.05625     Training Acc: 0.98414     Validation Acc: 0.96708\n"
     ]
    },
    {
     "name": "stderr",
     "output_type": "stream",
     "text": [
      "Batch: 100%|████████████████████████████████████████████████████████████████████████| 240/240 [00:00<00:00, 285.83it/s]\n"
     ]
    },
    {
     "name": "stdout",
     "output_type": "stream",
     "text": [
      "Epoch: 116     Loss: 0.05577     Training Acc: 0.98464     Validation Acc: 0.9672\n"
     ]
    },
    {
     "name": "stderr",
     "output_type": "stream",
     "text": [
      "Batch: 100%|████████████████████████████████████████████████████████████████████████| 240/240 [00:00<00:00, 285.53it/s]\n"
     ]
    },
    {
     "name": "stdout",
     "output_type": "stream",
     "text": [
      "Epoch: 117     Loss: 0.05542     Training Acc: 0.98423     Validation Acc: 0.96731\n"
     ]
    },
    {
     "name": "stderr",
     "output_type": "stream",
     "text": [
      "Batch: 100%|████████████████████████████████████████████████████████████████████████| 240/240 [00:00<00:00, 289.16it/s]\n"
     ]
    },
    {
     "name": "stdout",
     "output_type": "stream",
     "text": [
      "Epoch: 118     Loss: 0.05503     Training Acc: 0.98456     Validation Acc: 0.96742\n"
     ]
    },
    {
     "name": "stderr",
     "output_type": "stream",
     "text": [
      "Batch: 100%|████████████████████████████████████████████████████████████████████████| 240/240 [00:00<00:00, 284.19it/s]\n"
     ]
    },
    {
     "name": "stdout",
     "output_type": "stream",
     "text": [
      "Epoch: 119     Loss: 0.05465     Training Acc: 0.98456     Validation Acc: 0.96753\n"
     ]
    },
    {
     "name": "stderr",
     "output_type": "stream",
     "text": [
      "Batch: 100%|████████████████████████████████████████████████████████████████████████| 240/240 [00:00<00:00, 289.88it/s]\n"
     ]
    },
    {
     "name": "stdout",
     "output_type": "stream",
     "text": [
      "Epoch: 120     Loss: 0.05423     Training Acc: 0.98498     Validation Acc: 0.96764\n"
     ]
    },
    {
     "name": "stderr",
     "output_type": "stream",
     "text": [
      "Batch: 100%|████████████████████████████████████████████████████████████████████████| 240/240 [00:00<00:00, 294.62it/s]\n"
     ]
    },
    {
     "name": "stdout",
     "output_type": "stream",
     "text": [
      "Epoch: 121     Loss: 0.05388     Training Acc: 0.98506     Validation Acc: 0.96775\n"
     ]
    },
    {
     "name": "stderr",
     "output_type": "stream",
     "text": [
      "Batch: 100%|████████████████████████████████████████████████████████████████████████| 240/240 [00:00<00:00, 291.23it/s]\n"
     ]
    },
    {
     "name": "stdout",
     "output_type": "stream",
     "text": [
      "Epoch: 122     Loss: 0.05353     Training Acc: 0.98498     Validation Acc: 0.96786\n"
     ]
    },
    {
     "name": "stderr",
     "output_type": "stream",
     "text": [
      "Batch: 100%|████████████████████████████████████████████████████████████████████████| 240/240 [00:00<00:00, 285.72it/s]\n"
     ]
    },
    {
     "name": "stdout",
     "output_type": "stream",
     "text": [
      "Epoch: 123     Loss: 0.05315     Training Acc: 0.98523     Validation Acc: 0.96796\n"
     ]
    },
    {
     "name": "stderr",
     "output_type": "stream",
     "text": [
      "Batch: 100%|████████████████████████████████████████████████████████████████████████| 240/240 [00:00<00:00, 287.07it/s]\n"
     ]
    },
    {
     "name": "stdout",
     "output_type": "stream",
     "text": [
      "Epoch: 124     Loss: 0.05271     Training Acc: 0.98531     Validation Acc: 0.96806\n"
     ]
    },
    {
     "name": "stderr",
     "output_type": "stream",
     "text": [
      "Batch: 100%|████████████████████████████████████████████████████████████████████████| 240/240 [00:00<00:00, 274.90it/s]\n"
     ]
    },
    {
     "name": "stdout",
     "output_type": "stream",
     "text": [
      "Epoch: 125     Loss: 0.05242     Training Acc: 0.98523     Validation Acc: 0.96817\n"
     ]
    },
    {
     "name": "stderr",
     "output_type": "stream",
     "text": [
      "Batch: 100%|████████████████████████████████████████████████████████████████████████| 240/240 [00:00<00:00, 282.32it/s]\n"
     ]
    },
    {
     "name": "stdout",
     "output_type": "stream",
     "text": [
      "Epoch: 126     Loss: 0.05202     Training Acc: 0.98523     Validation Acc: 0.96828\n"
     ]
    },
    {
     "name": "stderr",
     "output_type": "stream",
     "text": [
      "Batch: 100%|████████████████████████████████████████████████████████████████████████| 240/240 [00:00<00:00, 273.34it/s]\n"
     ]
    },
    {
     "name": "stdout",
     "output_type": "stream",
     "text": [
      "Epoch: 127     Loss: 0.05168     Training Acc: 0.98548     Validation Acc: 0.96838\n"
     ]
    },
    {
     "name": "stderr",
     "output_type": "stream",
     "text": [
      "Batch: 100%|████████████████████████████████████████████████████████████████████████| 240/240 [00:00<00:00, 269.53it/s]\n"
     ]
    },
    {
     "name": "stdout",
     "output_type": "stream",
     "text": [
      "Epoch: 128     Loss: 0.05129     Training Acc: 0.98548     Validation Acc: 0.96848\n"
     ]
    },
    {
     "name": "stderr",
     "output_type": "stream",
     "text": [
      "Batch: 100%|████████████████████████████████████████████████████████████████████████| 240/240 [00:00<00:00, 279.01it/s]\n"
     ]
    },
    {
     "name": "stdout",
     "output_type": "stream",
     "text": [
      "Epoch: 129     Loss: 0.05095     Training Acc: 0.98565     Validation Acc: 0.96858\n"
     ]
    },
    {
     "name": "stderr",
     "output_type": "stream",
     "text": [
      "Batch: 100%|████████████████████████████████████████████████████████████████████████| 240/240 [00:00<00:00, 272.96it/s]\n"
     ]
    },
    {
     "name": "stdout",
     "output_type": "stream",
     "text": [
      "Epoch: 130     Loss: 0.05058     Training Acc: 0.98598     Validation Acc: 0.96868\n"
     ]
    },
    {
     "name": "stderr",
     "output_type": "stream",
     "text": [
      "Batch: 100%|████████████████████████████████████████████████████████████████████████| 240/240 [00:00<00:00, 281.37it/s]\n"
     ]
    },
    {
     "name": "stdout",
     "output_type": "stream",
     "text": [
      "Epoch: 131     Loss: 0.05016     Training Acc: 0.98623     Validation Acc: 0.96878\n"
     ]
    },
    {
     "name": "stderr",
     "output_type": "stream",
     "text": [
      "Batch: 100%|████████████████████████████████████████████████████████████████████████| 240/240 [00:00<00:00, 283.72it/s]\n"
     ]
    },
    {
     "name": "stdout",
     "output_type": "stream",
     "text": [
      "Epoch: 132     Loss: 0.04987     Training Acc: 0.98598     Validation Acc: 0.96889\n"
     ]
    },
    {
     "name": "stderr",
     "output_type": "stream",
     "text": [
      "Batch: 100%|████████████████████████████████████████████████████████████████████████| 240/240 [00:00<00:00, 282.99it/s]\n"
     ]
    },
    {
     "name": "stdout",
     "output_type": "stream",
     "text": [
      "Epoch: 133     Loss: 0.04952     Training Acc: 0.98615     Validation Acc: 0.96898\n"
     ]
    },
    {
     "name": "stderr",
     "output_type": "stream",
     "text": [
      "Batch: 100%|████████████████████████████████████████████████████████████████████████| 240/240 [00:00<00:00, 288.78it/s]\n"
     ]
    },
    {
     "name": "stdout",
     "output_type": "stream",
     "text": [
      "Epoch: 134     Loss: 0.04915     Training Acc: 0.98631     Validation Acc: 0.96908\n"
     ]
    },
    {
     "name": "stderr",
     "output_type": "stream",
     "text": [
      "Batch: 100%|████████████████████████████████████████████████████████████████████████| 240/240 [00:00<00:00, 291.35it/s]\n"
     ]
    },
    {
     "name": "stdout",
     "output_type": "stream",
     "text": [
      "Epoch: 135     Loss: 0.04875     Training Acc: 0.98631     Validation Acc: 0.96917\n"
     ]
    },
    {
     "name": "stderr",
     "output_type": "stream",
     "text": [
      "Batch: 100%|████████████████████████████████████████████████████████████████████████| 240/240 [00:00<00:00, 279.76it/s]\n"
     ]
    },
    {
     "name": "stdout",
     "output_type": "stream",
     "text": [
      "Epoch: 136     Loss: 0.04851     Training Acc: 0.98631     Validation Acc: 0.96927\n"
     ]
    },
    {
     "name": "stderr",
     "output_type": "stream",
     "text": [
      "Batch: 100%|████████████████████████████████████████████████████████████████████████| 240/240 [00:00<00:00, 287.96it/s]\n"
     ]
    },
    {
     "name": "stdout",
     "output_type": "stream",
     "text": [
      "Epoch: 137     Loss: 0.0481     Training Acc: 0.9864     Validation Acc: 0.96936\n"
     ]
    },
    {
     "name": "stderr",
     "output_type": "stream",
     "text": [
      "Batch: 100%|████████████████████████████████████████████████████████████████████████| 240/240 [00:00<00:00, 281.03it/s]\n"
     ]
    },
    {
     "name": "stdout",
     "output_type": "stream",
     "text": [
      "Epoch: 138     Loss: 0.04778     Training Acc: 0.98673     Validation Acc: 0.96946\n"
     ]
    },
    {
     "name": "stderr",
     "output_type": "stream",
     "text": [
      "Batch: 100%|████████████████████████████████████████████████████████████████████████| 240/240 [00:00<00:00, 283.13it/s]\n"
     ]
    },
    {
     "name": "stdout",
     "output_type": "stream",
     "text": [
      "Epoch: 139     Loss: 0.04741     Training Acc: 0.98706     Validation Acc: 0.96955\n"
     ]
    },
    {
     "name": "stderr",
     "output_type": "stream",
     "text": [
      "Batch: 100%|████████████████████████████████████████████████████████████████████████| 240/240 [00:00<00:00, 280.56it/s]\n"
     ]
    },
    {
     "name": "stdout",
     "output_type": "stream",
     "text": [
      "Epoch: 140     Loss: 0.04705     Training Acc: 0.98698     Validation Acc: 0.96964\n"
     ]
    },
    {
     "name": "stderr",
     "output_type": "stream",
     "text": [
      "Batch: 100%|████████████████████████████████████████████████████████████████████████| 240/240 [00:00<00:00, 284.39it/s]\n"
     ]
    },
    {
     "name": "stdout",
     "output_type": "stream",
     "text": [
      "Epoch: 141     Loss: 0.04673     Training Acc: 0.98723     Validation Acc: 0.96974\n"
     ]
    },
    {
     "name": "stderr",
     "output_type": "stream",
     "text": [
      "Batch: 100%|████████████████████████████████████████████████████████████████████████| 240/240 [00:00<00:00, 286.44it/s]\n"
     ]
    },
    {
     "name": "stdout",
     "output_type": "stream",
     "text": [
      "Epoch: 142     Loss: 0.04638     Training Acc: 0.98698     Validation Acc: 0.96984\n"
     ]
    },
    {
     "name": "stderr",
     "output_type": "stream",
     "text": [
      "Batch: 100%|████████████████████████████████████████████████████████████████████████| 240/240 [00:00<00:00, 292.39it/s]\n"
     ]
    },
    {
     "name": "stdout",
     "output_type": "stream",
     "text": [
      "Epoch: 143     Loss: 0.04597     Training Acc: 0.98765     Validation Acc: 0.96992\n"
     ]
    },
    {
     "name": "stderr",
     "output_type": "stream",
     "text": [
      "Batch: 100%|████████████████████████████████████████████████████████████████████████| 240/240 [00:00<00:00, 269.25it/s]\n"
     ]
    },
    {
     "name": "stdout",
     "output_type": "stream",
     "text": [
      "Epoch: 144     Loss: 0.04577     Training Acc: 0.98756     Validation Acc: 0.97002\n"
     ]
    },
    {
     "name": "stderr",
     "output_type": "stream",
     "text": [
      "Batch: 100%|████████████████████████████████████████████████████████████████████████| 240/240 [00:00<00:00, 247.17it/s]\n"
     ]
    },
    {
     "name": "stdout",
     "output_type": "stream",
     "text": [
      "Epoch: 145     Loss: 0.04541     Training Acc: 0.98765     Validation Acc: 0.97011\n"
     ]
    },
    {
     "name": "stderr",
     "output_type": "stream",
     "text": [
      "Batch: 100%|████████████████████████████████████████████████████████████████████████| 240/240 [00:00<00:00, 284.02it/s]\n"
     ]
    },
    {
     "name": "stdout",
     "output_type": "stream",
     "text": [
      "Epoch: 146     Loss: 0.04505     Training Acc: 0.98748     Validation Acc: 0.9702\n"
     ]
    },
    {
     "name": "stderr",
     "output_type": "stream",
     "text": [
      "Batch: 100%|████████████████████████████████████████████████████████████████████████| 240/240 [00:00<00:00, 252.10it/s]\n"
     ]
    },
    {
     "name": "stdout",
     "output_type": "stream",
     "text": [
      "Epoch: 147     Loss: 0.04447     Training Acc: 0.98823     Validation Acc: 0.9703\n"
     ]
    },
    {
     "name": "stderr",
     "output_type": "stream",
     "text": [
      "Batch: 100%|████████████████████████████████████████████████████████████████████████| 240/240 [00:00<00:00, 253.70it/s]\n"
     ]
    },
    {
     "name": "stdout",
     "output_type": "stream",
     "text": [
      "Epoch: 148     Loss: 0.04445     Training Acc: 0.98807     Validation Acc: 0.97039\n"
     ]
    },
    {
     "name": "stderr",
     "output_type": "stream",
     "text": [
      "Batch: 100%|████████████████████████████████████████████████████████████████████████| 240/240 [00:00<00:00, 270.58it/s]\n"
     ]
    },
    {
     "name": "stdout",
     "output_type": "stream",
     "text": [
      "Epoch: 149     Loss: 0.0441     Training Acc: 0.98823     Validation Acc: 0.97048\n"
     ]
    },
    {
     "name": "stderr",
     "output_type": "stream",
     "text": [
      "Batch: 100%|████████████████████████████████████████████████████████████████████████| 240/240 [00:00<00:00, 256.11it/s]\n"
     ]
    },
    {
     "name": "stdout",
     "output_type": "stream",
     "text": [
      "Epoch: 150     Loss: 0.04378     Training Acc: 0.98815     Validation Acc: 0.97057\n"
     ]
    },
    {
     "name": "stderr",
     "output_type": "stream",
     "text": [
      "Batch: 100%|████████████████████████████████████████████████████████████████████████| 240/240 [00:00<00:00, 273.10it/s]\n"
     ]
    },
    {
     "name": "stdout",
     "output_type": "stream",
     "text": [
      "Epoch: 151     Loss: 0.04348     Training Acc: 0.9879     Validation Acc: 0.97065\n"
     ]
    },
    {
     "name": "stderr",
     "output_type": "stream",
     "text": [
      "Batch: 100%|████████████████████████████████████████████████████████████████████████| 240/240 [00:00<00:00, 276.10it/s]\n"
     ]
    },
    {
     "name": "stdout",
     "output_type": "stream",
     "text": [
      "Epoch: 152     Loss: 0.04316     Training Acc: 0.98823     Validation Acc: 0.97074\n"
     ]
    },
    {
     "name": "stderr",
     "output_type": "stream",
     "text": [
      "Batch: 100%|████████████████████████████████████████████████████████████████████████| 240/240 [00:00<00:00, 289.16it/s]\n"
     ]
    },
    {
     "name": "stdout",
     "output_type": "stream",
     "text": [
      "Epoch: 153     Loss: 0.04275     Training Acc: 0.98857     Validation Acc: 0.97083\n"
     ]
    },
    {
     "name": "stderr",
     "output_type": "stream",
     "text": [
      "Batch: 100%|████████████████████████████████████████████████████████████████████████| 240/240 [00:00<00:00, 278.02it/s]\n"
     ]
    },
    {
     "name": "stdout",
     "output_type": "stream",
     "text": [
      "Epoch: 154     Loss: 0.0425     Training Acc: 0.98823     Validation Acc: 0.97092\n"
     ]
    },
    {
     "name": "stderr",
     "output_type": "stream",
     "text": [
      "Batch: 100%|████████████████████████████████████████████████████████████████████████| 240/240 [00:00<00:00, 272.80it/s]\n"
     ]
    },
    {
     "name": "stdout",
     "output_type": "stream",
     "text": [
      "Epoch: 155     Loss: 0.04225     Training Acc: 0.98815     Validation Acc: 0.971\n"
     ]
    },
    {
     "name": "stderr",
     "output_type": "stream",
     "text": [
      "Batch: 100%|████████████████████████████████████████████████████████████████████████| 240/240 [00:00<00:00, 280.08it/s]\n"
     ]
    },
    {
     "name": "stdout",
     "output_type": "stream",
     "text": [
      "Epoch: 156     Loss: 0.04193     Training Acc: 0.98807     Validation Acc: 0.97108\n"
     ]
    },
    {
     "name": "stderr",
     "output_type": "stream",
     "text": [
      "Batch: 100%|████████████████████████████████████████████████████████████████████████| 240/240 [00:00<00:00, 286.58it/s]\n"
     ]
    },
    {
     "name": "stdout",
     "output_type": "stream",
     "text": [
      "Epoch: 157     Loss: 0.04157     Training Acc: 0.98848     Validation Acc: 0.97116\n"
     ]
    },
    {
     "name": "stderr",
     "output_type": "stream",
     "text": [
      "Batch: 100%|████████████████████████████████████████████████████████████████████████| 240/240 [00:00<00:00, 285.75it/s]\n"
     ]
    },
    {
     "name": "stdout",
     "output_type": "stream",
     "text": [
      "Epoch: 158     Loss: 0.04132     Training Acc: 0.98815     Validation Acc: 0.97125\n"
     ]
    },
    {
     "name": "stderr",
     "output_type": "stream",
     "text": [
      "Batch: 100%|████████████████████████████████████████████████████████████████████████| 240/240 [00:00<00:00, 293.46it/s]\n"
     ]
    },
    {
     "name": "stdout",
     "output_type": "stream",
     "text": [
      "Epoch: 159     Loss: 0.04101     Training Acc: 0.98857     Validation Acc: 0.97133\n"
     ]
    },
    {
     "name": "stderr",
     "output_type": "stream",
     "text": [
      "Batch: 100%|████████████████████████████████████████████████████████████████████████| 240/240 [00:00<00:00, 279.07it/s]\n"
     ]
    },
    {
     "name": "stdout",
     "output_type": "stream",
     "text": [
      "Epoch: 160     Loss: 0.04073     Training Acc: 0.98857     Validation Acc: 0.97141\n"
     ]
    },
    {
     "name": "stderr",
     "output_type": "stream",
     "text": [
      "Batch: 100%|████████████████████████████████████████████████████████████████████████| 240/240 [00:00<00:00, 280.72it/s]\n"
     ]
    },
    {
     "name": "stdout",
     "output_type": "stream",
     "text": [
      "Epoch: 161     Loss: 0.04042     Training Acc: 0.98882     Validation Acc: 0.97149\n"
     ]
    },
    {
     "name": "stderr",
     "output_type": "stream",
     "text": [
      "Batch: 100%|████████████████████████████████████████████████████████████████████████| 240/240 [00:00<00:00, 261.97it/s]\n"
     ]
    },
    {
     "name": "stdout",
     "output_type": "stream",
     "text": [
      "Epoch: 162     Loss: 0.0401     Training Acc: 0.98873     Validation Acc: 0.97157\n"
     ]
    },
    {
     "name": "stderr",
     "output_type": "stream",
     "text": [
      "Batch: 100%|████████████████████████████████████████████████████████████████████████| 240/240 [00:00<00:00, 280.76it/s]\n"
     ]
    },
    {
     "name": "stdout",
     "output_type": "stream",
     "text": [
      "Epoch: 163     Loss: 0.03983     Training Acc: 0.98873     Validation Acc: 0.97165\n"
     ]
    },
    {
     "name": "stderr",
     "output_type": "stream",
     "text": [
      "Batch: 100%|████████████████████████████████████████████████████████████████████████| 240/240 [00:00<00:00, 263.46it/s]\n"
     ]
    },
    {
     "name": "stdout",
     "output_type": "stream",
     "text": [
      "Epoch: 164     Loss: 0.03957     Training Acc: 0.98898     Validation Acc: 0.97173\n"
     ]
    },
    {
     "name": "stderr",
     "output_type": "stream",
     "text": [
      "Batch: 100%|████████████████████████████████████████████████████████████████████████| 240/240 [00:00<00:00, 287.22it/s]\n"
     ]
    },
    {
     "name": "stdout",
     "output_type": "stream",
     "text": [
      "Epoch: 165     Loss: 0.03927     Training Acc: 0.98882     Validation Acc: 0.97181\n"
     ]
    },
    {
     "name": "stderr",
     "output_type": "stream",
     "text": [
      "Batch: 100%|████████████████████████████████████████████████████████████████████████| 240/240 [00:00<00:00, 292.05it/s]\n"
     ]
    },
    {
     "name": "stdout",
     "output_type": "stream",
     "text": [
      "Epoch: 166     Loss: 0.03899     Training Acc: 0.98898     Validation Acc: 0.97189\n"
     ]
    },
    {
     "name": "stderr",
     "output_type": "stream",
     "text": [
      "Batch: 100%|████████████████████████████████████████████████████████████████████████| 240/240 [00:00<00:00, 286.15it/s]\n"
     ]
    },
    {
     "name": "stdout",
     "output_type": "stream",
     "text": [
      "Epoch: 167     Loss: 0.03869     Training Acc: 0.98923     Validation Acc: 0.97197\n"
     ]
    },
    {
     "name": "stderr",
     "output_type": "stream",
     "text": [
      "Batch: 100%|████████████████████████████████████████████████████████████████████████| 240/240 [00:00<00:00, 281.81it/s]\n"
     ]
    },
    {
     "name": "stdout",
     "output_type": "stream",
     "text": [
      "Epoch: 168     Loss: 0.03841     Training Acc: 0.98898     Validation Acc: 0.97205\n"
     ]
    },
    {
     "name": "stderr",
     "output_type": "stream",
     "text": [
      "Batch: 100%|████████████████████████████████████████████████████████████████████████| 240/240 [00:00<00:00, 281.10it/s]\n"
     ]
    },
    {
     "name": "stdout",
     "output_type": "stream",
     "text": [
      "Epoch: 169     Loss: 0.03815     Training Acc: 0.98923     Validation Acc: 0.97213\n"
     ]
    },
    {
     "name": "stderr",
     "output_type": "stream",
     "text": [
      "Batch: 100%|████████████████████████████████████████████████████████████████████████| 240/240 [00:00<00:00, 282.04it/s]\n"
     ]
    },
    {
     "name": "stdout",
     "output_type": "stream",
     "text": [
      "Epoch: 170     Loss: 0.03789     Training Acc: 0.98907     Validation Acc: 0.9722\n"
     ]
    },
    {
     "name": "stderr",
     "output_type": "stream",
     "text": [
      "Batch: 100%|████████████████████████████████████████████████████████████████████████| 240/240 [00:00<00:00, 288.82it/s]\n"
     ]
    },
    {
     "name": "stdout",
     "output_type": "stream",
     "text": [
      "Epoch: 171     Loss: 0.03763     Training Acc: 0.98932     Validation Acc: 0.97228\n"
     ]
    },
    {
     "name": "stderr",
     "output_type": "stream",
     "text": [
      "Batch: 100%|████████████████████████████████████████████████████████████████████████| 240/240 [00:00<00:00, 288.96it/s]\n"
     ]
    },
    {
     "name": "stdout",
     "output_type": "stream",
     "text": [
      "Epoch: 172     Loss: 0.03732     Training Acc: 0.9894     Validation Acc: 0.97236\n"
     ]
    },
    {
     "name": "stderr",
     "output_type": "stream",
     "text": [
      "Batch: 100%|████████████████████████████████████████████████████████████████████████| 240/240 [00:00<00:00, 287.36it/s]\n"
     ]
    },
    {
     "name": "stdout",
     "output_type": "stream",
     "text": [
      "Epoch: 173     Loss: 0.03707     Training Acc: 0.98957     Validation Acc: 0.97244\n"
     ]
    },
    {
     "name": "stderr",
     "output_type": "stream",
     "text": [
      "Batch: 100%|████████████████████████████████████████████████████████████████████████| 240/240 [00:00<00:00, 273.96it/s]\n"
     ]
    },
    {
     "name": "stdout",
     "output_type": "stream",
     "text": [
      "Epoch: 174     Loss: 0.03674     Training Acc: 0.9894     Validation Acc: 0.97251\n"
     ]
    },
    {
     "name": "stderr",
     "output_type": "stream",
     "text": [
      "Batch: 100%|████████████████████████████████████████████████████████████████████████| 240/240 [00:00<00:00, 288.80it/s]\n"
     ]
    },
    {
     "name": "stdout",
     "output_type": "stream",
     "text": [
      "Epoch: 175     Loss: 0.03652     Training Acc: 0.9899     Validation Acc: 0.97259\n"
     ]
    },
    {
     "name": "stderr",
     "output_type": "stream",
     "text": [
      "Batch: 100%|████████████████████████████████████████████████████████████████████████| 240/240 [00:00<00:00, 292.71it/s]\n"
     ]
    },
    {
     "name": "stdout",
     "output_type": "stream",
     "text": [
      "Epoch: 176     Loss: 0.03631     Training Acc: 0.98982     Validation Acc: 0.97266\n"
     ]
    },
    {
     "name": "stderr",
     "output_type": "stream",
     "text": [
      "Batch: 100%|████████████████████████████████████████████████████████████████████████| 240/240 [00:00<00:00, 287.43it/s]\n"
     ]
    },
    {
     "name": "stdout",
     "output_type": "stream",
     "text": [
      "Epoch: 177     Loss: 0.03603     Training Acc: 0.9899     Validation Acc: 0.97273\n"
     ]
    },
    {
     "name": "stderr",
     "output_type": "stream",
     "text": [
      "Batch: 100%|████████████████████████████████████████████████████████████████████████| 240/240 [00:00<00:00, 281.69it/s]\n"
     ]
    },
    {
     "name": "stdout",
     "output_type": "stream",
     "text": [
      "Epoch: 178     Loss: 0.03575     Training Acc: 0.98998     Validation Acc: 0.97281\n"
     ]
    },
    {
     "name": "stderr",
     "output_type": "stream",
     "text": [
      "Batch: 100%|████████████████████████████████████████████████████████████████████████| 240/240 [00:00<00:00, 290.21it/s]\n"
     ]
    },
    {
     "name": "stdout",
     "output_type": "stream",
     "text": [
      "Epoch: 179     Loss: 0.03555     Training Acc: 0.99007     Validation Acc: 0.97288\n"
     ]
    },
    {
     "name": "stderr",
     "output_type": "stream",
     "text": [
      "Batch: 100%|████████████████████████████████████████████████████████████████████████| 240/240 [00:00<00:00, 276.82it/s]\n"
     ]
    },
    {
     "name": "stdout",
     "output_type": "stream",
     "text": [
      "Epoch: 180     Loss: 0.03524     Training Acc: 0.99032     Validation Acc: 0.97295\n"
     ]
    },
    {
     "name": "stderr",
     "output_type": "stream",
     "text": [
      "Batch: 100%|████████████████████████████████████████████████████████████████████████| 240/240 [00:00<00:00, 287.77it/s]\n"
     ]
    },
    {
     "name": "stdout",
     "output_type": "stream",
     "text": [
      "Epoch: 181     Loss: 0.035     Training Acc: 0.99007     Validation Acc: 0.97303\n"
     ]
    },
    {
     "name": "stderr",
     "output_type": "stream",
     "text": [
      "Batch: 100%|████████████████████████████████████████████████████████████████████████| 240/240 [00:00<00:00, 290.21it/s]\n"
     ]
    },
    {
     "name": "stdout",
     "output_type": "stream",
     "text": [
      "Epoch: 182     Loss: 0.03479     Training Acc: 0.99049     Validation Acc: 0.9731\n"
     ]
    },
    {
     "name": "stderr",
     "output_type": "stream",
     "text": [
      "Batch: 100%|████████████████████████████████████████████████████████████████████████| 240/240 [00:00<00:00, 284.57it/s]\n"
     ]
    },
    {
     "name": "stdout",
     "output_type": "stream",
     "text": [
      "Epoch: 183     Loss: 0.03452     Training Acc: 0.99057     Validation Acc: 0.97317\n"
     ]
    },
    {
     "name": "stderr",
     "output_type": "stream",
     "text": [
      "Batch: 100%|████████████████████████████████████████████████████████████████████████| 240/240 [00:00<00:00, 278.95it/s]\n"
     ]
    },
    {
     "name": "stdout",
     "output_type": "stream",
     "text": [
      "Epoch: 184     Loss: 0.03427     Training Acc: 0.99057     Validation Acc: 0.97323\n"
     ]
    },
    {
     "name": "stderr",
     "output_type": "stream",
     "text": [
      "Batch: 100%|████████████████████████████████████████████████████████████████████████| 240/240 [00:00<00:00, 288.52it/s]\n"
     ]
    },
    {
     "name": "stdout",
     "output_type": "stream",
     "text": [
      "Epoch: 185     Loss: 0.03401     Training Acc: 0.99074     Validation Acc: 0.9733\n"
     ]
    },
    {
     "name": "stderr",
     "output_type": "stream",
     "text": [
      "Batch: 100%|████████████████████████████████████████████████████████████████████████| 240/240 [00:00<00:00, 291.09it/s]\n"
     ]
    },
    {
     "name": "stdout",
     "output_type": "stream",
     "text": [
      "Epoch: 186     Loss: 0.03381     Training Acc: 0.99132     Validation Acc: 0.97337\n"
     ]
    },
    {
     "name": "stderr",
     "output_type": "stream",
     "text": [
      "Batch: 100%|████████████████████████████████████████████████████████████████████████| 240/240 [00:00<00:00, 288.02it/s]\n"
     ]
    },
    {
     "name": "stdout",
     "output_type": "stream",
     "text": [
      "Epoch: 187     Loss: 0.03354     Training Acc: 0.99115     Validation Acc: 0.97343\n"
     ]
    },
    {
     "name": "stderr",
     "output_type": "stream",
     "text": [
      "Batch: 100%|████████████████████████████████████████████████████████████████████████| 240/240 [00:00<00:00, 285.85it/s]\n"
     ]
    },
    {
     "name": "stdout",
     "output_type": "stream",
     "text": [
      "Epoch: 188     Loss: 0.03334     Training Acc: 0.99099     Validation Acc: 0.9735\n"
     ]
    },
    {
     "name": "stderr",
     "output_type": "stream",
     "text": [
      "Batch: 100%|████████████████████████████████████████████████████████████████████████| 240/240 [00:00<00:00, 292.58it/s]\n"
     ]
    },
    {
     "name": "stdout",
     "output_type": "stream",
     "text": [
      "Epoch: 189     Loss: 0.0331     Training Acc: 0.99082     Validation Acc: 0.97356\n"
     ]
    },
    {
     "name": "stderr",
     "output_type": "stream",
     "text": [
      "Batch: 100%|████████████████████████████████████████████████████████████████████████| 240/240 [00:00<00:00, 281.07it/s]\n"
     ]
    },
    {
     "name": "stdout",
     "output_type": "stream",
     "text": [
      "Epoch: 190     Loss: 0.03286     Training Acc: 0.99124     Validation Acc: 0.97363\n"
     ]
    },
    {
     "name": "stderr",
     "output_type": "stream",
     "text": [
      "Batch: 100%|████████████████████████████████████████████████████████████████████████| 240/240 [00:00<00:00, 287.77it/s]\n"
     ]
    },
    {
     "name": "stdout",
     "output_type": "stream",
     "text": [
      "Epoch: 191     Loss: 0.03259     Training Acc: 0.99115     Validation Acc: 0.9737\n"
     ]
    },
    {
     "name": "stderr",
     "output_type": "stream",
     "text": [
      "Batch: 100%|████████████████████████████████████████████████████████████████████████| 240/240 [00:00<00:00, 283.68it/s]\n"
     ]
    },
    {
     "name": "stdout",
     "output_type": "stream",
     "text": [
      "Epoch: 192     Loss: 0.03242     Training Acc: 0.99149     Validation Acc: 0.97376\n"
     ]
    },
    {
     "name": "stderr",
     "output_type": "stream",
     "text": [
      "Batch: 100%|████████████████████████████████████████████████████████████████████████| 240/240 [00:00<00:00, 284.46it/s]\n"
     ]
    },
    {
     "name": "stdout",
     "output_type": "stream",
     "text": [
      "Epoch: 193     Loss: 0.03213     Training Acc: 0.99174     Validation Acc: 0.97382\n"
     ]
    },
    {
     "name": "stderr",
     "output_type": "stream",
     "text": [
      "Batch: 100%|████████████████████████████████████████████████████████████████████████| 240/240 [00:00<00:00, 265.91it/s]\n"
     ]
    },
    {
     "name": "stdout",
     "output_type": "stream",
     "text": [
      "Epoch: 194     Loss: 0.03193     Training Acc: 0.99174     Validation Acc: 0.97389\n"
     ]
    },
    {
     "name": "stderr",
     "output_type": "stream",
     "text": [
      "Batch: 100%|████████████████████████████████████████████████████████████████████████| 240/240 [00:00<00:00, 280.42it/s]\n"
     ]
    },
    {
     "name": "stdout",
     "output_type": "stream",
     "text": [
      "Epoch: 195     Loss: 0.03172     Training Acc: 0.99157     Validation Acc: 0.97395\n"
     ]
    },
    {
     "name": "stderr",
     "output_type": "stream",
     "text": [
      "Batch: 100%|████████████████████████████████████████████████████████████████████████| 240/240 [00:00<00:00, 285.66it/s]\n"
     ]
    },
    {
     "name": "stdout",
     "output_type": "stream",
     "text": [
      "Epoch: 196     Loss: 0.03147     Training Acc: 0.9919     Validation Acc: 0.97401\n"
     ]
    },
    {
     "name": "stderr",
     "output_type": "stream",
     "text": [
      "Batch: 100%|████████████████████████████████████████████████████████████████████████| 240/240 [00:00<00:00, 285.36it/s]\n"
     ]
    },
    {
     "name": "stdout",
     "output_type": "stream",
     "text": [
      "Epoch: 197     Loss: 0.03129     Training Acc: 0.99165     Validation Acc: 0.97408\n"
     ]
    },
    {
     "name": "stderr",
     "output_type": "stream",
     "text": [
      "Batch: 100%|████████████████████████████████████████████████████████████████████████| 240/240 [00:00<00:00, 290.88it/s]\n"
     ]
    },
    {
     "name": "stdout",
     "output_type": "stream",
     "text": [
      "Epoch: 198     Loss: 0.03107     Training Acc: 0.99199     Validation Acc: 0.97414\n"
     ]
    },
    {
     "name": "stderr",
     "output_type": "stream",
     "text": [
      "Batch: 100%|████████████████████████████████████████████████████████████████████████| 240/240 [00:00<00:00, 287.81it/s]\n"
     ]
    },
    {
     "name": "stdout",
     "output_type": "stream",
     "text": [
      "Epoch: 199     Loss: 0.03083     Training Acc: 0.99174     Validation Acc: 0.9742\n"
     ]
    },
    {
     "data": {
      "text/plain": [
       "0.0291713982711001"
      ]
     },
     "execution_count": 23,
     "metadata": {},
     "output_type": "execute_result"
    }
   ],
   "source": [
    "#hide\n",
    "learner.train_loop(train_dl, X_test, y_test)"
   ]
  },
  {
   "cell_type": "markdown",
   "metadata": {},
   "source": [
    "Now that the training has completed, let's take a look at how our model performed."
   ]
  },
  {
   "cell_type": "code",
   "execution_count": 24,
   "metadata": {},
   "outputs": [
    {
     "data": {
      "image/png": "[encoded data removed]",
      "text/plain": [
       "<Figure size 1008x504 with 1 Axes>"
      ]
     },
     "metadata": {
      "needs_background": "light"
     },
     "output_type": "display_data"
    }
   ],
   "source": [
    "#collapse\n",
    "plt.figure(figsize=(14,7))\n",
    "plt.plot(acc.accuracies, label = \"Training Accuracy\", linewidth = \"3\")\n",
    "plt.plot(acc.test_accuracies, label = \"Validation Accuracy\", linewidth = \"3\")\n",
    "plt.legend(loc='upper left')\n",
    "plt.grid('both', alpha = 0.95, linestyle=\"--\")\n",
    "plt.title(\"Training Accuracy vs. Validation Accuracy\");"
   ]
  },
  {
   "cell_type": "markdown",
   "metadata": {},
   "source": [
    "Not too bad! \n",
    "\n",
    "Usually when the epochs progress, if the training accuracy and validation accuracy differ widely and move away from each other, then it is a sign of *overfitting*.\n",
    "\n",
    "In our case, there is a small \"moving away\" happening. But since it is not so singificant, we are allowed to call it a good performance. \n",
    "\n",
    "The intuition behind validation accuracy and training accuracy is that if your model ends up learning *too* well, then it wouldn't be able to generalize for any new data it sees. This is ,in fact, what we call overfitting."
   ]
  },
  {
   "cell_type": "code",
   "execution_count": 25,
   "metadata": {
    "scrolled": true
   },
   "outputs": [
    {
     "data": {
      "image/png": "[encoded data removed]",
      "text/plain": [
       "<Figure size 1008x504 with 1 Axes>"
      ]
     },
     "metadata": {
      "needs_background": "light"
     },
     "output_type": "display_data"
    }
   ],
   "source": [
    "#collapse\n",
    "plt.figure(figsize=(14,7))\n",
    "plt.plot(acc.losses, linewidth = \"3\", color = \"b\")\n",
    "plt.grid('both', alpha = 0.95, linestyle=\"--\")\n",
    "plt.title(\"Losses over Epochs\");"
   ]
  },
  {
   "cell_type": "markdown",
   "metadata": {},
   "source": [
    "The graph above is the loss we see over the epochs. Clearly, the model is learning to approach the global minima through gradient descent. \n",
    "\n",
    "(although it is important to note that we may not have reached it completely) "
   ]
  },
  {
   "cell_type": "code",
   "execution_count": 26,
   "metadata": {},
   "outputs": [
    {
     "data": {
      "image/png": "[encoded data removed]",
      "text/plain": [
       "<Figure size 1008x504 with 1 Axes>"
      ]
     },
     "metadata": {
      "needs_background": "light"
     },
     "output_type": "display_data"
    }
   ],
   "source": [
    "#collapse\n",
    "plt.figure(figsize=(14,7))\n",
    "plt.plot(acc.batch_losses, color = \"r\")\n",
    "plt.grid('both', alpha = 0.95, linestyle=\"--\")\n",
    "plt.title(\"Batch Losses over Epochs\");"
   ]
  },
  {
   "cell_type": "markdown",
   "metadata": {},
   "source": [
    "### 4. Plot the results\n",
    "\n",
    "Our accuracy is 99.2%. Nice!\n",
    "\n",
    "In order to see this more clearly, tn the embedding space ( the inputs of the \"logistic regression\") I am now plotting the data points by running them forward through the network. \n",
    "\n",
    "By coloring coding them with their actual class and plotting the probability contours (these will all be lines in the embedding space as from here on, this is a logistic regression), we can bettersee the points stranded on the \"wrong\" side of the probability 1/2 line. \n",
    "\n",
    "I have also plotted the predictions against the actual values showing where they are in the embedding space.\n",
    "\n",
    "I have also tried doing a 3D plot to see the Sigma shape of the logistics working. (X - first output from the affine layer; Y- second output from the affine layer; Z - the probability of the X,Y data)"
   ]
  },
  {
   "cell_type": "code",
   "execution_count": 27,
   "metadata": {},
   "outputs": [],
   "source": [
    "#collapse\n",
    "actual_inputs = np.concatenate((X_train, X_test))\n",
    "actual_outputs = np.concatenate((y_train, y_test))\n",
    "predicted_outputs =  1*(model(actual_inputs) >= 0.5)"
   ]
  },
  {
   "cell_type": "code",
   "execution_count": 47,
   "metadata": {},
   "outputs": [
    {
     "name": "stdout",
     "output_type": "stream",
     "text": [
      "Your model accuracy is 99.10496921094085.\n"
     ]
    }
   ],
   "source": [
    "#collapse\n",
    "print(\"Your model accuracy is \"+ str(np.mean(actual_outputs == predicted_outputs) * 100) +'.')"
   ]
  },
  {
   "cell_type": "code",
   "execution_count": 29,
   "metadata": {},
   "outputs": [],
   "source": [
    "#collapse\n",
    "#hide\n",
    "\n",
    "#getting the last two layers for plotting\n",
    "prob_layer = [Affine(\"output\", 2, 1), Sigmoid(\"sigmoid\")]\n",
    "prob_model = Model(prob_layer)\n",
    "prob_model.layers[0].params['w'] = model.layers[5].params['w']\n",
    "prob_model.layers[0].params['b'] = model.layers[5].params['b']"
   ]
  },
  {
   "cell_type": "code",
   "execution_count": 30,
   "metadata": {},
   "outputs": [],
   "source": [
    "#hide\n",
    "\n",
    "#getting the layers upto the affine layer for plotting\n",
    "visualize_layers = [Affine(\"first\", 784, 100), Relu(\"relu\"), Affine(\"second\", 100, 100), Relu(\"relu\"), Affine(\"third\", 100, 2)]\n",
    "visualize_model = Model(visualize_layers)"
   ]
  },
  {
   "cell_type": "code",
   "execution_count": 31,
   "metadata": {},
   "outputs": [],
   "source": [
    "#hide\n",
    "visualize_model.layers[0].params['w'] = model.layers[0].params['w']\n",
    "visualize_model.layers[0].params['b'] = model.layers[0].params['b']\n",
    "visualize_model.layers[2].params['w'] = model.layers[2].params['w']\n",
    "visualize_model.layers[2].params['b'] = model.layers[0].params['b']\n",
    "visualize_model.layers[4].params['w'] = model.layers[4].params['w']\n",
    "visualize_model.layers[4].params['b'] = model.layers[4].params['b']"
   ]
  },
  {
   "cell_type": "code",
   "execution_count": 32,
   "metadata": {},
   "outputs": [],
   "source": [
    "#hide\n",
    "visualization_points_3 = visualize_model(data_3)\n",
    "model_points_3 = model(data_3)\n",
    "\n",
    "visualization_points_8 = visualize_model(data_8)\n",
    "model_points_8 = model(data_8)"
   ]
  },
  {
   "cell_type": "code",
   "execution_count": 33,
   "metadata": {},
   "outputs": [],
   "source": [
    "#collapse\n",
    "visualize_model_1 = Model(layers[:-2])\n",
    "plot_testing = visualize_model_1(X_test)"
   ]
  },
  {
   "cell_type": "code",
   "execution_count": 34,
   "metadata": {
    "scrolled": true
   },
   "outputs": [
    {
     "data": {
      "image/png": "[encoded data removed]",
      "text/plain": [
       "<Figure size 1008x504 with 1 Axes>"
      ]
     },
     "metadata": {
      "needs_background": "light"
     },
     "output_type": "display_data"
    }
   ],
   "source": [
    "#collapse\n",
    "plt.figure(figsize=(14,7))\n",
    "plt.scatter(plot_testing[:,0], plot_testing[:,1], c = y_test.ravel());\n",
    "plt.title(\"Visualization of the two classes of data in 2D space\");"
   ]
  },
  {
   "cell_type": "code",
   "execution_count": 35,
   "metadata": {},
   "outputs": [],
   "source": [
    "#collapse\n",
    "#this would be our probability layer (last two layers)\n",
    "model_prob = Model(layers[-2:])"
   ]
  },
  {
   "cell_type": "code",
   "execution_count": 36,
   "metadata": {},
   "outputs": [],
   "source": [
    "#collapse\n",
    "xgrid = np.linspace(-4, 1, 100) \n",
    "ygrid = np.linspace(-7.5, 7.5, 100) \n",
    "xg, yg = np.meshgrid(xgrid, ygrid)\n",
    "# xg and yg are now both 100X100 -> we need to conver them to single arrays \n",
    "\n",
    "xg_interim = np.ravel(xg)\n",
    "yg_interim = np.ravel(yg)\n",
    "\n",
    "# xg_interim, yg_interim are now arrays of len 10000, now we will stack them and then transpose to get desired shape of n rows, 2 columns\n",
    "\n",
    "X_interim = np.vstack((xg_interim, yg_interim)) \n",
    "X = X_interim.T\n",
    "\n",
    "# We want a shape of n rows and 2 columns in order to be able to feed this to last affine\n",
    "# This last affine takes only two columns, hence the above transformation\n",
    "probability_contour = model_prob(X).reshape(100,100) "
   ]
  },
  {
   "cell_type": "code",
   "execution_count": 43,
   "metadata": {
    "scrolled": true
   },
   "outputs": [
    {
     "data": {
      "image/png": "[encoded data removed]",
      "text/plain": [
       "<Figure size 1008x504 with 1 Axes>"
      ]
     },
     "metadata": {
      "needs_background": "light"
     },
     "output_type": "display_data"
    }
   ],
   "source": [
    "#collapse\n",
    "plt.figure(figsize=(14,7))\n",
    "plt.scatter(plot_testing[:,0], plot_testing[:,1], c = y_test.ravel())\n",
    "contours = plt.contour(xg,yg,probability_contour)\n",
    "plt.clabel(contours, inline = True );\n",
    "plt.title(\"Probability Contour that distinguishes one data class from the other\");"
   ]
  },
  {
   "cell_type": "code",
   "execution_count": 38,
   "metadata": {},
   "outputs": [
    {
     "data": {
      "image/png": "[encoded data removed]",
      "text/plain": [
       "<Figure size 1080x720 with 1 Axes>"
      ]
     },
     "metadata": {
      "needs_background": "light"
     },
     "output_type": "display_data"
    }
   ],
   "source": [
    "#collapse\n",
    "import numpy as np\n",
    "from mpl_toolkits.mplot3d import Axes3D\n",
    "import pandas as pd\n",
    "import matplotlib.pyplot as plt\n",
    "import scipy\n",
    "import math\n",
    "from matplotlib import cm\n",
    "\n",
    "xx, yy = np.mgrid[-5:5:.01, -5:5:.01]\n",
    "grid = np.c_[xx.ravel(), yy.ravel()]\n",
    "probs = prob_model(grid)\n",
    "\n",
    "\n",
    "#contour = ax.contourf(xx, yy, probs, 25, cmap=\"RdBu\", vmin=0, vmax=1)\n",
    "\n",
    "fig = plt.figure(figsize=(15, 10))\n",
    "ax = plt.axes(projection='3d')\n",
    "ax.scatter(model_points_3, visualization_points_3.T[0], visualization_points_3.T[1],linewidth=0, c='r')\n",
    "ax.scatter(model_points_8, visualization_points_8.T[0], visualization_points_8.T[1],linewidth=0, c='b')\n",
    "plt.title(\"3D overview of Input data  wrt to its Sigma value\");\n",
    "#ax.plot_surface(xx, yy, z, alpha=0.2)\n",
    "#ax.view_init(elev=90, azim=75)"
   ]
  },
  {
   "cell_type": "markdown",
   "metadata": {},
   "source": [
    "Super cool! "
   ]
  },
  {
   "cell_type": "markdown",
   "metadata": {},
   "source": [
    "Let's now do a simple Logistic Regression Model and compare it with the Neural Network we had constructed. \n",
    "\n",
    "It would be pretty interesting to see the difference in outcomes. "
   ]
  },
  {
   "cell_type": "code",
   "execution_count": 39,
   "metadata": {
    "scrolled": true
   },
   "outputs": [
    {
     "name": "stderr",
     "output_type": "stream",
     "text": [
      "Batch: 100%|███████████████████████████████████████████████████████████████████████| 240/240 [00:00<00:00, 1037.12it/s]\n"
     ]
    },
    {
     "name": "stdout",
     "output_type": "stream",
     "text": [
      "Epoch: 0     Loss: 0.58236     Training Acc: 0.73335     Validation Acc: 0.85282\n"
     ]
    },
    {
     "name": "stderr",
     "output_type": "stream",
     "text": [
      "Batch: 100%|███████████████████████████████████████████████████████████████████████| 240/240 [00:00<00:00, 1067.15it/s]\n"
     ]
    },
    {
     "name": "stdout",
     "output_type": "stream",
     "text": [
      "Epoch: 1     Loss: 0.47881     Training Acc: 0.85946     Validation Acc: 0.87147\n"
     ]
    },
    {
     "name": "stderr",
     "output_type": "stream",
     "text": [
      "Batch: 100%|███████████████████████████████████████████████████████████████████████| 240/240 [00:00<00:00, 1016.04it/s]\n"
     ]
    },
    {
     "name": "stdout",
     "output_type": "stream",
     "text": [
      "Epoch: 2     Loss: 0.41954     Training Acc: 0.88291     Validation Acc: 0.8829\n"
     ]
    },
    {
     "name": "stderr",
     "output_type": "stream",
     "text": [
      "Batch: 100%|███████████████████████████████████████████████████████████████████████| 240/240 [00:00<00:00, 1204.21it/s]\n"
     ]
    },
    {
     "name": "stdout",
     "output_type": "stream",
     "text": [
      "Epoch: 3     Loss: 0.37932     Training Acc: 0.89618     Validation Acc: 0.89025\n"
     ]
    },
    {
     "name": "stderr",
     "output_type": "stream",
     "text": [
      "Batch: 100%|███████████████████████████████████████████████████████████████████████| 240/240 [00:00<00:00, 1025.33it/s]\n"
     ]
    },
    {
     "name": "stdout",
     "output_type": "stream",
     "text": [
      "Epoch: 4     Loss: 0.3501     Training Acc: 0.90452     Validation Acc: 0.89556\n"
     ]
    },
    {
     "name": "stderr",
     "output_type": "stream",
     "text": [
      "Batch: 100%|████████████████████████████████████████████████████████████████████████| 240/240 [00:00<00:00, 981.83it/s]\n"
     ]
    },
    {
     "name": "stdout",
     "output_type": "stream",
     "text": [
      "Epoch: 5     Loss: 0.32775     Training Acc: 0.90903     Validation Acc: 0.90012\n"
     ]
    },
    {
     "name": "stderr",
     "output_type": "stream",
     "text": [
      "Batch: 100%|███████████████████████████████████████████████████████████████████████| 240/240 [00:00<00:00, 1061.31it/s]\n"
     ]
    },
    {
     "name": "stdout",
     "output_type": "stream",
     "text": [
      "Epoch: 6     Loss: 0.31002     Training Acc: 0.91295     Validation Acc: 0.90402\n"
     ]
    },
    {
     "name": "stderr",
     "output_type": "stream",
     "text": [
      "Batch: 100%|███████████████████████████████████████████████████████████████████████| 240/240 [00:00<00:00, 1128.84it/s]\n"
     ]
    },
    {
     "name": "stdout",
     "output_type": "stream",
     "text": [
      "Epoch: 7     Loss: 0.29545     Training Acc: 0.91662     Validation Acc: 0.90738\n"
     ]
    },
    {
     "name": "stderr",
     "output_type": "stream",
     "text": [
      "Batch: 100%|███████████████████████████████████████████████████████████████████████| 240/240 [00:00<00:00, 1160.38it/s]\n"
     ]
    },
    {
     "name": "stdout",
     "output_type": "stream",
     "text": [
      "Epoch: 8     Loss: 0.28323     Training Acc: 0.91946     Validation Acc: 0.91034\n"
     ]
    },
    {
     "name": "stderr",
     "output_type": "stream",
     "text": [
      "Batch: 100%|███████████████████████████████████████████████████████████████████████| 240/240 [00:00<00:00, 1094.10it/s]\n"
     ]
    },
    {
     "name": "stdout",
     "output_type": "stream",
     "text": [
      "Epoch: 9     Loss: 0.27279     Training Acc: 0.92297     Validation Acc: 0.91321\n"
     ]
    },
    {
     "name": "stderr",
     "output_type": "stream",
     "text": [
      "Batch: 100%|███████████████████████████████████████████████████████████████████████| 240/240 [00:00<00:00, 1007.11it/s]\n"
     ]
    },
    {
     "name": "stdout",
     "output_type": "stream",
     "text": [
      "Epoch: 10     Loss: 0.26373     Training Acc: 0.92464     Validation Acc: 0.91555\n"
     ]
    },
    {
     "name": "stderr",
     "output_type": "stream",
     "text": [
      "Batch: 100%|███████████████████████████████████████████████████████████████████████| 240/240 [00:00<00:00, 1089.14it/s]\n"
     ]
    },
    {
     "name": "stdout",
     "output_type": "stream",
     "text": [
      "Epoch: 11     Loss: 0.25575     Training Acc: 0.92697     Validation Acc: 0.91763\n"
     ]
    },
    {
     "name": "stderr",
     "output_type": "stream",
     "text": [
      "Batch: 100%|███████████████████████████████████████████████████████████████████████| 240/240 [00:00<00:00, 1108.27it/s]\n"
     ]
    },
    {
     "name": "stdout",
     "output_type": "stream",
     "text": [
      "Epoch: 12     Loss: 0.24869     Training Acc: 0.92831     Validation Acc: 0.91947\n"
     ]
    },
    {
     "name": "stderr",
     "output_type": "stream",
     "text": [
      "Batch: 100%|███████████████████████████████████████████████████████████████████████| 240/240 [00:00<00:00, 1047.01it/s]\n"
     ]
    },
    {
     "name": "stdout",
     "output_type": "stream",
     "text": [
      "Epoch: 13     Loss: 0.24236     Training Acc: 0.92981     Validation Acc: 0.92112\n"
     ]
    },
    {
     "name": "stderr",
     "output_type": "stream",
     "text": [
      "Batch: 100%|███████████████████████████████████████████████████████████████████████| 240/240 [00:00<00:00, 1243.92it/s]\n"
     ]
    },
    {
     "name": "stdout",
     "output_type": "stream",
     "text": [
      "Epoch: 14     Loss: 0.23665     Training Acc: 0.93081     Validation Acc: 0.92265\n"
     ]
    },
    {
     "name": "stderr",
     "output_type": "stream",
     "text": [
      "Batch: 100%|███████████████████████████████████████████████████████████████████████| 240/240 [00:00<00:00, 1082.15it/s]\n"
     ]
    },
    {
     "name": "stdout",
     "output_type": "stream",
     "text": [
      "Epoch: 15     Loss: 0.23147     Training Acc: 0.93173     Validation Acc: 0.92411\n"
     ]
    },
    {
     "name": "stderr",
     "output_type": "stream",
     "text": [
      "Batch: 100%|███████████████████████████████████████████████████████████████████████| 240/240 [00:00<00:00, 1156.87it/s]\n"
     ]
    },
    {
     "name": "stdout",
     "output_type": "stream",
     "text": [
      "Epoch: 16     Loss: 0.22673     Training Acc: 0.93265     Validation Acc: 0.9254\n"
     ]
    },
    {
     "name": "stderr",
     "output_type": "stream",
     "text": [
      "Batch: 100%|███████████████████████████████████████████████████████████████████████| 240/240 [00:00<00:00, 1028.48it/s]\n"
     ]
    },
    {
     "name": "stdout",
     "output_type": "stream",
     "text": [
      "Epoch: 17     Loss: 0.22237     Training Acc: 0.93373     Validation Acc: 0.92658\n"
     ]
    },
    {
     "name": "stderr",
     "output_type": "stream",
     "text": [
      "Batch: 100%|███████████████████████████████████████████████████████████████████████| 240/240 [00:00<00:00, 1337.11it/s]\n"
     ]
    },
    {
     "name": "stdout",
     "output_type": "stream",
     "text": [
      "Epoch: 18     Loss: 0.21836     Training Acc: 0.93532     Validation Acc: 0.92768\n"
     ]
    },
    {
     "name": "stderr",
     "output_type": "stream",
     "text": [
      "Batch: 100%|███████████████████████████████████████████████████████████████████████| 240/240 [00:00<00:00, 1256.55it/s]\n"
     ]
    },
    {
     "name": "stdout",
     "output_type": "stream",
     "text": [
      "Epoch: 19     Loss: 0.21466     Training Acc: 0.93615     Validation Acc: 0.92873\n"
     ]
    },
    {
     "name": "stderr",
     "output_type": "stream",
     "text": [
      "Batch: 100%|███████████████████████████████████████████████████████████████████████| 240/240 [00:00<00:00, 1063.47it/s]\n"
     ]
    },
    {
     "name": "stdout",
     "output_type": "stream",
     "text": [
      "Epoch: 20     Loss: 0.2112     Training Acc: 0.93691     Validation Acc: 0.9297\n"
     ]
    },
    {
     "name": "stderr",
     "output_type": "stream",
     "text": [
      "Batch: 100%|███████████████████████████████████████████████████████████████████████| 240/240 [00:00<00:00, 1279.88it/s]\n"
     ]
    },
    {
     "name": "stdout",
     "output_type": "stream",
     "text": [
      "Epoch: 21     Loss: 0.20799     Training Acc: 0.93782     Validation Acc: 0.9306\n"
     ]
    },
    {
     "name": "stderr",
     "output_type": "stream",
     "text": [
      "Batch: 100%|███████████████████████████████████████████████████████████████████████| 240/240 [00:00<00:00, 1109.72it/s]\n"
     ]
    },
    {
     "name": "stdout",
     "output_type": "stream",
     "text": [
      "Epoch: 22     Loss: 0.20498     Training Acc: 0.93874     Validation Acc: 0.93145\n"
     ]
    },
    {
     "name": "stderr",
     "output_type": "stream",
     "text": [
      "Batch: 100%|███████████████████████████████████████████████████████████████████████| 240/240 [00:00<00:00, 1102.33it/s]\n"
     ]
    },
    {
     "name": "stdout",
     "output_type": "stream",
     "text": [
      "Epoch: 23     Loss: 0.20216     Training Acc: 0.93966     Validation Acc: 0.93225\n"
     ]
    },
    {
     "name": "stderr",
     "output_type": "stream",
     "text": [
      "Batch: 100%|███████████████████████████████████████████████████████████████████████| 240/240 [00:00<00:00, 1044.83it/s]\n"
     ]
    },
    {
     "name": "stdout",
     "output_type": "stream",
     "text": [
      "Epoch: 24     Loss: 0.19951     Training Acc: 0.94041     Validation Acc: 0.93302\n"
     ]
    },
    {
     "name": "stderr",
     "output_type": "stream",
     "text": [
      "Batch: 100%|███████████████████████████████████████████████████████████████████████| 240/240 [00:00<00:00, 1208.80it/s]\n"
     ]
    },
    {
     "name": "stdout",
     "output_type": "stream",
     "text": [
      "Epoch: 25     Loss: 0.19701     Training Acc: 0.9415     Validation Acc: 0.93376\n"
     ]
    },
    {
     "name": "stderr",
     "output_type": "stream",
     "text": [
      "Batch: 100%|███████████████████████████████████████████████████████████████████████| 240/240 [00:00<00:00, 1018.76it/s]\n"
     ]
    },
    {
     "name": "stdout",
     "output_type": "stream",
     "text": [
      "Epoch: 26     Loss: 0.19466     Training Acc: 0.94208     Validation Acc: 0.93448\n"
     ]
    },
    {
     "name": "stderr",
     "output_type": "stream",
     "text": [
      "Batch: 100%|███████████████████████████████████████████████████████████████████████| 240/240 [00:00<00:00, 1190.79it/s]\n"
     ]
    },
    {
     "name": "stdout",
     "output_type": "stream",
     "text": [
      "Epoch: 27     Loss: 0.19244     Training Acc: 0.9425     Validation Acc: 0.93518\n"
     ]
    },
    {
     "name": "stderr",
     "output_type": "stream",
     "text": [
      "Batch: 100%|███████████████████████████████████████████████████████████████████████| 240/240 [00:00<00:00, 1171.87it/s]\n"
     ]
    },
    {
     "name": "stdout",
     "output_type": "stream",
     "text": [
      "Epoch: 28     Loss: 0.19032     Training Acc: 0.94316     Validation Acc: 0.93585\n"
     ]
    },
    {
     "name": "stderr",
     "output_type": "stream",
     "text": [
      "Batch: 100%|███████████████████████████████████████████████████████████████████████| 240/240 [00:00<00:00, 1041.07it/s]\n"
     ]
    },
    {
     "name": "stdout",
     "output_type": "stream",
     "text": [
      "Epoch: 29     Loss: 0.18832     Training Acc: 0.94408     Validation Acc: 0.93651\n"
     ]
    },
    {
     "name": "stderr",
     "output_type": "stream",
     "text": [
      "Batch: 100%|███████████████████████████████████████████████████████████████████████| 240/240 [00:00<00:00, 1083.25it/s]\n"
     ]
    },
    {
     "name": "stdout",
     "output_type": "stream",
     "text": [
      "Epoch: 30     Loss: 0.18641     Training Acc: 0.94425     Validation Acc: 0.93711\n"
     ]
    },
    {
     "name": "stderr",
     "output_type": "stream",
     "text": [
      "Batch: 100%|███████████████████████████████████████████████████████████████████████| 240/240 [00:00<00:00, 1118.06it/s]\n"
     ]
    },
    {
     "name": "stdout",
     "output_type": "stream",
     "text": [
      "Epoch: 31     Loss: 0.1846     Training Acc: 0.94517     Validation Acc: 0.93769\n"
     ]
    },
    {
     "name": "stderr",
     "output_type": "stream",
     "text": [
      "Batch: 100%|███████████████████████████████████████████████████████████████████████| 240/240 [00:00<00:00, 1226.20it/s]\n"
     ]
    },
    {
     "name": "stdout",
     "output_type": "stream",
     "text": [
      "Epoch: 32     Loss: 0.18287     Training Acc: 0.9455     Validation Acc: 0.93823\n"
     ]
    },
    {
     "name": "stderr",
     "output_type": "stream",
     "text": [
      "Batch: 100%|███████████████████████████████████████████████████████████████████████| 240/240 [00:00<00:00, 1022.01it/s]\n"
     ]
    },
    {
     "name": "stdout",
     "output_type": "stream",
     "text": [
      "Epoch: 33     Loss: 0.18121     Training Acc: 0.94617     Validation Acc: 0.93875\n"
     ]
    },
    {
     "name": "stderr",
     "output_type": "stream",
     "text": [
      "Batch: 100%|███████████████████████████████████████████████████████████████████████| 240/240 [00:00<00:00, 1058.35it/s]\n"
     ]
    },
    {
     "name": "stdout",
     "output_type": "stream",
     "text": [
      "Epoch: 34     Loss: 0.17964     Training Acc: 0.9465     Validation Acc: 0.93926\n"
     ]
    },
    {
     "name": "stderr",
     "output_type": "stream",
     "text": [
      "Batch: 100%|███████████████████████████████████████████████████████████████████████| 240/240 [00:00<00:00, 1111.24it/s]\n"
     ]
    },
    {
     "name": "stdout",
     "output_type": "stream",
     "text": [
      "Epoch: 35     Loss: 0.17813     Training Acc: 0.94675     Validation Acc: 0.93974\n"
     ]
    },
    {
     "name": "stderr",
     "output_type": "stream",
     "text": [
      "Batch: 100%|███████████████████████████████████████████████████████████████████████| 240/240 [00:00<00:00, 1121.63it/s]\n"
     ]
    },
    {
     "name": "stdout",
     "output_type": "stream",
     "text": [
      "Epoch: 36     Loss: 0.17668     Training Acc: 0.94684     Validation Acc: 0.94021\n"
     ]
    },
    {
     "name": "stderr",
     "output_type": "stream",
     "text": [
      "Batch: 100%|███████████████████████████████████████████████████████████████████████| 240/240 [00:00<00:00, 1149.25it/s]\n"
     ]
    },
    {
     "name": "stdout",
     "output_type": "stream",
     "text": [
      "Epoch: 37     Loss: 0.17529     Training Acc: 0.94725     Validation Acc: 0.94068\n"
     ]
    },
    {
     "name": "stderr",
     "output_type": "stream",
     "text": [
      "Batch: 100%|███████████████████████████████████████████████████████████████████████| 240/240 [00:00<00:00, 1075.34it/s]\n"
     ]
    },
    {
     "name": "stdout",
     "output_type": "stream",
     "text": [
      "Epoch: 38     Loss: 0.17396     Training Acc: 0.94742     Validation Acc: 0.94113\n"
     ]
    },
    {
     "name": "stderr",
     "output_type": "stream",
     "text": [
      "Batch: 100%|███████████████████████████████████████████████████████████████████████| 240/240 [00:00<00:00, 1184.93it/s]\n"
     ]
    },
    {
     "name": "stdout",
     "output_type": "stream",
     "text": [
      "Epoch: 39     Loss: 0.17268     Training Acc: 0.94784     Validation Acc: 0.94157\n"
     ]
    },
    {
     "name": "stderr",
     "output_type": "stream",
     "text": [
      "Batch: 100%|███████████████████████████████████████████████████████████████████████| 240/240 [00:00<00:00, 1045.80it/s]\n"
     ]
    },
    {
     "name": "stdout",
     "output_type": "stream",
     "text": [
      "Epoch: 40     Loss: 0.17144     Training Acc: 0.94767     Validation Acc: 0.94197\n"
     ]
    },
    {
     "name": "stderr",
     "output_type": "stream",
     "text": [
      "Batch: 100%|████████████████████████████████████████████████████████████████████████| 240/240 [00:00<00:00, 999.87it/s]\n"
     ]
    },
    {
     "name": "stdout",
     "output_type": "stream",
     "text": [
      "Epoch: 41     Loss: 0.17026     Training Acc: 0.94842     Validation Acc: 0.94236\n"
     ]
    },
    {
     "name": "stderr",
     "output_type": "stream",
     "text": [
      "Batch: 100%|███████████████████████████████████████████████████████████████████████| 240/240 [00:00<00:00, 1075.82it/s]\n"
     ]
    },
    {
     "name": "stdout",
     "output_type": "stream",
     "text": [
      "Epoch: 42     Loss: 0.16911     Training Acc: 0.94884     Validation Acc: 0.94273\n"
     ]
    },
    {
     "name": "stderr",
     "output_type": "stream",
     "text": [
      "Batch: 100%|███████████████████████████████████████████████████████████████████████| 240/240 [00:00<00:00, 1020.78it/s]\n"
     ]
    },
    {
     "name": "stdout",
     "output_type": "stream",
     "text": [
      "Epoch: 43     Loss: 0.16801     Training Acc: 0.94901     Validation Acc: 0.94311\n"
     ]
    },
    {
     "name": "stderr",
     "output_type": "stream",
     "text": [
      "Batch: 100%|███████████████████████████████████████████████████████████████████████| 240/240 [00:00<00:00, 1132.77it/s]\n"
     ]
    },
    {
     "name": "stdout",
     "output_type": "stream",
     "text": [
      "Epoch: 44     Loss: 0.16694     Training Acc: 0.94934     Validation Acc: 0.94348\n"
     ]
    },
    {
     "name": "stderr",
     "output_type": "stream",
     "text": [
      "Batch: 100%|███████████████████████████████████████████████████████████████████████| 240/240 [00:00<00:00, 1173.57it/s]\n"
     ]
    },
    {
     "name": "stdout",
     "output_type": "stream",
     "text": [
      "Epoch: 45     Loss: 0.16591     Training Acc: 0.94959     Validation Acc: 0.94383\n"
     ]
    },
    {
     "name": "stderr",
     "output_type": "stream",
     "text": [
      "Batch: 100%|███████████████████████████████████████████████████████████████████████| 240/240 [00:00<00:00, 1213.03it/s]\n"
     ]
    },
    {
     "name": "stdout",
     "output_type": "stream",
     "text": [
      "Epoch: 46     Loss: 0.16491     Training Acc: 0.94976     Validation Acc: 0.94419\n"
     ]
    },
    {
     "name": "stderr",
     "output_type": "stream",
     "text": [
      "Batch: 100%|███████████████████████████████████████████████████████████████████████| 240/240 [00:00<00:00, 1179.02it/s]\n"
     ]
    },
    {
     "name": "stdout",
     "output_type": "stream",
     "text": [
      "Epoch: 47     Loss: 0.16397     Training Acc: 0.95001     Validation Acc: 0.94452\n"
     ]
    },
    {
     "name": "stderr",
     "output_type": "stream",
     "text": [
      "Batch: 100%|████████████████████████████████████████████████████████████████████████| 240/240 [00:00<00:00, 952.05it/s]\n"
     ]
    },
    {
     "name": "stdout",
     "output_type": "stream",
     "text": [
      "Epoch: 48     Loss: 0.16303     Training Acc: 0.95018     Validation Acc: 0.94483\n"
     ]
    },
    {
     "name": "stderr",
     "output_type": "stream",
     "text": [
      "Batch: 100%|███████████████████████████████████████████████████████████████████████| 240/240 [00:00<00:00, 1171.44it/s]\n"
     ]
    },
    {
     "name": "stdout",
     "output_type": "stream",
     "text": [
      "Epoch: 49     Loss: 0.16213     Training Acc: 0.95068     Validation Acc: 0.94514\n"
     ]
    },
    {
     "name": "stderr",
     "output_type": "stream",
     "text": [
      "Batch: 100%|███████████████████████████████████████████████████████████████████████| 240/240 [00:00<00:00, 1085.08it/s]\n"
     ]
    },
    {
     "name": "stdout",
     "output_type": "stream",
     "text": [
      "Epoch: 50     Loss: 0.16125     Training Acc: 0.95084     Validation Acc: 0.94545\n"
     ]
    },
    {
     "name": "stderr",
     "output_type": "stream",
     "text": [
      "Batch: 100%|███████████████████████████████████████████████████████████████████████| 240/240 [00:00<00:00, 1075.17it/s]\n"
     ]
    },
    {
     "name": "stdout",
     "output_type": "stream",
     "text": [
      "Epoch: 51     Loss: 0.1604     Training Acc: 0.95084     Validation Acc: 0.94574\n"
     ]
    },
    {
     "name": "stderr",
     "output_type": "stream",
     "text": [
      "Batch: 100%|███████████████████████████████████████████████████████████████████████| 240/240 [00:00<00:00, 1080.70it/s]\n"
     ]
    },
    {
     "name": "stdout",
     "output_type": "stream",
     "text": [
      "Epoch: 52     Loss: 0.15959     Training Acc: 0.95093     Validation Acc: 0.94603\n"
     ]
    },
    {
     "name": "stderr",
     "output_type": "stream",
     "text": [
      "Batch: 100%|███████████████████████████████████████████████████████████████████████| 240/240 [00:00<00:00, 1000.14it/s]\n"
     ]
    },
    {
     "name": "stdout",
     "output_type": "stream",
     "text": [
      "Epoch: 53     Loss: 0.15879     Training Acc: 0.95109     Validation Acc: 0.94631\n"
     ]
    },
    {
     "name": "stderr",
     "output_type": "stream",
     "text": [
      "Batch: 100%|███████████████████████████████████████████████████████████████████████| 240/240 [00:00<00:00, 1107.77it/s]\n"
     ]
    },
    {
     "name": "stdout",
     "output_type": "stream",
     "text": [
      "Epoch: 54     Loss: 0.15801     Training Acc: 0.95126     Validation Acc: 0.94658\n"
     ]
    },
    {
     "name": "stderr",
     "output_type": "stream",
     "text": [
      "Batch: 100%|███████████████████████████████████████████████████████████████████████| 240/240 [00:00<00:00, 1114.12it/s]\n"
     ]
    },
    {
     "name": "stdout",
     "output_type": "stream",
     "text": [
      "Epoch: 55     Loss: 0.15726     Training Acc: 0.95126     Validation Acc: 0.94686\n"
     ]
    },
    {
     "name": "stderr",
     "output_type": "stream",
     "text": [
      "Batch: 100%|███████████████████████████████████████████████████████████████████████| 240/240 [00:00<00:00, 1081.06it/s]\n"
     ]
    },
    {
     "name": "stdout",
     "output_type": "stream",
     "text": [
      "Epoch: 56     Loss: 0.15652     Training Acc: 0.95143     Validation Acc: 0.94715\n"
     ]
    },
    {
     "name": "stderr",
     "output_type": "stream",
     "text": [
      "Batch: 100%|████████████████████████████████████████████████████████████████████████| 240/240 [00:00<00:00, 955.17it/s]\n"
     ]
    },
    {
     "name": "stdout",
     "output_type": "stream",
     "text": [
      "Epoch: 57     Loss: 0.15581     Training Acc: 0.95184     Validation Acc: 0.94743\n"
     ]
    },
    {
     "name": "stderr",
     "output_type": "stream",
     "text": [
      "Batch: 100%|███████████████████████████████████████████████████████████████████████| 240/240 [00:00<00:00, 1023.04it/s]\n"
     ]
    },
    {
     "name": "stdout",
     "output_type": "stream",
     "text": [
      "Epoch: 58     Loss: 0.15512     Training Acc: 0.95209     Validation Acc: 0.94771\n"
     ]
    },
    {
     "name": "stderr",
     "output_type": "stream",
     "text": [
      "Batch: 100%|███████████████████████████████████████████████████████████████████████| 240/240 [00:00<00:00, 1063.16it/s]\n"
     ]
    },
    {
     "name": "stdout",
     "output_type": "stream",
     "text": [
      "Epoch: 59     Loss: 0.15445     Training Acc: 0.95209     Validation Acc: 0.94798\n"
     ]
    },
    {
     "name": "stderr",
     "output_type": "stream",
     "text": [
      "Batch: 100%|███████████████████████████████████████████████████████████████████████| 240/240 [00:00<00:00, 1063.16it/s]\n"
     ]
    },
    {
     "name": "stdout",
     "output_type": "stream",
     "text": [
      "Epoch: 60     Loss: 0.15379     Training Acc: 0.95243     Validation Acc: 0.94825\n"
     ]
    },
    {
     "name": "stderr",
     "output_type": "stream",
     "text": [
      "Batch: 100%|███████████████████████████████████████████████████████████████████████| 240/240 [00:00<00:00, 1107.78it/s]\n"
     ]
    },
    {
     "name": "stdout",
     "output_type": "stream",
     "text": [
      "Epoch: 61     Loss: 0.15315     Training Acc: 0.95276     Validation Acc: 0.94851\n"
     ]
    },
    {
     "name": "stderr",
     "output_type": "stream",
     "text": [
      "Batch: 100%|███████████████████████████████████████████████████████████████████████| 240/240 [00:00<00:00, 1104.31it/s]\n"
     ]
    },
    {
     "name": "stdout",
     "output_type": "stream",
     "text": [
      "Epoch: 62     Loss: 0.15252     Training Acc: 0.95276     Validation Acc: 0.94876\n"
     ]
    },
    {
     "name": "stderr",
     "output_type": "stream",
     "text": [
      "Batch: 100%|███████████████████████████████████████████████████████████████████████| 240/240 [00:00<00:00, 1090.53it/s]\n"
     ]
    },
    {
     "name": "stdout",
     "output_type": "stream",
     "text": [
      "Epoch: 63     Loss: 0.15192     Training Acc: 0.95318     Validation Acc: 0.949\n"
     ]
    },
    {
     "name": "stderr",
     "output_type": "stream",
     "text": [
      "Batch: 100%|███████████████████████████████████████████████████████████████████████| 240/240 [00:00<00:00, 1066.89it/s]\n"
     ]
    },
    {
     "name": "stdout",
     "output_type": "stream",
     "text": [
      "Epoch: 64     Loss: 0.15132     Training Acc: 0.95326     Validation Acc: 0.94923\n"
     ]
    },
    {
     "name": "stderr",
     "output_type": "stream",
     "text": [
      "Batch: 100%|███████████████████████████████████████████████████████████████████████| 240/240 [00:00<00:00, 1162.74it/s]\n"
     ]
    },
    {
     "name": "stdout",
     "output_type": "stream",
     "text": [
      "Epoch: 65     Loss: 0.15074     Training Acc: 0.95368     Validation Acc: 0.94946\n"
     ]
    },
    {
     "name": "stderr",
     "output_type": "stream",
     "text": [
      "Batch: 100%|████████████████████████████████████████████████████████████████████████| 240/240 [00:00<00:00, 967.40it/s]\n"
     ]
    },
    {
     "name": "stdout",
     "output_type": "stream",
     "text": [
      "Epoch: 66     Loss: 0.15018     Training Acc: 0.95376     Validation Acc: 0.94968\n"
     ]
    },
    {
     "name": "stderr",
     "output_type": "stream",
     "text": [
      "Batch: 100%|███████████████████████████████████████████████████████████████████████| 240/240 [00:00<00:00, 1081.59it/s]\n"
     ]
    },
    {
     "name": "stdout",
     "output_type": "stream",
     "text": [
      "Epoch: 67     Loss: 0.14962     Training Acc: 0.95376     Validation Acc: 0.94989\n"
     ]
    },
    {
     "name": "stderr",
     "output_type": "stream",
     "text": [
      "Batch: 100%|███████████████████████████████████████████████████████████████████████| 240/240 [00:00<00:00, 1090.98it/s]\n"
     ]
    },
    {
     "name": "stdout",
     "output_type": "stream",
     "text": [
      "Epoch: 68     Loss: 0.14908     Training Acc: 0.9541     Validation Acc: 0.95009\n"
     ]
    },
    {
     "name": "stderr",
     "output_type": "stream",
     "text": [
      "Batch: 100%|███████████████████████████████████████████████████████████████████████| 240/240 [00:00<00:00, 1127.44it/s]\n"
     ]
    },
    {
     "name": "stdout",
     "output_type": "stream",
     "text": [
      "Epoch: 69     Loss: 0.14855     Training Acc: 0.9541     Validation Acc: 0.95029\n"
     ]
    },
    {
     "name": "stderr",
     "output_type": "stream",
     "text": [
      "Batch: 100%|███████████████████████████████████████████████████████████████████████| 240/240 [00:00<00:00, 1048.15it/s]\n"
     ]
    },
    {
     "name": "stdout",
     "output_type": "stream",
     "text": [
      "Epoch: 70     Loss: 0.14804     Training Acc: 0.95418     Validation Acc: 0.95048\n"
     ]
    },
    {
     "name": "stderr",
     "output_type": "stream",
     "text": [
      "Batch: 100%|████████████████████████████████████████████████████████████████████████| 240/240 [00:00<00:00, 999.09it/s]\n"
     ]
    },
    {
     "name": "stdout",
     "output_type": "stream",
     "text": [
      "Epoch: 71     Loss: 0.14754     Training Acc: 0.95443     Validation Acc: 0.95067\n"
     ]
    },
    {
     "name": "stderr",
     "output_type": "stream",
     "text": [
      "Batch: 100%|███████████████████████████████████████████████████████████████████████| 240/240 [00:00<00:00, 1181.81it/s]\n"
     ]
    },
    {
     "name": "stdout",
     "output_type": "stream",
     "text": [
      "Epoch: 72     Loss: 0.14704     Training Acc: 0.95435     Validation Acc: 0.95085\n"
     ]
    },
    {
     "name": "stderr",
     "output_type": "stream",
     "text": [
      "Batch: 100%|███████████████████████████████████████████████████████████████████████| 240/240 [00:00<00:00, 1247.78it/s]\n"
     ]
    },
    {
     "name": "stdout",
     "output_type": "stream",
     "text": [
      "Epoch: 73     Loss: 0.14655     Training Acc: 0.95477     Validation Acc: 0.95103\n"
     ]
    },
    {
     "name": "stderr",
     "output_type": "stream",
     "text": [
      "Batch: 100%|███████████████████████████████████████████████████████████████████████| 240/240 [00:00<00:00, 1004.46it/s]\n"
     ]
    },
    {
     "name": "stdout",
     "output_type": "stream",
     "text": [
      "Epoch: 74     Loss: 0.14609     Training Acc: 0.95468     Validation Acc: 0.95121\n"
     ]
    },
    {
     "name": "stderr",
     "output_type": "stream",
     "text": [
      "Batch: 100%|███████████████████████████████████████████████████████████████████████| 240/240 [00:00<00:00, 1010.18it/s]\n"
     ]
    },
    {
     "name": "stdout",
     "output_type": "stream",
     "text": [
      "Epoch: 75     Loss: 0.14562     Training Acc: 0.95493     Validation Acc: 0.95139\n"
     ]
    },
    {
     "name": "stderr",
     "output_type": "stream",
     "text": [
      "Batch: 100%|███████████████████████████████████████████████████████████████████████| 240/240 [00:00<00:00, 1068.63it/s]\n"
     ]
    },
    {
     "name": "stdout",
     "output_type": "stream",
     "text": [
      "Epoch: 76     Loss: 0.14517     Training Acc: 0.95493     Validation Acc: 0.95156\n"
     ]
    },
    {
     "name": "stderr",
     "output_type": "stream",
     "text": [
      "Batch: 100%|███████████████████████████████████████████████████████████████████████| 240/240 [00:00<00:00, 1199.30it/s]\n"
     ]
    },
    {
     "name": "stdout",
     "output_type": "stream",
     "text": [
      "Epoch: 77     Loss: 0.14473     Training Acc: 0.9551     Validation Acc: 0.95173\n"
     ]
    },
    {
     "name": "stderr",
     "output_type": "stream",
     "text": [
      "Batch: 100%|███████████████████████████████████████████████████████████████████████| 240/240 [00:00<00:00, 1062.90it/s]\n"
     ]
    },
    {
     "name": "stdout",
     "output_type": "stream",
     "text": [
      "Epoch: 78     Loss: 0.14429     Training Acc: 0.95493     Validation Acc: 0.95189\n"
     ]
    },
    {
     "name": "stderr",
     "output_type": "stream",
     "text": [
      "Batch: 100%|███████████████████████████████████████████████████████████████████████| 240/240 [00:00<00:00, 1088.88it/s]\n"
     ]
    },
    {
     "name": "stdout",
     "output_type": "stream",
     "text": [
      "Epoch: 79     Loss: 0.14386     Training Acc: 0.95527     Validation Acc: 0.95205\n"
     ]
    },
    {
     "name": "stderr",
     "output_type": "stream",
     "text": [
      "Batch: 100%|████████████████████████████████████████████████████████████████████████| 240/240 [00:00<00:00, 947.11it/s]\n"
     ]
    },
    {
     "name": "stdout",
     "output_type": "stream",
     "text": [
      "Epoch: 80     Loss: 0.14345     Training Acc: 0.95577     Validation Acc: 0.9522\n"
     ]
    },
    {
     "name": "stderr",
     "output_type": "stream",
     "text": [
      "Batch: 100%|███████████████████████████████████████████████████████████████████████| 240/240 [00:00<00:00, 1163.47it/s]\n"
     ]
    },
    {
     "name": "stdout",
     "output_type": "stream",
     "text": [
      "Epoch: 81     Loss: 0.14304     Training Acc: 0.95593     Validation Acc: 0.95234\n"
     ]
    },
    {
     "name": "stderr",
     "output_type": "stream",
     "text": [
      "Batch: 100%|███████████████████████████████████████████████████████████████████████| 240/240 [00:00<00:00, 1048.25it/s]\n"
     ]
    },
    {
     "name": "stdout",
     "output_type": "stream",
     "text": [
      "Epoch: 82     Loss: 0.14264     Training Acc: 0.95602     Validation Acc: 0.95249\n"
     ]
    },
    {
     "name": "stderr",
     "output_type": "stream",
     "text": [
      "Batch: 100%|███████████████████████████████████████████████████████████████████████| 240/240 [00:00<00:00, 1089.41it/s]\n"
     ]
    },
    {
     "name": "stdout",
     "output_type": "stream",
     "text": [
      "Epoch: 83     Loss: 0.14224     Training Acc: 0.95627     Validation Acc: 0.95263\n"
     ]
    },
    {
     "name": "stderr",
     "output_type": "stream",
     "text": [
      "Batch: 100%|████████████████████████████████████████████████████████████████████████| 240/240 [00:00<00:00, 966.54it/s]\n"
     ]
    },
    {
     "name": "stdout",
     "output_type": "stream",
     "text": [
      "Epoch: 84     Loss: 0.14185     Training Acc: 0.95627     Validation Acc: 0.95276\n"
     ]
    },
    {
     "name": "stderr",
     "output_type": "stream",
     "text": [
      "Batch: 100%|███████████████████████████████████████████████████████████████████████| 240/240 [00:00<00:00, 1014.88it/s]\n"
     ]
    },
    {
     "name": "stdout",
     "output_type": "stream",
     "text": [
      "Epoch: 85     Loss: 0.14147     Training Acc: 0.95643     Validation Acc: 0.9529\n"
     ]
    },
    {
     "name": "stderr",
     "output_type": "stream",
     "text": [
      "Batch: 100%|███████████████████████████████████████████████████████████████████████| 240/240 [00:00<00:00, 1103.00it/s]\n"
     ]
    },
    {
     "name": "stdout",
     "output_type": "stream",
     "text": [
      "Epoch: 86     Loss: 0.14109     Training Acc: 0.95618     Validation Acc: 0.95303\n"
     ]
    },
    {
     "name": "stderr",
     "output_type": "stream",
     "text": [
      "Batch: 100%|███████████████████████████████████████████████████████████████████████| 240/240 [00:00<00:00, 1149.15it/s]\n"
     ]
    },
    {
     "name": "stdout",
     "output_type": "stream",
     "text": [
      "Epoch: 87     Loss: 0.14074     Training Acc: 0.95694     Validation Acc: 0.95315\n"
     ]
    },
    {
     "name": "stderr",
     "output_type": "stream",
     "text": [
      "Batch: 100%|████████████████████████████████████████████████████████████████████████| 240/240 [00:00<00:00, 925.83it/s]\n"
     ]
    },
    {
     "name": "stdout",
     "output_type": "stream",
     "text": [
      "Epoch: 88     Loss: 0.14037     Training Acc: 0.95669     Validation Acc: 0.95328\n"
     ]
    },
    {
     "name": "stderr",
     "output_type": "stream",
     "text": [
      "Batch: 100%|████████████████████████████████████████████████████████████████████████| 240/240 [00:00<00:00, 963.67it/s]\n"
     ]
    },
    {
     "name": "stdout",
     "output_type": "stream",
     "text": [
      "Epoch: 89     Loss: 0.14002     Training Acc: 0.95702     Validation Acc: 0.9534\n"
     ]
    },
    {
     "name": "stderr",
     "output_type": "stream",
     "text": [
      "Batch: 100%|████████████████████████████████████████████████████████████████████████| 240/240 [00:00<00:00, 983.09it/s]\n"
     ]
    },
    {
     "name": "stdout",
     "output_type": "stream",
     "text": [
      "Epoch: 90     Loss: 0.13967     Training Acc: 0.95685     Validation Acc: 0.95352\n"
     ]
    },
    {
     "name": "stderr",
     "output_type": "stream",
     "text": [
      "Batch: 100%|███████████████████████████████████████████████████████████████████████| 240/240 [00:00<00:00, 1031.05it/s]\n"
     ]
    },
    {
     "name": "stdout",
     "output_type": "stream",
     "text": [
      "Epoch: 91     Loss: 0.13933     Training Acc: 0.95685     Validation Acc: 0.95363\n"
     ]
    },
    {
     "name": "stderr",
     "output_type": "stream",
     "text": [
      "Batch: 100%|███████████████████████████████████████████████████████████████████████| 240/240 [00:00<00:00, 1026.80it/s]\n"
     ]
    },
    {
     "name": "stdout",
     "output_type": "stream",
     "text": [
      "Epoch: 92     Loss: 0.139     Training Acc: 0.95727     Validation Acc: 0.95375\n"
     ]
    },
    {
     "name": "stderr",
     "output_type": "stream",
     "text": [
      "Batch: 100%|████████████████████████████████████████████████████████████████████████| 240/240 [00:00<00:00, 924.05it/s]\n"
     ]
    },
    {
     "name": "stdout",
     "output_type": "stream",
     "text": [
      "Epoch: 93     Loss: 0.13866     Training Acc: 0.95702     Validation Acc: 0.95388\n"
     ]
    },
    {
     "name": "stderr",
     "output_type": "stream",
     "text": [
      "Batch: 100%|███████████████████████████████████████████████████████████████████████| 240/240 [00:00<00:00, 1069.31it/s]\n"
     ]
    },
    {
     "name": "stdout",
     "output_type": "stream",
     "text": [
      "Epoch: 94     Loss: 0.13835     Training Acc: 0.95735     Validation Acc: 0.954\n"
     ]
    },
    {
     "name": "stderr",
     "output_type": "stream",
     "text": [
      "Batch: 100%|███████████████████████████████████████████████████████████████████████| 240/240 [00:00<00:00, 1140.61it/s]\n"
     ]
    },
    {
     "name": "stdout",
     "output_type": "stream",
     "text": [
      "Epoch: 95     Loss: 0.13803     Training Acc: 0.95727     Validation Acc: 0.95412\n"
     ]
    },
    {
     "name": "stderr",
     "output_type": "stream",
     "text": [
      "Batch: 100%|███████████████████████████████████████████████████████████████████████| 240/240 [00:00<00:00, 1145.48it/s]\n"
     ]
    },
    {
     "name": "stdout",
     "output_type": "stream",
     "text": [
      "Epoch: 96     Loss: 0.13771     Training Acc: 0.95727     Validation Acc: 0.95424\n"
     ]
    },
    {
     "name": "stderr",
     "output_type": "stream",
     "text": [
      "Batch: 100%|███████████████████████████████████████████████████████████████████████| 240/240 [00:00<00:00, 1236.61it/s]\n"
     ]
    },
    {
     "name": "stdout",
     "output_type": "stream",
     "text": [
      "Epoch: 97     Loss: 0.13741     Training Acc: 0.95744     Validation Acc: 0.95436\n"
     ]
    },
    {
     "name": "stderr",
     "output_type": "stream",
     "text": [
      "Batch: 100%|████████████████████████████████████████████████████████████████████████| 240/240 [00:00<00:00, 953.45it/s]\n"
     ]
    },
    {
     "name": "stdout",
     "output_type": "stream",
     "text": [
      "Epoch: 98     Loss: 0.1371     Training Acc: 0.9576     Validation Acc: 0.95448\n"
     ]
    },
    {
     "name": "stderr",
     "output_type": "stream",
     "text": [
      "Batch: 100%|████████████████████████████████████████████████████████████████████████| 240/240 [00:00<00:00, 961.95it/s]\n"
     ]
    },
    {
     "name": "stdout",
     "output_type": "stream",
     "text": [
      "Epoch: 99     Loss: 0.13681     Training Acc: 0.9576     Validation Acc: 0.9546\n"
     ]
    },
    {
     "name": "stderr",
     "output_type": "stream",
     "text": [
      "Batch: 100%|███████████████████████████████████████████████████████████████████████| 240/240 [00:00<00:00, 1077.87it/s]\n"
     ]
    },
    {
     "name": "stdout",
     "output_type": "stream",
     "text": [
      "Epoch: 100     Loss: 0.13651     Training Acc: 0.95777     Validation Acc: 0.95472\n"
     ]
    },
    {
     "name": "stderr",
     "output_type": "stream",
     "text": [
      "Batch: 100%|███████████████████████████████████████████████████████████████████████| 240/240 [00:00<00:00, 1002.61it/s]\n"
     ]
    },
    {
     "name": "stdout",
     "output_type": "stream",
     "text": [
      "Epoch: 101     Loss: 0.13622     Training Acc: 0.95802     Validation Acc: 0.95483\n"
     ]
    },
    {
     "name": "stderr",
     "output_type": "stream",
     "text": [
      "Batch: 100%|████████████████████████████████████████████████████████████████████████| 240/240 [00:00<00:00, 917.79it/s]\n"
     ]
    },
    {
     "name": "stdout",
     "output_type": "stream",
     "text": [
      "Epoch: 102     Loss: 0.13594     Training Acc: 0.95794     Validation Acc: 0.95494\n"
     ]
    },
    {
     "name": "stderr",
     "output_type": "stream",
     "text": [
      "Batch: 100%|███████████████████████████████████████████████████████████████████████| 240/240 [00:00<00:00, 1035.07it/s]\n"
     ]
    },
    {
     "name": "stdout",
     "output_type": "stream",
     "text": [
      "Epoch: 103     Loss: 0.13566     Training Acc: 0.9581     Validation Acc: 0.95505\n"
     ]
    },
    {
     "name": "stderr",
     "output_type": "stream",
     "text": [
      "Batch: 100%|███████████████████████████████████████████████████████████████████████| 240/240 [00:00<00:00, 1139.48it/s]\n"
     ]
    },
    {
     "name": "stdout",
     "output_type": "stream",
     "text": [
      "Epoch: 104     Loss: 0.13538     Training Acc: 0.95835     Validation Acc: 0.95516\n"
     ]
    },
    {
     "name": "stderr",
     "output_type": "stream",
     "text": [
      "Batch: 100%|███████████████████████████████████████████████████████████████████████| 240/240 [00:00<00:00, 1068.18it/s]\n"
     ]
    },
    {
     "name": "stdout",
     "output_type": "stream",
     "text": [
      "Epoch: 105     Loss: 0.13511     Training Acc: 0.95827     Validation Acc: 0.95526\n"
     ]
    },
    {
     "name": "stderr",
     "output_type": "stream",
     "text": [
      "Batch: 100%|████████████████████████████████████████████████████████████████████████| 240/240 [00:00<00:00, 996.72it/s]\n"
     ]
    },
    {
     "name": "stdout",
     "output_type": "stream",
     "text": [
      "Epoch: 106     Loss: 0.13484     Training Acc: 0.95835     Validation Acc: 0.95536\n"
     ]
    },
    {
     "name": "stderr",
     "output_type": "stream",
     "text": [
      "Batch: 100%|████████████████████████████████████████████████████████████████████████| 240/240 [00:00<00:00, 962.82it/s]\n"
     ]
    },
    {
     "name": "stdout",
     "output_type": "stream",
     "text": [
      "Epoch: 107     Loss: 0.13457     Training Acc: 0.95844     Validation Acc: 0.95546\n"
     ]
    },
    {
     "name": "stderr",
     "output_type": "stream",
     "text": [
      "Batch: 100%|████████████████████████████████████████████████████████████████████████| 240/240 [00:00<00:00, 919.55it/s]\n"
     ]
    },
    {
     "name": "stdout",
     "output_type": "stream",
     "text": [
      "Epoch: 108     Loss: 0.13431     Training Acc: 0.95869     Validation Acc: 0.95556\n"
     ]
    },
    {
     "name": "stderr",
     "output_type": "stream",
     "text": [
      "Batch: 100%|███████████████████████████████████████████████████████████████████████| 240/240 [00:00<00:00, 1263.21it/s]\n"
     ]
    },
    {
     "name": "stdout",
     "output_type": "stream",
     "text": [
      "Epoch: 109     Loss: 0.13406     Training Acc: 0.95852     Validation Acc: 0.95566\n"
     ]
    },
    {
     "name": "stderr",
     "output_type": "stream",
     "text": [
      "Batch: 100%|███████████████████████████████████████████████████████████████████████| 240/240 [00:00<00:00, 1209.93it/s]\n"
     ]
    },
    {
     "name": "stdout",
     "output_type": "stream",
     "text": [
      "Epoch: 110     Loss: 0.1338     Training Acc: 0.9586     Validation Acc: 0.95575\n"
     ]
    },
    {
     "name": "stderr",
     "output_type": "stream",
     "text": [
      "Batch: 100%|████████████████████████████████████████████████████████████████████████| 240/240 [00:00<00:00, 998.65it/s]\n"
     ]
    },
    {
     "name": "stdout",
     "output_type": "stream",
     "text": [
      "Epoch: 111     Loss: 0.13355     Training Acc: 0.95877     Validation Acc: 0.95585\n"
     ]
    },
    {
     "name": "stderr",
     "output_type": "stream",
     "text": [
      "Batch: 100%|███████████████████████████████████████████████████████████████████████| 240/240 [00:00<00:00, 1099.06it/s]\n"
     ]
    },
    {
     "name": "stdout",
     "output_type": "stream",
     "text": [
      "Epoch: 112     Loss: 0.13331     Training Acc: 0.95885     Validation Acc: 0.95594\n"
     ]
    },
    {
     "name": "stderr",
     "output_type": "stream",
     "text": [
      "Batch: 100%|███████████████████████████████████████████████████████████████████████| 240/240 [00:00<00:00, 1173.52it/s]\n"
     ]
    },
    {
     "name": "stdout",
     "output_type": "stream",
     "text": [
      "Epoch: 113     Loss: 0.13307     Training Acc: 0.95911     Validation Acc: 0.95603\n"
     ]
    },
    {
     "name": "stderr",
     "output_type": "stream",
     "text": [
      "Batch: 100%|███████████████████████████████████████████████████████████████████████| 240/240 [00:00<00:00, 1132.42it/s]\n"
     ]
    },
    {
     "name": "stdout",
     "output_type": "stream",
     "text": [
      "Epoch: 114     Loss: 0.13283     Training Acc: 0.95885     Validation Acc: 0.95612\n"
     ]
    },
    {
     "name": "stderr",
     "output_type": "stream",
     "text": [
      "Batch: 100%|███████████████████████████████████████████████████████████████████████| 240/240 [00:00<00:00, 1011.53it/s]\n"
     ]
    },
    {
     "name": "stdout",
     "output_type": "stream",
     "text": [
      "Epoch: 115     Loss: 0.13259     Training Acc: 0.95919     Validation Acc: 0.95621\n"
     ]
    },
    {
     "name": "stderr",
     "output_type": "stream",
     "text": [
      "Batch: 100%|████████████████████████████████████████████████████████████████████████| 240/240 [00:00<00:00, 942.08it/s]\n"
     ]
    },
    {
     "name": "stdout",
     "output_type": "stream",
     "text": [
      "Epoch: 116     Loss: 0.13235     Training Acc: 0.95894     Validation Acc: 0.9563\n"
     ]
    },
    {
     "name": "stderr",
     "output_type": "stream",
     "text": [
      "Batch: 100%|████████████████████████████████████████████████████████████████████████| 240/240 [00:00<00:00, 903.40it/s]\n"
     ]
    },
    {
     "name": "stdout",
     "output_type": "stream",
     "text": [
      "Epoch: 117     Loss: 0.13213     Training Acc: 0.95936     Validation Acc: 0.95639\n"
     ]
    },
    {
     "name": "stderr",
     "output_type": "stream",
     "text": [
      "Batch: 100%|████████████████████████████████████████████████████████████████████████| 240/240 [00:00<00:00, 887.00it/s]\n"
     ]
    },
    {
     "name": "stdout",
     "output_type": "stream",
     "text": [
      "Epoch: 118     Loss: 0.1319     Training Acc: 0.95911     Validation Acc: 0.95648\n"
     ]
    },
    {
     "name": "stderr",
     "output_type": "stream",
     "text": [
      "Batch: 100%|████████████████████████████████████████████████████████████████████████| 240/240 [00:00<00:00, 893.42it/s]\n"
     ]
    },
    {
     "name": "stdout",
     "output_type": "stream",
     "text": [
      "Epoch: 119     Loss: 0.13168     Training Acc: 0.95927     Validation Acc: 0.95656\n"
     ]
    },
    {
     "name": "stderr",
     "output_type": "stream",
     "text": [
      "Batch: 100%|███████████████████████████████████████████████████████████████████████| 240/240 [00:00<00:00, 1016.79it/s]\n"
     ]
    },
    {
     "name": "stdout",
     "output_type": "stream",
     "text": [
      "Epoch: 120     Loss: 0.13146     Training Acc: 0.95936     Validation Acc: 0.95664\n"
     ]
    },
    {
     "name": "stderr",
     "output_type": "stream",
     "text": [
      "Batch: 100%|████████████████████████████████████████████████████████████████████████| 240/240 [00:00<00:00, 902.99it/s]\n"
     ]
    },
    {
     "name": "stdout",
     "output_type": "stream",
     "text": [
      "Epoch: 121     Loss: 0.13124     Training Acc: 0.95911     Validation Acc: 0.95673\n"
     ]
    },
    {
     "name": "stderr",
     "output_type": "stream",
     "text": [
      "Batch: 100%|████████████████████████████████████████████████████████████████████████| 240/240 [00:00<00:00, 864.67it/s]\n"
     ]
    },
    {
     "name": "stdout",
     "output_type": "stream",
     "text": [
      "Epoch: 122     Loss: 0.13103     Training Acc: 0.95944     Validation Acc: 0.95681\n"
     ]
    },
    {
     "name": "stderr",
     "output_type": "stream",
     "text": [
      "Batch: 100%|████████████████████████████████████████████████████████████████████████| 240/240 [00:00<00:00, 923.64it/s]\n"
     ]
    },
    {
     "name": "stdout",
     "output_type": "stream",
     "text": [
      "Epoch: 123     Loss: 0.13081     Training Acc: 0.95919     Validation Acc: 0.95689\n"
     ]
    },
    {
     "name": "stderr",
     "output_type": "stream",
     "text": [
      "Batch: 100%|███████████████████████████████████████████████████████████████████████| 240/240 [00:00<00:00, 1075.85it/s]\n"
     ]
    },
    {
     "name": "stdout",
     "output_type": "stream",
     "text": [
      "Epoch: 124     Loss: 0.1306     Training Acc: 0.95927     Validation Acc: 0.95697\n"
     ]
    },
    {
     "name": "stderr",
     "output_type": "stream",
     "text": [
      "Batch: 100%|███████████████████████████████████████████████████████████████████████| 240/240 [00:00<00:00, 1031.08it/s]\n"
     ]
    },
    {
     "name": "stdout",
     "output_type": "stream",
     "text": [
      "Epoch: 125     Loss: 0.1304     Training Acc: 0.95936     Validation Acc: 0.95705\n"
     ]
    },
    {
     "name": "stderr",
     "output_type": "stream",
     "text": [
      "Batch: 100%|███████████████████████████████████████████████████████████████████████| 240/240 [00:00<00:00, 1120.73it/s]\n"
     ]
    },
    {
     "name": "stdout",
     "output_type": "stream",
     "text": [
      "Epoch: 126     Loss: 0.13019     Training Acc: 0.95944     Validation Acc: 0.95712\n"
     ]
    },
    {
     "name": "stderr",
     "output_type": "stream",
     "text": [
      "Batch: 100%|████████████████████████████████████████████████████████████████████████| 240/240 [00:00<00:00, 725.13it/s]\n"
     ]
    },
    {
     "name": "stdout",
     "output_type": "stream",
     "text": [
      "Epoch: 127     Loss: 0.12999     Training Acc: 0.95952     Validation Acc: 0.9572\n"
     ]
    },
    {
     "name": "stderr",
     "output_type": "stream",
     "text": [
      "Batch: 100%|████████████████████████████████████████████████████████████████████████| 240/240 [00:00<00:00, 875.58it/s]\n"
     ]
    },
    {
     "name": "stdout",
     "output_type": "stream",
     "text": [
      "Epoch: 128     Loss: 0.12979     Training Acc: 0.95969     Validation Acc: 0.95727\n"
     ]
    },
    {
     "name": "stderr",
     "output_type": "stream",
     "text": [
      "Batch: 100%|████████████████████████████████████████████████████████████████████████| 240/240 [00:00<00:00, 991.97it/s]\n"
     ]
    },
    {
     "name": "stdout",
     "output_type": "stream",
     "text": [
      "Epoch: 129     Loss: 0.1296     Training Acc: 0.95986     Validation Acc: 0.95734\n"
     ]
    },
    {
     "name": "stderr",
     "output_type": "stream",
     "text": [
      "Batch: 100%|███████████████████████████████████████████████████████████████████████| 240/240 [00:00<00:00, 1030.76it/s]\n"
     ]
    },
    {
     "name": "stdout",
     "output_type": "stream",
     "text": [
      "Epoch: 130     Loss: 0.1294     Training Acc: 0.95994     Validation Acc: 0.95742\n"
     ]
    },
    {
     "name": "stderr",
     "output_type": "stream",
     "text": [
      "Batch: 100%|███████████████████████████████████████████████████████████████████████| 240/240 [00:00<00:00, 1030.99it/s]\n"
     ]
    },
    {
     "name": "stdout",
     "output_type": "stream",
     "text": [
      "Epoch: 131     Loss: 0.12921     Training Acc: 0.95977     Validation Acc: 0.95749\n"
     ]
    },
    {
     "name": "stderr",
     "output_type": "stream",
     "text": [
      "Batch: 100%|███████████████████████████████████████████████████████████████████████| 240/240 [00:00<00:00, 1052.59it/s]\n"
     ]
    },
    {
     "name": "stdout",
     "output_type": "stream",
     "text": [
      "Epoch: 132     Loss: 0.12902     Training Acc: 0.95994     Validation Acc: 0.95757\n"
     ]
    },
    {
     "name": "stderr",
     "output_type": "stream",
     "text": [
      "Batch: 100%|███████████████████████████████████████████████████████████████████████| 240/240 [00:00<00:00, 1057.89it/s]\n"
     ]
    },
    {
     "name": "stdout",
     "output_type": "stream",
     "text": [
      "Epoch: 133     Loss: 0.12883     Training Acc: 0.96027     Validation Acc: 0.95764\n"
     ]
    },
    {
     "name": "stderr",
     "output_type": "stream",
     "text": [
      "Batch: 100%|███████████████████████████████████████████████████████████████████████| 240/240 [00:00<00:00, 1137.73it/s]\n"
     ]
    },
    {
     "name": "stdout",
     "output_type": "stream",
     "text": [
      "Epoch: 134     Loss: 0.12865     Training Acc: 0.96011     Validation Acc: 0.95771\n"
     ]
    },
    {
     "name": "stderr",
     "output_type": "stream",
     "text": [
      "Batch: 100%|███████████████████████████████████████████████████████████████████████| 240/240 [00:00<00:00, 1094.29it/s]\n"
     ]
    },
    {
     "name": "stdout",
     "output_type": "stream",
     "text": [
      "Epoch: 135     Loss: 0.12847     Training Acc: 0.96002     Validation Acc: 0.95778\n"
     ]
    },
    {
     "name": "stderr",
     "output_type": "stream",
     "text": [
      "Batch: 100%|████████████████████████████████████████████████████████████████████████| 240/240 [00:00<00:00, 931.11it/s]\n"
     ]
    },
    {
     "name": "stdout",
     "output_type": "stream",
     "text": [
      "Epoch: 136     Loss: 0.12828     Training Acc: 0.96027     Validation Acc: 0.95786\n"
     ]
    },
    {
     "name": "stderr",
     "output_type": "stream",
     "text": [
      "Batch: 100%|███████████████████████████████████████████████████████████████████████| 240/240 [00:00<00:00, 1140.28it/s]\n"
     ]
    },
    {
     "name": "stdout",
     "output_type": "stream",
     "text": [
      "Epoch: 137     Loss: 0.1281     Training Acc: 0.96011     Validation Acc: 0.95793\n"
     ]
    },
    {
     "name": "stderr",
     "output_type": "stream",
     "text": [
      "Batch: 100%|████████████████████████████████████████████████████████████████████████| 240/240 [00:00<00:00, 989.77it/s]\n"
     ]
    },
    {
     "name": "stdout",
     "output_type": "stream",
     "text": [
      "Epoch: 138     Loss: 0.12793     Training Acc: 0.96052     Validation Acc: 0.958\n"
     ]
    },
    {
     "name": "stderr",
     "output_type": "stream",
     "text": [
      "Batch: 100%|███████████████████████████████████████████████████████████████████████| 240/240 [00:00<00:00, 1048.22it/s]\n"
     ]
    },
    {
     "name": "stdout",
     "output_type": "stream",
     "text": [
      "Epoch: 139     Loss: 0.12775     Training Acc: 0.96027     Validation Acc: 0.95807\n"
     ]
    },
    {
     "name": "stderr",
     "output_type": "stream",
     "text": [
      "Batch: 100%|███████████████████████████████████████████████████████████████████████| 240/240 [00:00<00:00, 1093.93it/s]\n"
     ]
    },
    {
     "name": "stdout",
     "output_type": "stream",
     "text": [
      "Epoch: 140     Loss: 0.12758     Training Acc: 0.96019     Validation Acc: 0.95814\n"
     ]
    },
    {
     "name": "stderr",
     "output_type": "stream",
     "text": [
      "Batch: 100%|███████████████████████████████████████████████████████████████████████| 240/240 [00:00<00:00, 1082.74it/s]\n"
     ]
    },
    {
     "name": "stdout",
     "output_type": "stream",
     "text": [
      "Epoch: 141     Loss: 0.12741     Training Acc: 0.96036     Validation Acc: 0.9582\n"
     ]
    },
    {
     "name": "stderr",
     "output_type": "stream",
     "text": [
      "Batch: 100%|███████████████████████████████████████████████████████████████████████| 240/240 [00:00<00:00, 1068.06it/s]\n"
     ]
    },
    {
     "name": "stdout",
     "output_type": "stream",
     "text": [
      "Epoch: 142     Loss: 0.12724     Training Acc: 0.96011     Validation Acc: 0.95827\n"
     ]
    },
    {
     "name": "stderr",
     "output_type": "stream",
     "text": [
      "Batch: 100%|███████████████████████████████████████████████████████████████████████| 240/240 [00:00<00:00, 1018.57it/s]\n"
     ]
    },
    {
     "name": "stdout",
     "output_type": "stream",
     "text": [
      "Epoch: 143     Loss: 0.12707     Training Acc: 0.96036     Validation Acc: 0.95834\n"
     ]
    },
    {
     "name": "stderr",
     "output_type": "stream",
     "text": [
      "Batch: 100%|████████████████████████████████████████████████████████████████████████| 240/240 [00:00<00:00, 968.24it/s]\n"
     ]
    },
    {
     "name": "stdout",
     "output_type": "stream",
     "text": [
      "Epoch: 144     Loss: 0.12691     Training Acc: 0.96044     Validation Acc: 0.9584\n"
     ]
    },
    {
     "name": "stderr",
     "output_type": "stream",
     "text": [
      "Batch: 100%|████████████████████████████████████████████████████████████████████████| 240/240 [00:00<00:00, 838.65it/s]\n"
     ]
    },
    {
     "name": "stdout",
     "output_type": "stream",
     "text": [
      "Epoch: 145     Loss: 0.12674     Training Acc: 0.96044     Validation Acc: 0.95847\n"
     ]
    },
    {
     "name": "stderr",
     "output_type": "stream",
     "text": [
      "Batch: 100%|████████████████████████████████████████████████████████████████████████| 240/240 [00:00<00:00, 950.41it/s]\n"
     ]
    },
    {
     "name": "stdout",
     "output_type": "stream",
     "text": [
      "Epoch: 146     Loss: 0.12658     Training Acc: 0.96061     Validation Acc: 0.95853\n"
     ]
    },
    {
     "name": "stderr",
     "output_type": "stream",
     "text": [
      "Batch: 100%|████████████████████████████████████████████████████████████████████████| 240/240 [00:00<00:00, 750.50it/s]\n"
     ]
    },
    {
     "name": "stdout",
     "output_type": "stream",
     "text": [
      "Epoch: 147     Loss: 0.12642     Training Acc: 0.96061     Validation Acc: 0.95859\n"
     ]
    },
    {
     "name": "stderr",
     "output_type": "stream",
     "text": [
      "Batch: 100%|████████████████████████████████████████████████████████████████████████| 240/240 [00:00<00:00, 768.87it/s]\n"
     ]
    },
    {
     "name": "stdout",
     "output_type": "stream",
     "text": [
      "Epoch: 148     Loss: 0.12626     Training Acc: 0.96069     Validation Acc: 0.95866\n"
     ]
    },
    {
     "name": "stderr",
     "output_type": "stream",
     "text": [
      "Batch: 100%|████████████████████████████████████████████████████████████████████████| 240/240 [00:00<00:00, 935.19it/s]\n"
     ]
    },
    {
     "name": "stdout",
     "output_type": "stream",
     "text": [
      "Epoch: 149     Loss: 0.1261     Training Acc: 0.96077     Validation Acc: 0.95872\n"
     ]
    },
    {
     "name": "stderr",
     "output_type": "stream",
     "text": [
      "Batch: 100%|████████████████████████████████████████████████████████████████████████| 240/240 [00:00<00:00, 998.46it/s]\n"
     ]
    },
    {
     "name": "stdout",
     "output_type": "stream",
     "text": [
      "Epoch: 150     Loss: 0.12595     Training Acc: 0.96052     Validation Acc: 0.95878\n"
     ]
    },
    {
     "name": "stderr",
     "output_type": "stream",
     "text": [
      "Batch: 100%|████████████████████████████████████████████████████████████████████████| 240/240 [00:00<00:00, 976.58it/s]\n"
     ]
    },
    {
     "name": "stdout",
     "output_type": "stream",
     "text": [
      "Epoch: 151     Loss: 0.1258     Training Acc: 0.96069     Validation Acc: 0.95884\n"
     ]
    },
    {
     "name": "stderr",
     "output_type": "stream",
     "text": [
      "Batch: 100%|███████████████████████████████████████████████████████████████████████| 240/240 [00:00<00:00, 1033.52it/s]\n"
     ]
    },
    {
     "name": "stdout",
     "output_type": "stream",
     "text": [
      "Epoch: 152     Loss: 0.12564     Training Acc: 0.96086     Validation Acc: 0.95889\n"
     ]
    },
    {
     "name": "stderr",
     "output_type": "stream",
     "text": [
      "Batch: 100%|████████████████████████████████████████████████████████████████████████| 240/240 [00:00<00:00, 868.59it/s]\n"
     ]
    },
    {
     "name": "stdout",
     "output_type": "stream",
     "text": [
      "Epoch: 153     Loss: 0.12549     Training Acc: 0.96094     Validation Acc: 0.95895\n"
     ]
    },
    {
     "name": "stderr",
     "output_type": "stream",
     "text": [
      "Batch: 100%|████████████████████████████████████████████████████████████████████████| 240/240 [00:00<00:00, 917.14it/s]\n"
     ]
    },
    {
     "name": "stdout",
     "output_type": "stream",
     "text": [
      "Epoch: 154     Loss: 0.12535     Training Acc: 0.96086     Validation Acc: 0.95901\n"
     ]
    },
    {
     "name": "stderr",
     "output_type": "stream",
     "text": [
      "Batch: 100%|████████████████████████████████████████████████████████████████████████| 240/240 [00:00<00:00, 859.39it/s]\n"
     ]
    },
    {
     "name": "stdout",
     "output_type": "stream",
     "text": [
      "Epoch: 155     Loss: 0.1252     Training Acc: 0.96094     Validation Acc: 0.95906\n"
     ]
    },
    {
     "name": "stderr",
     "output_type": "stream",
     "text": [
      "Batch: 100%|████████████████████████████████████████████████████████████████████████| 240/240 [00:00<00:00, 867.48it/s]\n"
     ]
    },
    {
     "name": "stdout",
     "output_type": "stream",
     "text": [
      "Epoch: 156     Loss: 0.12505     Training Acc: 0.96086     Validation Acc: 0.95912\n"
     ]
    },
    {
     "name": "stderr",
     "output_type": "stream",
     "text": [
      "Batch: 100%|████████████████████████████████████████████████████████████████████████| 240/240 [00:00<00:00, 938.18it/s]\n"
     ]
    },
    {
     "name": "stdout",
     "output_type": "stream",
     "text": [
      "Epoch: 157     Loss: 0.12491     Training Acc: 0.96094     Validation Acc: 0.95917\n"
     ]
    },
    {
     "name": "stderr",
     "output_type": "stream",
     "text": [
      "Batch: 100%|████████████████████████████████████████████████████████████████████████| 240/240 [00:00<00:00, 928.99it/s]\n"
     ]
    },
    {
     "name": "stdout",
     "output_type": "stream",
     "text": [
      "Epoch: 158     Loss: 0.12476     Training Acc: 0.96086     Validation Acc: 0.95923\n"
     ]
    },
    {
     "name": "stderr",
     "output_type": "stream",
     "text": [
      "Batch: 100%|████████████████████████████████████████████████████████████████████████| 240/240 [00:00<00:00, 909.44it/s]\n"
     ]
    },
    {
     "name": "stdout",
     "output_type": "stream",
     "text": [
      "Epoch: 159     Loss: 0.12462     Training Acc: 0.96111     Validation Acc: 0.95928\n"
     ]
    },
    {
     "name": "stderr",
     "output_type": "stream",
     "text": [
      "Batch: 100%|████████████████████████████████████████████████████████████████████████| 240/240 [00:00<00:00, 907.54it/s]\n"
     ]
    },
    {
     "name": "stdout",
     "output_type": "stream",
     "text": [
      "Epoch: 160     Loss: 0.12448     Training Acc: 0.96111     Validation Acc: 0.95933\n"
     ]
    },
    {
     "name": "stderr",
     "output_type": "stream",
     "text": [
      "Batch: 100%|███████████████████████████████████████████████████████████████████████| 240/240 [00:00<00:00, 1019.77it/s]\n"
     ]
    },
    {
     "name": "stdout",
     "output_type": "stream",
     "text": [
      "Epoch: 161     Loss: 0.12434     Training Acc: 0.96102     Validation Acc: 0.95938\n"
     ]
    },
    {
     "name": "stderr",
     "output_type": "stream",
     "text": [
      "Batch: 100%|███████████████████████████████████████████████████████████████████████| 240/240 [00:00<00:00, 1050.80it/s]\n"
     ]
    },
    {
     "name": "stdout",
     "output_type": "stream",
     "text": [
      "Epoch: 162     Loss: 0.12421     Training Acc: 0.96119     Validation Acc: 0.95944\n"
     ]
    },
    {
     "name": "stderr",
     "output_type": "stream",
     "text": [
      "Batch: 100%|███████████████████████████████████████████████████████████████████████| 240/240 [00:00<00:00, 1088.48it/s]\n"
     ]
    },
    {
     "name": "stdout",
     "output_type": "stream",
     "text": [
      "Epoch: 163     Loss: 0.12407     Training Acc: 0.96128     Validation Acc: 0.95949\n"
     ]
    },
    {
     "name": "stderr",
     "output_type": "stream",
     "text": [
      "Batch: 100%|███████████████████████████████████████████████████████████████████████| 240/240 [00:00<00:00, 1096.15it/s]\n"
     ]
    },
    {
     "name": "stdout",
     "output_type": "stream",
     "text": [
      "Epoch: 164     Loss: 0.12393     Training Acc: 0.96119     Validation Acc: 0.95954\n"
     ]
    },
    {
     "name": "stderr",
     "output_type": "stream",
     "text": [
      "Batch: 100%|████████████████████████████████████████████████████████████████████████| 240/240 [00:00<00:00, 984.14it/s]\n"
     ]
    },
    {
     "name": "stdout",
     "output_type": "stream",
     "text": [
      "Epoch: 165     Loss: 0.1238     Training Acc: 0.96111     Validation Acc: 0.95959\n"
     ]
    },
    {
     "name": "stderr",
     "output_type": "stream",
     "text": [
      "Batch: 100%|███████████████████████████████████████████████████████████████████████| 240/240 [00:00<00:00, 1031.41it/s]\n"
     ]
    },
    {
     "name": "stdout",
     "output_type": "stream",
     "text": [
      "Epoch: 166     Loss: 0.12367     Training Acc: 0.96119     Validation Acc: 0.95964\n"
     ]
    },
    {
     "name": "stderr",
     "output_type": "stream",
     "text": [
      "Batch: 100%|███████████████████████████████████████████████████████████████████████| 240/240 [00:00<00:00, 1165.49it/s]\n"
     ]
    },
    {
     "name": "stdout",
     "output_type": "stream",
     "text": [
      "Epoch: 167     Loss: 0.12354     Training Acc: 0.96128     Validation Acc: 0.95968\n"
     ]
    },
    {
     "name": "stderr",
     "output_type": "stream",
     "text": [
      "Batch: 100%|███████████████████████████████████████████████████████████████████████| 240/240 [00:00<00:00, 1102.29it/s]\n"
     ]
    },
    {
     "name": "stdout",
     "output_type": "stream",
     "text": [
      "Epoch: 168     Loss: 0.1234     Training Acc: 0.96136     Validation Acc: 0.95973\n"
     ]
    },
    {
     "name": "stderr",
     "output_type": "stream",
     "text": [
      "Batch: 100%|███████████████████████████████████████████████████████████████████████| 240/240 [00:00<00:00, 1097.71it/s]\n"
     ]
    },
    {
     "name": "stdout",
     "output_type": "stream",
     "text": [
      "Epoch: 169     Loss: 0.12328     Training Acc: 0.96128     Validation Acc: 0.95978\n"
     ]
    },
    {
     "name": "stderr",
     "output_type": "stream",
     "text": [
      "Batch: 100%|███████████████████████████████████████████████████████████████████████| 240/240 [00:00<00:00, 1033.00it/s]\n"
     ]
    },
    {
     "name": "stdout",
     "output_type": "stream",
     "text": [
      "Epoch: 170     Loss: 0.12315     Training Acc: 0.96136     Validation Acc: 0.95982\n"
     ]
    },
    {
     "name": "stderr",
     "output_type": "stream",
     "text": [
      "Batch: 100%|███████████████████████████████████████████████████████████████████████| 240/240 [00:00<00:00, 1203.18it/s]\n"
     ]
    },
    {
     "name": "stdout",
     "output_type": "stream",
     "text": [
      "Epoch: 171     Loss: 0.12302     Training Acc: 0.96144     Validation Acc: 0.95986\n"
     ]
    },
    {
     "name": "stderr",
     "output_type": "stream",
     "text": [
      "Batch: 100%|███████████████████████████████████████████████████████████████████████| 240/240 [00:00<00:00, 1114.26it/s]\n"
     ]
    },
    {
     "name": "stdout",
     "output_type": "stream",
     "text": [
      "Epoch: 172     Loss: 0.12289     Training Acc: 0.96144     Validation Acc: 0.95991\n"
     ]
    },
    {
     "name": "stderr",
     "output_type": "stream",
     "text": [
      "Batch: 100%|███████████████████████████████████████████████████████████████████████| 240/240 [00:00<00:00, 1108.02it/s]\n"
     ]
    },
    {
     "name": "stdout",
     "output_type": "stream",
     "text": [
      "Epoch: 173     Loss: 0.12277     Training Acc: 0.96144     Validation Acc: 0.95995\n"
     ]
    },
    {
     "name": "stderr",
     "output_type": "stream",
     "text": [
      "Batch: 100%|████████████████████████████████████████████████████████████████████████| 240/240 [00:00<00:00, 979.38it/s]\n"
     ]
    },
    {
     "name": "stdout",
     "output_type": "stream",
     "text": [
      "Epoch: 174     Loss: 0.12265     Training Acc: 0.96153     Validation Acc: 0.95999\n"
     ]
    },
    {
     "name": "stderr",
     "output_type": "stream",
     "text": [
      "Batch: 100%|████████████████████████████████████████████████████████████████████████| 240/240 [00:00<00:00, 996.18it/s]\n"
     ]
    },
    {
     "name": "stdout",
     "output_type": "stream",
     "text": [
      "Epoch: 175     Loss: 0.12253     Training Acc: 0.96161     Validation Acc: 0.96004\n"
     ]
    },
    {
     "name": "stderr",
     "output_type": "stream",
     "text": [
      "Batch: 100%|███████████████████████████████████████████████████████████████████████| 240/240 [00:00<00:00, 1142.69it/s]\n"
     ]
    },
    {
     "name": "stdout",
     "output_type": "stream",
     "text": [
      "Epoch: 176     Loss: 0.12241     Training Acc: 0.96153     Validation Acc: 0.96008\n"
     ]
    },
    {
     "name": "stderr",
     "output_type": "stream",
     "text": [
      "Batch: 100%|███████████████████████████████████████████████████████████████████████| 240/240 [00:00<00:00, 1238.33it/s]\n"
     ]
    },
    {
     "name": "stdout",
     "output_type": "stream",
     "text": [
      "Epoch: 177     Loss: 0.12228     Training Acc: 0.96169     Validation Acc: 0.96012\n"
     ]
    },
    {
     "name": "stderr",
     "output_type": "stream",
     "text": [
      "Batch: 100%|███████████████████████████████████████████████████████████████████████| 240/240 [00:00<00:00, 1169.32it/s]\n"
     ]
    },
    {
     "name": "stdout",
     "output_type": "stream",
     "text": [
      "Epoch: 178     Loss: 0.12217     Training Acc: 0.96178     Validation Acc: 0.96017\n"
     ]
    },
    {
     "name": "stderr",
     "output_type": "stream",
     "text": [
      "Batch: 100%|████████████████████████████████████████████████████████████████████████| 240/240 [00:00<00:00, 943.04it/s]\n"
     ]
    },
    {
     "name": "stdout",
     "output_type": "stream",
     "text": [
      "Epoch: 179     Loss: 0.12205     Training Acc: 0.96178     Validation Acc: 0.96021\n"
     ]
    },
    {
     "name": "stderr",
     "output_type": "stream",
     "text": [
      "Batch: 100%|███████████████████████████████████████████████████████████████████████| 240/240 [00:00<00:00, 1050.26it/s]\n"
     ]
    },
    {
     "name": "stdout",
     "output_type": "stream",
     "text": [
      "Epoch: 180     Loss: 0.12194     Training Acc: 0.96194     Validation Acc: 0.96025\n"
     ]
    },
    {
     "name": "stderr",
     "output_type": "stream",
     "text": [
      "Batch: 100%|████████████████████████████████████████████████████████████████████████| 240/240 [00:00<00:00, 984.84it/s]\n"
     ]
    },
    {
     "name": "stdout",
     "output_type": "stream",
     "text": [
      "Epoch: 181     Loss: 0.12182     Training Acc: 0.96178     Validation Acc: 0.96029\n"
     ]
    },
    {
     "name": "stderr",
     "output_type": "stream",
     "text": [
      "Batch: 100%|████████████████████████████████████████████████████████████████████████| 240/240 [00:00<00:00, 939.59it/s]\n"
     ]
    },
    {
     "name": "stdout",
     "output_type": "stream",
     "text": [
      "Epoch: 182     Loss: 0.1217     Training Acc: 0.96178     Validation Acc: 0.96033\n"
     ]
    },
    {
     "name": "stderr",
     "output_type": "stream",
     "text": [
      "Batch: 100%|████████████████████████████████████████████████████████████████████████| 240/240 [00:00<00:00, 995.21it/s]\n"
     ]
    },
    {
     "name": "stdout",
     "output_type": "stream",
     "text": [
      "Epoch: 183     Loss: 0.12159     Training Acc: 0.96194     Validation Acc: 0.96036\n"
     ]
    },
    {
     "name": "stderr",
     "output_type": "stream",
     "text": [
      "Batch: 100%|███████████████████████████████████████████████████████████████████████| 240/240 [00:00<00:00, 1040.18it/s]\n"
     ]
    },
    {
     "name": "stdout",
     "output_type": "stream",
     "text": [
      "Epoch: 184     Loss: 0.12148     Training Acc: 0.96194     Validation Acc: 0.9604\n"
     ]
    },
    {
     "name": "stderr",
     "output_type": "stream",
     "text": [
      "Batch: 100%|███████████████████████████████████████████████████████████████████████| 240/240 [00:00<00:00, 1131.74it/s]\n"
     ]
    },
    {
     "name": "stdout",
     "output_type": "stream",
     "text": [
      "Epoch: 185     Loss: 0.12136     Training Acc: 0.96194     Validation Acc: 0.96044\n"
     ]
    },
    {
     "name": "stderr",
     "output_type": "stream",
     "text": [
      "Batch: 100%|███████████████████████████████████████████████████████████████████████| 240/240 [00:00<00:00, 1079.32it/s]\n"
     ]
    },
    {
     "name": "stdout",
     "output_type": "stream",
     "text": [
      "Epoch: 186     Loss: 0.12126     Training Acc: 0.96194     Validation Acc: 0.96048\n"
     ]
    },
    {
     "name": "stderr",
     "output_type": "stream",
     "text": [
      "Batch: 100%|███████████████████████████████████████████████████████████████████████| 240/240 [00:00<00:00, 1068.96it/s]\n"
     ]
    },
    {
     "name": "stdout",
     "output_type": "stream",
     "text": [
      "Epoch: 187     Loss: 0.12115     Training Acc: 0.96194     Validation Acc: 0.96051\n"
     ]
    },
    {
     "name": "stderr",
     "output_type": "stream",
     "text": [
      "Batch: 100%|████████████████████████████████████████████████████████████████████████| 240/240 [00:00<00:00, 961.29it/s]\n"
     ]
    },
    {
     "name": "stdout",
     "output_type": "stream",
     "text": [
      "Epoch: 188     Loss: 0.12104     Training Acc: 0.96194     Validation Acc: 0.96055\n"
     ]
    },
    {
     "name": "stderr",
     "output_type": "stream",
     "text": [
      "Batch: 100%|███████████████████████████████████████████████████████████████████████| 240/240 [00:00<00:00, 1022.65it/s]\n"
     ]
    },
    {
     "name": "stdout",
     "output_type": "stream",
     "text": [
      "Epoch: 189     Loss: 0.12093     Training Acc: 0.96203     Validation Acc: 0.96058\n"
     ]
    },
    {
     "name": "stderr",
     "output_type": "stream",
     "text": [
      "Batch: 100%|███████████████████████████████████████████████████████████████████████| 240/240 [00:00<00:00, 1032.12it/s]\n"
     ]
    },
    {
     "name": "stdout",
     "output_type": "stream",
     "text": [
      "Epoch: 190     Loss: 0.12082     Training Acc: 0.96203     Validation Acc: 0.96062\n"
     ]
    },
    {
     "name": "stderr",
     "output_type": "stream",
     "text": [
      "Batch: 100%|███████████████████████████████████████████████████████████████████████| 240/240 [00:00<00:00, 1043.49it/s]\n"
     ]
    },
    {
     "name": "stdout",
     "output_type": "stream",
     "text": [
      "Epoch: 191     Loss: 0.12071     Training Acc: 0.96194     Validation Acc: 0.96065\n"
     ]
    },
    {
     "name": "stderr",
     "output_type": "stream",
     "text": [
      "Batch: 100%|████████████████████████████████████████████████████████████████████████| 240/240 [00:00<00:00, 917.09it/s]\n"
     ]
    },
    {
     "name": "stdout",
     "output_type": "stream",
     "text": [
      "Epoch: 192     Loss: 0.12061     Training Acc: 0.96228     Validation Acc: 0.96069\n"
     ]
    },
    {
     "name": "stderr",
     "output_type": "stream",
     "text": [
      "Batch: 100%|███████████████████████████████████████████████████████████████████████| 240/240 [00:00<00:00, 1001.63it/s]\n"
     ]
    },
    {
     "name": "stdout",
     "output_type": "stream",
     "text": [
      "Epoch: 193     Loss: 0.1205     Training Acc: 0.96211     Validation Acc: 0.96072\n"
     ]
    },
    {
     "name": "stderr",
     "output_type": "stream",
     "text": [
      "Batch: 100%|████████████████████████████████████████████████████████████████████████| 240/240 [00:00<00:00, 934.94it/s]\n"
     ]
    },
    {
     "name": "stdout",
     "output_type": "stream",
     "text": [
      "Epoch: 194     Loss: 0.1204     Training Acc: 0.96211     Validation Acc: 0.96075\n"
     ]
    },
    {
     "name": "stderr",
     "output_type": "stream",
     "text": [
      "Batch: 100%|███████████████████████████████████████████████████████████████████████| 240/240 [00:00<00:00, 1020.08it/s]\n"
     ]
    },
    {
     "name": "stdout",
     "output_type": "stream",
     "text": [
      "Epoch: 195     Loss: 0.1203     Training Acc: 0.96211     Validation Acc: 0.96079\n"
     ]
    },
    {
     "name": "stderr",
     "output_type": "stream",
     "text": [
      "Batch: 100%|████████████████████████████████████████████████████████████████████████| 240/240 [00:00<00:00, 999.99it/s]\n"
     ]
    },
    {
     "name": "stdout",
     "output_type": "stream",
     "text": [
      "Epoch: 196     Loss: 0.12019     Training Acc: 0.96219     Validation Acc: 0.96082\n"
     ]
    },
    {
     "name": "stderr",
     "output_type": "stream",
     "text": [
      "Batch: 100%|███████████████████████████████████████████████████████████████████████| 240/240 [00:00<00:00, 1011.86it/s]\n"
     ]
    },
    {
     "name": "stdout",
     "output_type": "stream",
     "text": [
      "Epoch: 197     Loss: 0.12009     Training Acc: 0.96211     Validation Acc: 0.96085\n"
     ]
    },
    {
     "name": "stderr",
     "output_type": "stream",
     "text": [
      "Batch: 100%|███████████████████████████████████████████████████████████████████████| 240/240 [00:00<00:00, 1162.37it/s]\n"
     ]
    },
    {
     "name": "stdout",
     "output_type": "stream",
     "text": [
      "Epoch: 198     Loss: 0.11999     Training Acc: 0.96228     Validation Acc: 0.96088\n"
     ]
    },
    {
     "name": "stderr",
     "output_type": "stream",
     "text": [
      "Batch: 100%|████████████████████████████████████████████████████████████████████████| 240/240 [00:00<00:00, 962.37it/s]\n"
     ]
    },
    {
     "name": "stdout",
     "output_type": "stream",
     "text": [
      "Epoch: 199     Loss: 0.11989     Training Acc: 0.96236     Validation Acc: 0.96091\n"
     ]
    },
    {
     "data": {
      "text/plain": [
       "0.09501025331349161"
      ]
     },
     "execution_count": 39,
     "metadata": {},
     "output_type": "execute_result"
    }
   ],
   "source": [
    "#hide\n",
    "model_logistic = Model([Affine(\"logits\", 784, 1), Sigmoid(\"sigmoid\")])\n",
    "\n",
    "learner2 = Learner(loss, model_logistic, opt, config.num_epochs)\n",
    "acc2 = AccCallback(learner2, config.bs)\n",
    "learner2.set_callbacks([acc2])\n",
    "learner2.train_loop(train_dl,X_test, y_test)"
   ]
  },
  {
   "cell_type": "code",
   "execution_count": 40,
   "metadata": {
    "scrolled": false
   },
   "outputs": [
    {
     "data": {
      "image/png": "[encoded data removed]",
      "text/plain": [
       "<Figure size 1008x504 with 1 Axes>"
      ]
     },
     "metadata": {
      "needs_background": "light"
     },
     "output_type": "display_data"
    }
   ],
   "source": [
    "#collapse\n",
    "plt.figure(figsize=(14,7))\n",
    "plt.plot(acc.test_accuracies, 'g-', label = \"Val Accuracy - NN\")\n",
    "plt.plot(acc.accuracies, 'r-', label = \"Training Accuracy - NN\")\n",
    "plt.plot(acc2.test_accuracies, 'b-',linestyle=\"--\", label = \"Val Accuracy - Logistic Reg\")\n",
    "plt.plot(acc2.accuracies, 'c-',linestyle=\"--\", label = \"Training Accuracy - Logistic Reg\")\n",
    "plt.ylim(0.8,1) ## for a more spread out view\n",
    "plt.legend()\n",
    "plt.title(\"Comparing NN accuracies & Logistic Regression Model accuracy\");"
   ]
  },
  {
   "cell_type": "code",
   "execution_count": 48,
   "metadata": {},
   "outputs": [
    {
     "name": "stdout",
     "output_type": "stream",
     "text": [
      "Your model accuracy is 96.28383216382643.\n"
     ]
    }
   ],
   "source": [
    "#collapse\n",
    "actual_inputs = np.concatenate((X_train, X_test))\n",
    "actual_outputs = np.concatenate((y_train, y_test))\n",
    "predicted_outputs =  1*(model_logistic(actual_inputs) >= 0.5)\n",
    "\n",
    "print(\"Your model accuracy is \"+ str(np.mean(actual_outputs == predicted_outputs) * 100) +'.')"
   ]
  },
  {
   "cell_type": "markdown",
   "metadata": {},
   "source": [
    "...And the winner is our lovely Neural Network model!\n",
    "\n",
    "Looking at this graph, clearly the Neural network performed better than our simple logistics model. "
   ]
  },
  {
   "cell_type": "markdown",
   "metadata": {},
   "source": [
    "## Beauty of Neural Networks"
   ]
  },
  {
   "cell_type": "markdown",
   "metadata": {},
   "source": [
    "Now that we've seen both these different types of models performing, you might have the question - why and how is it doing what it does?\n",
    "\n",
    "Well, Neural networks are absolutely brilliant in the way they work - and brilliance doesn't really need to equate itself with being increasingly complex. With the right mindset and understanding, you will come to realize the beauty in the simplicity of how it works. \n",
    "\n",
    "As a matter of fact, the Universal Approximation Theorem ,to me, is the theoretical foundation of why neural networks work.\n",
    "\n",
    "It states that a neural network with one hidden layer containing a sufficient but finite number of neurons can approximate any continuous function to a reasonable accuracy, under certain conditions for activation functions (namely, that they must be sigmoid-like).\n",
    "\n",
    "It was formulated in 1989 by George Cybenko only for sigmoid activations - however later on it was proven by Kurt Hornik in 1991 that it can be applied to all activation functions.\n",
    "\n",
    "Hornik also came to realize that the architecture of the neural network, not the choice of function, was the key deciding factor for the performance- and this discovery was significant in sparking the exciting developement of neural networks into the variety of applications it does today. \n",
    "\n",
    "I believe that understanding it might be a good step towards understanding truly how these networks work. "
   ]
  },
  {
   "cell_type": "markdown",
   "metadata": {},
   "source": [
    "Without delving too much into the details and mathematics of it, the key point of how the Universal Approximation theory works is the following -\n",
    "\n",
    ">Instead of trying to create a complex function that maps your inputs to your outputs, divide your function into smaller peices and assign a neuron performing simple linear manipulations to each of these less complicated peices to represent it.\n",
    "\n",
    "One of my favorite teachers is Grant from 3Blue1Brown and the one thing that stuck with me from his videos is that given any complex problem, always try to break it down to its most simplest form. \n",
    "\n",
    "And this is what we are doing here!\n",
    "\n",
    "One of the things to note however is that the Universal Approximation theorm *isn't meant to generalize well.*\n",
    "\n",
    "Wait, what?\n",
    "\n",
    "Yes - neural networks generally just pose as great approximators but if you provide it with a value outside the range of the inputs, it would most probably fail. \n",
    "\n",
    "This is sorta similar to the limited Taylor series apprixmation that models a sine wave in a certain range but it goes bezerk ourside of it. \n",
    "\n",
    "Ultimately, neural networks are really estimators that are able to solve multi-dimensional problems and this is quite impressive by itself. \n",
    "\n",
    "I understand that there are a lot of perspectives and there's so much to explore! And that is exactly what makes this field exciting. \n",
    "\n",
    "At the end, if there's one of many things humanity can be proud, then it's definately the fact that we taught our computers to distingush cats and dogs! \n",
    "\n"
   ]
  }
 ],
 "metadata": {
  "kernelspec": {
   "display_name": "Python 3",
   "language": "python",
   "name": "python3"
  },
  "language_info": {
   "codemirror_mode": {
    "name": "ipython",
    "version": 3
   },
   "file_extension": ".py",
   "mimetype": "text/x-python",
   "name": "python",
   "nbconvert_exporter": "python",
   "pygments_lexer": "ipython3",
   "version": "3.7.4"
  }
 },
 "nbformat": 4,
 "nbformat_minor": 4
}
